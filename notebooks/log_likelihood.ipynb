{
 "metadata": {
  "name": "",
  "signature": "sha256:38553dee990945795bd9767fe7c531ff7f44addd3ea2100947682475649f7fbe"
 },
 "nbformat": 3,
 "nbformat_minor": 0,
 "worksheets": [
  {
   "cells": [
    {
     "cell_type": "code",
     "collapsed": false,
     "input": [
      "from __future__ import print_function, division\n",
      "import numpy as np\n",
      "import theano\n",
      "import theano.tensor as T"
     ],
     "language": "python",
     "metadata": {},
     "outputs": [],
     "prompt_number": 51
    },
    {
     "cell_type": "code",
     "collapsed": false,
     "input": [
      "mixing = np.array([0.5, 0.5])\n",
      "sigma = np.array([0.1, 0.1])\n",
      "mu = np.array([-1, 2])\n",
      "t = np.array([-1., 2])\n",
      "n = len(t)\n",
      "\n",
      "log_likelihood = (\n",
      "    - 0.5 * n * np.log(2 * np.pi)\n",
      "    - 0.5 * n * np.log(sigma)\n",
      "    - 0.5 * (1.0 / sigma) * np.sum((t - np.tile(mu, (n,1)))**2, axis=0)\n",
      "    + mixing\n",
      ")\n",
      "\n",
      "-log_likelihood"
     ],
     "language": "python",
     "metadata": {},
     "outputs": [
      {
       "metadata": {},
       "output_type": "pyout",
       "prompt_number": 2,
       "text": [
        "array([-0.96470803, -0.96470803])"
       ]
      }
     ],
     "prompt_number": 2
    },
    {
     "cell_type": "code",
     "collapsed": false,
     "input": [
      "arr = theano.shared(np.random.randn(2,3,4,5))"
     ],
     "language": "python",
     "metadata": {},
     "outputs": [],
     "prompt_number": 8
    },
    {
     "cell_type": "code",
     "collapsed": false,
     "input": [
      "arr.flatten(2).shape.eval()"
     ],
     "language": "python",
     "metadata": {},
     "outputs": [
      {
       "metadata": {},
       "output_type": "pyout",
       "prompt_number": 13,
       "text": [
        "array([ 2, 60])"
       ]
      }
     ],
     "prompt_number": 13
    },
    {
     "cell_type": "code",
     "collapsed": false,
     "input": [
      "T.concatenate([arr, arr], axis=3).shape.eval()"
     ],
     "language": "python",
     "metadata": {},
     "outputs": [
      {
       "metadata": {},
       "output_type": "pyout",
       "prompt_number": 24,
       "text": [
        "array([ 2,  3,  4, 10])"
       ]
      }
     ],
     "prompt_number": 24
    },
    {
     "cell_type": "code",
     "collapsed": false,
     "input": [
      "arr.flatten(1).dimshuffle('x',0).eval()"
     ],
     "language": "python",
     "metadata": {},
     "outputs": [
      {
       "metadata": {},
       "output_type": "pyout",
       "prompt_number": 36,
       "text": [
        "array([[ -9.24148613e-01,  -5.73637324e-01,   2.99802132e-01,\n",
        "         -1.85171038e-01,  -6.37483579e-01,  -2.94061795e+00,\n",
        "         -2.22821661e-01,  -1.06999928e+00,  -8.55054985e-01,\n",
        "          1.19949253e+00,  -8.08247875e-01,  -6.12313843e-01,\n",
        "         -1.19242190e+00,   1.73176434e-01,   1.31739943e+00,\n",
        "         -2.92787259e+00,  -6.43583284e-01,   2.54871351e-01,\n",
        "         -4.53157892e-01,   1.77625607e+00,   4.09646239e-01,\n",
        "         -7.14927891e-01,  -2.64463746e-01,   2.68219258e-01,\n",
        "         -1.48696838e-01,  -2.77845021e-01,  -2.22491007e-01,\n",
        "         -1.70205439e+00,  -8.81109073e-02,   7.70872889e-01,\n",
        "         -4.30556157e-01,  -1.47446973e+00,  -1.35885521e+00,\n",
        "          1.11411817e+00,  -2.90778500e-02,  -5.75589972e-02,\n",
        "         -1.34574343e+00,  -3.01578678e-01,   4.93330734e-01,\n",
        "          2.31859305e-03,  -1.69471784e-01,  -1.27965633e+00,\n",
        "         -2.39504623e+00,   4.19813636e-01,  -1.65213771e-01,\n",
        "          5.65819000e-01,  -5.07072638e-01,  -3.06731756e-01,\n",
        "         -5.67809339e-01,  -9.84835689e-01,   2.44289288e-01,\n",
        "         -2.60249167e-01,  -1.49897459e+00,  -8.96275382e-01,\n",
        "         -1.11356148e+00,  -5.37669968e-01,   1.40052282e+00,\n",
        "         -1.97524391e-01,  -9.18473385e-02,   8.53766118e-01,\n",
        "         -1.46818409e+00,  -2.52042520e+00,  -7.61641016e-01,\n",
        "          2.10546053e-01,  -1.48260867e+00,  -1.54835987e-01,\n",
        "         -1.18045351e+00,   1.39501590e+00,  -1.32934876e+00,\n",
        "         -8.06690534e-01,   3.94083719e-01,  -4.27963699e-01,\n",
        "         -9.88124270e-03,   6.10088741e-01,   2.53802263e-01,\n",
        "          4.15084704e-01,  -6.53665720e-01,   2.57121200e-01,\n",
        "          8.38647004e-01,  -8.36748694e-02,   1.40443651e+00,\n",
        "          4.54911246e-01,  -9.41950580e-01,   1.35472057e+00,\n",
        "          1.84895411e+00,  -2.37960428e-01,  -4.12642229e-01,\n",
        "          3.09626814e+00,   1.74439702e-01,  -3.32648778e-01,\n",
        "         -1.65707947e-01,   3.78938907e-01,   1.70763998e+00,\n",
        "          6.60122403e-01,   1.51485907e+00,   5.94977001e-02,\n",
        "          2.12502027e+00,  -7.57695000e-01,   1.48680401e-02,\n",
        "          2.20355157e-02,  -1.02231774e-01,   1.72460814e+00,\n",
        "          5.27602671e-01,  -9.00757587e-01,  -2.87797480e-01,\n",
        "         -2.31649129e+00,  -3.23947949e-01,  -1.28837534e+00,\n",
        "         -2.97323005e-01,  -1.36509387e+00,  -5.66829979e-01,\n",
        "         -7.07379720e-01,  -1.11894148e+00,  -1.03882029e+00,\n",
        "         -6.12277883e-01,  -2.19157333e+00,   5.82078719e-01,\n",
        "          4.47165778e-01,   2.62643687e-01,  -7.52425132e-01]])"
       ]
      }
     ],
     "prompt_number": 36
    },
    {
     "cell_type": "code",
     "collapsed": false,
     "input": [
      "b = theano.shared(np.random.randn(3,))"
     ],
     "language": "python",
     "metadata": {},
     "outputs": [],
     "prompt_number": 37
    },
    {
     "cell_type": "code",
     "collapsed": false,
     "input": [
      "b.dimshuffle('x', 0).eval()"
     ],
     "language": "python",
     "metadata": {},
     "outputs": [
      {
       "metadata": {},
       "output_type": "pyout",
       "prompt_number": 43,
       "text": [
        "array([[-0.38564482, -0.21376647,  0.18451497]])"
       ]
      }
     ],
     "prompt_number": 43
    },
    {
     "cell_type": "code",
     "collapsed": false,
     "input": [
      "inp = theano.shared(np.random.randn(5,10), name='inp')\n",
      "W = theano.shared(np.random.randn(10, 3), name='W')"
     ],
     "language": "python",
     "metadata": {},
     "outputs": [],
     "prompt_number": 2
    },
    {
     "cell_type": "code",
     "collapsed": false,
     "input": [
      "T.dot(inp, W).shape.eval()"
     ],
     "language": "python",
     "metadata": {},
     "outputs": [
      {
       "metadata": {},
       "output_type": "pyout",
       "prompt_number": 3,
       "text": [
        "array([5, 3])"
       ]
      }
     ],
     "prompt_number": 3
    },
    {
     "cell_type": "code",
     "collapsed": false,
     "input": [],
     "language": "python",
     "metadata": {},
     "outputs": []
    },
    {
     "cell_type": "code",
     "collapsed": false,
     "input": [
      "W.reshape?"
     ],
     "language": "python",
     "metadata": {},
     "outputs": [],
     "prompt_number": 12
    },
    {
     "cell_type": "code",
     "collapsed": false,
     "input": [
      "from neuralnilm.layers import MixtureDensityLayer\n",
      "from lasagne.layers import InputLayer"
     ],
     "language": "python",
     "metadata": {},
     "outputs": [],
     "prompt_number": 3
    },
    {
     "cell_type": "code",
     "collapsed": false,
     "input": [
      "i_l = InputLayer(shape=(5,10))"
     ],
     "language": "python",
     "metadata": {},
     "outputs": [],
     "prompt_number": 4
    },
    {
     "cell_type": "code",
     "collapsed": false,
     "input": [
      "mdn = MixtureDensityLayer(i_l, num_units=1, num_components=2)"
     ],
     "language": "python",
     "metadata": {},
     "outputs": [],
     "prompt_number": 14
    },
    {
     "cell_type": "code",
     "collapsed": false,
     "input": [
      "mdn.get_output_shape()"
     ],
     "language": "python",
     "metadata": {},
     "outputs": [
      {
       "metadata": {},
       "output_type": "pyout",
       "prompt_number": 15,
       "text": [
        "(5, 1, 2, 3)"
       ]
      }
     ],
     "prompt_number": 15
    },
    {
     "cell_type": "code",
     "collapsed": false,
     "input": [
      "mdn.get_output_for(inp).shape.eval()"
     ],
     "language": "python",
     "metadata": {},
     "outputs": [
      {
       "metadata": {},
       "output_type": "pyout",
       "prompt_number": 16,
       "text": [
        "array([5, 1, 2, 3])"
       ]
      }
     ],
     "prompt_number": 16
    },
    {
     "cell_type": "code",
     "collapsed": false,
     "input": [
      "mdn.get_output_for(inp).eval()[:,:,:,2].shape"
     ],
     "language": "python",
     "metadata": {},
     "outputs": [
      {
       "metadata": {},
       "output_type": "pyout",
       "prompt_number": 19,
       "text": [
        "(5, 1, 2)"
       ]
      }
     ],
     "prompt_number": 19
    },
    {
     "cell_type": "code",
     "collapsed": false,
     "input": [
      "test = theano.shared(np.random.randn(4, 3, 2), name='test')"
     ],
     "language": "python",
     "metadata": {},
     "outputs": [],
     "prompt_number": 8
    },
    {
     "cell_type": "code",
     "collapsed": false,
     "input": [
      "T.concatenate((T.shape_padright(test), T.shape_padright(test)), axis=3).eval()"
     ],
     "language": "python",
     "metadata": {},
     "outputs": [
      {
       "metadata": {},
       "output_type": "pyout",
       "prompt_number": 17,
       "text": [
        "array([[[[ 0.35023724,  0.35023724],\n",
        "         [ 0.88620884,  0.88620884]],\n",
        "\n",
        "        [[ 2.20136729,  2.20136729],\n",
        "         [ 0.13552071,  0.13552071]],\n",
        "\n",
        "        [[ 0.98597707,  0.98597707],\n",
        "         [ 0.95432965,  0.95432965]]],\n",
        "\n",
        "\n",
        "       [[[ 0.08782344,  0.08782344],\n",
        "         [-0.7312077 , -0.7312077 ]],\n",
        "\n",
        "        [[ 0.76797193,  0.76797193],\n",
        "         [ 0.21512934,  0.21512934]],\n",
        "\n",
        "        [[-0.63539776, -0.63539776],\n",
        "         [-1.02058442, -1.02058442]]],\n",
        "\n",
        "\n",
        "       [[[-0.03939722, -0.03939722],\n",
        "         [ 1.25695408,  1.25695408]],\n",
        "\n",
        "        [[-0.50788745, -0.50788745],\n",
        "         [ 0.97470263,  0.97470263]],\n",
        "\n",
        "        [[ 0.83620002,  0.83620002],\n",
        "         [-0.02224405, -0.02224405]]],\n",
        "\n",
        "\n",
        "       [[[ 0.35969195,  0.35969195],\n",
        "         [ 0.61311065,  0.61311065]],\n",
        "\n",
        "        [[-0.92769775, -0.92769775],\n",
        "         [ 1.11723909,  1.11723909]],\n",
        "\n",
        "        [[ 0.45246166,  0.45246166],\n",
        "         [ 1.66835887,  1.66835887]]]])"
       ]
      }
     ],
     "prompt_number": 17
    },
    {
     "cell_type": "code",
     "collapsed": false,
     "input": [
      "BATCH_SIZE = 10\n",
      "N_INPUTS = 5\n",
      "N_OUTPUTS = 1\n",
      "N_COMPONENTS = 1\n",
      "\n",
      "i_l = InputLayer(shape=(BATCH_SIZE, N_INPUTS))\n",
      "inp = theano.shared(np.random.randn(BATCH_SIZE, N_INPUTS), name='inp')\n",
      "mdn = MixtureDensityLayer(i_l, num_units=N_OUTPUTS, num_components=N_COMPONENTS)\n",
      "y = mdn.get_output_for(inp)\n",
      "t = theano.shared(np.random.randn(BATCH_SIZE, N_OUTPUTS), name='t')"
     ],
     "language": "python",
     "metadata": {},
     "outputs": [],
     "prompt_number": 40
    },
    {
     "cell_type": "code",
     "collapsed": false,
     "input": [
      "mu = y[:,:,:,0]\n",
      "sigma = y[:,:,:,1]\n",
      "mixing = y[:,:,:,2]\n",
      "mu.name = 'mu'\n",
      "sigma.name = 'sigma'\n",
      "mixing.name = 'mixing'\n",
      "n = t.shape[0]"
     ],
     "language": "python",
     "metadata": {},
     "outputs": [],
     "prompt_number": 69
    },
    {
     "cell_type": "code",
     "collapsed": false,
     "input": [
      "mu.shape.eval()"
     ],
     "language": "python",
     "metadata": {},
     "outputs": [
      {
       "metadata": {},
       "output_type": "pyout",
       "prompt_number": 70,
       "text": [
        "array([10,  1,  1])"
       ]
      }
     ],
     "prompt_number": 70
    },
    {
     "cell_type": "code",
     "collapsed": false,
     "input": [
      "log_likelihood = (\n",
      "    - 0.5 * n * T.log(2 * np.pi)\n",
      "    - 0.5 * n * T.log(sigma)\n",
      "    # - 0.5 * (1.0 / sigma) * T.sum((t.dimshuffle(0, 1) - mu)**2, axis=1)\n",
      "    #+ mixing\n",
      ")"
     ],
     "language": "python",
     "metadata": {},
     "outputs": [],
     "prompt_number": 46
    },
    {
     "cell_type": "code",
     "collapsed": false,
     "input": [
      "log_likelihood.shape.eval()"
     ],
     "language": "python",
     "metadata": {},
     "outputs": [
      {
       "metadata": {},
       "output_type": "pyout",
       "prompt_number": 47,
       "text": [
        "array([10,  1])"
       ]
      }
     ],
     "prompt_number": 47
    },
    {
     "cell_type": "code",
     "collapsed": false,
     "input": [
      "T.sum((t.dimshuffle(0, 1) - mu)**2, axis=0).shape.eval()"
     ],
     "language": "python",
     "metadata": {},
     "outputs": [
      {
       "metadata": {},
       "output_type": "pyout",
       "prompt_number": 50,
       "text": [
        "array([1])"
       ]
      }
     ],
     "prompt_number": 50
    },
    {
     "cell_type": "code",
     "collapsed": false,
     "input": [
      "def normal_pdf(x, mu, sigma):\n",
      "    exponent = -((x - mu)**2) / (2 * sigma**2)\n",
      "    normaliser = sigma * T.sqrt(2 * np.pi)\n",
      "    return T.exp(exponent) / normaliser"
     ],
     "language": "python",
     "metadata": {},
     "outputs": [],
     "prompt_number": 52
    },
    {
     "cell_type": "code",
     "collapsed": false,
     "input": [
      "normal_pdf(1, 0, np.sqrt(1)).eval()"
     ],
     "language": "python",
     "metadata": {},
     "outputs": [
      {
       "metadata": {},
       "output_type": "pyout",
       "prompt_number": 121,
       "text": [
        "array(0.24197072451914337)"
       ]
      }
     ],
     "prompt_number": 121
    },
    {
     "cell_type": "code",
     "collapsed": false,
     "input": [
      "np.log(normal_pdf(1, 0, np.sqrt(1)).eval())"
     ],
     "language": "python",
     "metadata": {},
     "outputs": [
      {
       "metadata": {},
       "output_type": "pyout",
       "prompt_number": 95,
       "text": [
        "-1.4189385332046727"
       ]
      }
     ],
     "prompt_number": 95
    },
    {
     "cell_type": "code",
     "collapsed": false,
     "input": [
      "from scipy.stats import norm\n",
      "norm.logpdf(1, loc=0, scale=np.sqrt(1))"
     ],
     "language": "python",
     "metadata": {},
     "outputs": [
      {
       "metadata": {},
       "output_type": "pyout",
       "prompt_number": 105,
       "text": [
        "-1.4189385332046727"
       ]
      }
     ],
     "prompt_number": 105
    },
    {
     "cell_type": "code",
     "collapsed": false,
     "input": [
      "MINUS_HALF_LOG_2PI = np.float64(- 0.5 * np.log(2 * np.pi))\n",
      "def log_likelihood(t, mu, sigma, mixing=1):\n",
      "     return (\n",
      "        MINUS_HALF_LOG_2PI\n",
      "        - T.log(sigma)\n",
      "        - 0.5 * T.inv(sigma**2) * (t - mu)**2\n",
      "        + T.log(mixing)\n",
      "    )\n",
      "\n",
      "(T.exp(log_likelihood(1, 0, np.sqrt(1), 0.5)) + T.exp(log_likelihood(1, 0, np.sqrt(1), 0.5))).eval()"
     ],
     "language": "python",
     "metadata": {},
     "outputs": [
      {
       "metadata": {},
       "output_type": "pyout",
       "prompt_number": 127,
       "text": [
        "array(0.24197072405827277)"
       ]
      }
     ],
     "prompt_number": 127
    },
    {
     "cell_type": "code",
     "collapsed": false,
     "input": [
      "(T.exp(log_likelihood(1, 0, np.sqrt(1), 0.5) * log_likelihood(1, 0, np.sqrt(1), 0.5))).eval()"
     ],
     "language": "python",
     "metadata": {},
     "outputs": [
      {
       "metadata": {},
       "output_type": "pyout",
       "prompt_number": 131,
       "text": [
        "array(86.56590837486551)"
       ]
      }
     ],
     "prompt_number": 131
    },
    {
     "cell_type": "code",
     "collapsed": false,
     "input": [
      "log_likelihood(1, 0, np.sqrt(1), 0.5).eval() * log_likelihood(1, 0, np.sqrt(1), 0.5).eval()"
     ],
     "language": "python",
     "metadata": {},
     "outputs": [
      {
       "metadata": {},
       "output_type": "pyout",
       "prompt_number": 129,
       "text": [
        "4.4609060703341816"
       ]
      }
     ],
     "prompt_number": 129
    },
    {
     "cell_type": "code",
     "collapsed": false,
     "input": [
      "def log_likelihood(t, mu, sigma):\n",
      "     return (\n",
      "        - 0.5 * T.log(2 * np.pi)\n",
      "        - 2.0 * T.log(t - mu)\n",
      "        + T.log(2.0)\n",
      "        + T.log(sigma)\n",
      "    )\n",
      "\n",
      "log_likelihood(1, 0, np.sqrt(1)).eval()"
     ],
     "language": "python",
     "metadata": {},
     "outputs": [
      {
       "metadata": {},
       "output_type": "pyout",
       "prompt_number": 97,
       "text": [
        "array(-0.22579135074007306)"
       ]
      }
     ],
     "prompt_number": 97
    },
    {
     "cell_type": "code",
     "collapsed": false,
     "input": [
      "def normal_gmm(x, mu, sigma, mixing):\n",
      "    pdf_cumulator = 0.0\n",
      "    n_components = len(mu)\n",
      "    for component_i in range(n_components):\n",
      "        pdf = normal_pdf(x, mu[component_i], sigma[component_i])\n",
      "        pdf *= mixing[component_i]\n",
      "        pdf_cumulator += pdf\n",
      "    return pdf_cumulator\n",
      "    "
     ],
     "language": "python",
     "metadata": {},
     "outputs": [],
     "prompt_number": 122
    },
    {
     "cell_type": "code",
     "collapsed": false,
     "input": [
      "normal_gmm(1, [0,0], [np.sqrt(1),np.sqrt(1)], [.5, .5]).eval()"
     ],
     "language": "python",
     "metadata": {},
     "outputs": [
      {
       "metadata": {},
       "output_type": "pyout",
       "prompt_number": 123,
       "text": [
        "array(0.24197072451914337)"
       ]
      }
     ],
     "prompt_number": 123
    },
    {
     "cell_type": "code",
     "collapsed": false,
     "input": [
      "def list_to_shared(lst):\n",
      "    return theano.shared(np.array(lst))\n",
      "\n",
      "def normal_gmm_vectorised(x, mu, sigma, mixing):\n",
      "    # mu = list_to_shared(mu)\n",
      "    # sigma = list_to_shared(sigma)\n",
      "    # mixing = list_to_shared(mixing)\n",
      "    normal_pdfs = normal_pdf(x, mu, sigma)\n",
      "    return T.dot(normal_pdfs, mixing)"
     ],
     "language": "python",
     "metadata": {},
     "outputs": [],
     "prompt_number": 139
    },
    {
     "cell_type": "code",
     "collapsed": false,
     "input": [
      "normal_gmm_vectorised(1, [0,0], [np.sqrt(1),np.sqrt(1)], [.5, .5]).eval()"
     ],
     "language": "python",
     "metadata": {},
     "outputs": [
      {
       "metadata": {},
       "output_type": "pyout",
       "prompt_number": 137,
       "text": [
        "array(0.24197072451914337)"
       ]
      }
     ],
     "prompt_number": 137
    },
    {
     "cell_type": "code",
     "collapsed": false,
     "input": [
      "t.shape.eval()"
     ],
     "language": "python",
     "metadata": {},
     "outputs": [
      {
       "metadata": {},
       "output_type": "pyout",
       "prompt_number": 148,
       "text": [
        "array([10,  1])"
       ]
      }
     ],
     "prompt_number": 148
    },
    {
     "cell_type": "code",
     "collapsed": false,
     "input": [
      "mu.shape.eval()"
     ],
     "language": "python",
     "metadata": {},
     "outputs": [
      {
       "metadata": {},
       "output_type": "pyout",
       "prompt_number": 149,
       "text": [
        "array([10,  1,  1])"
       ]
      }
     ],
     "prompt_number": 149
    },
    {
     "cell_type": "code",
     "collapsed": false,
     "input": [
      "(t.dimshuffle(0,1,'x') - mu).shape.eval()"
     ],
     "language": "python",
     "metadata": {},
     "outputs": [
      {
       "metadata": {},
       "output_type": "pyout",
       "prompt_number": 150,
       "text": [
        "array([10,  1,  1])"
       ]
      }
     ],
     "prompt_number": 150
    },
    {
     "cell_type": "code",
     "collapsed": false,
     "input": [
      "normal_pdf(t.dimshuffle(0,1,'x'), mu, sigma).reshape((10, 1)).eval()"
     ],
     "language": "python",
     "metadata": {},
     "outputs": [
      {
       "metadata": {},
       "output_type": "pyout",
       "prompt_number": 155,
       "text": [
        "array([[  1.11667743e-01],\n",
        "       [  1.63015763e-05],\n",
        "       [  1.15920473e-82],\n",
        "       [  3.56634647e-04],\n",
        "       [  6.40570802e-02],\n",
        "       [  1.75931391e-01],\n",
        "       [  8.25700714e-02],\n",
        "       [  1.38029897e-01],\n",
        "       [  0.00000000e+00],\n",
        "       [  4.22842335e-01]])"
       ]
      }
     ],
     "prompt_number": 155
    },
    {
     "cell_type": "code",
     "collapsed": false,
     "input": [
      "def nll():\n",
      "    log_likelihood = 0.0\n",
      "    for batch_i in range(BATCH_SIZE):\n",
      "        for output_i in range(N_OUTPUTS):\n",
      "            lh = normal_gmm(\n",
      "                t[batch_i, output_i], \n",
      "                mu[batch_i, output_i, :],\n",
      "                sigma[batch_i, output_i, :],\n",
      "                mixing[batch_i, output_i, :]\n",
      "            )\n",
      "            print(lh.eval())\n",
      "            log_likelihood += T.log(lh)\n",
      "            print(log_likelihood.eval())\n",
      "            print()\n",
      "    return -log_likelihood"
     ],
     "language": "python",
     "metadata": {},
     "outputs": [],
     "prompt_number": 88
    },
    {
     "cell_type": "code",
     "collapsed": false,
     "input": [
      "neglogl = nll()"
     ],
     "language": "python",
     "metadata": {},
     "outputs": [
      {
       "output_type": "stream",
       "stream": "stdout",
       "text": [
        "0.111667743339\n",
        "-2.19222739403"
       ]
      },
      {
       "output_type": "stream",
       "stream": "stdout",
       "text": [
        "\n",
        "\n",
        "1.63015763021e-05"
       ]
      },
      {
       "output_type": "stream",
       "stream": "stdout",
       "text": [
        "\n",
        "-13.2164761432"
       ]
      },
      {
       "output_type": "stream",
       "stream": "stdout",
       "text": [
        "\n",
        "\n",
        "1.1592047326e-82"
       ]
      },
      {
       "output_type": "stream",
       "stream": "stdout",
       "text": [
        "\n",
        "-201.880719574"
       ]
      },
      {
       "output_type": "stream",
       "stream": "stdout",
       "text": [
        "\n",
        "\n",
        "0.000356634646821"
       ]
      },
      {
       "output_type": "stream",
       "stream": "stdout",
       "text": [
        "\n",
        "-209.819518273"
       ]
      },
      {
       "output_type": "stream",
       "stream": "stdout",
       "text": [
        "\n",
        "\n",
        "0.0640570802263"
       ]
      },
      {
       "output_type": "stream",
       "stream": "stdout",
       "text": [
        "\n",
        "-212.567498987"
       ]
      },
      {
       "output_type": "stream",
       "stream": "stdout",
       "text": [
        "\n",
        "\n",
        "0.175931391122"
       ]
      },
      {
       "output_type": "stream",
       "stream": "stdout",
       "text": [
        "\n",
        "-214.30516017"
       ]
      },
      {
       "output_type": "stream",
       "stream": "stdout",
       "text": [
        "\n",
        "\n",
        "0.0825700714066"
       ]
      },
      {
       "output_type": "stream",
       "stream": "stdout",
       "text": [
        "\n",
        "-216.799268166"
       ]
      },
      {
       "output_type": "stream",
       "stream": "stdout",
       "text": [
        "\n",
        "\n",
        "0.1380298973"
       ]
      },
      {
       "output_type": "stream",
       "stream": "stdout",
       "text": [
        "\n",
        "-218.779553136"
       ]
      },
      {
       "output_type": "stream",
       "stream": "stdout",
       "text": [
        "\n",
        "\n",
        "0.0"
       ]
      },
      {
       "output_type": "stream",
       "stream": "stdout",
       "text": [
        "\n",
        "-inf"
       ]
      },
      {
       "output_type": "stream",
       "stream": "stdout",
       "text": [
        "\n",
        "\n",
        "0.422842334908"
       ]
      },
      {
       "output_type": "stream",
       "stream": "stdout",
       "text": [
        "\n",
        "-inf"
       ]
      },
      {
       "output_type": "stream",
       "stream": "stdout",
       "text": [
        "\n",
        "\n"
       ]
      }
     ],
     "prompt_number": 89
    },
    {
     "cell_type": "code",
     "collapsed": false,
     "input": [
      "neglogl.eval()"
     ],
     "language": "python",
     "metadata": {},
     "outputs": [
      {
       "metadata": {},
       "output_type": "pyout",
       "prompt_number": 83,
       "text": [
        "array(inf)"
       ]
      }
     ],
     "prompt_number": 83
    },
    {
     "cell_type": "code",
     "collapsed": false,
     "input": [
      "from neuralnilm.objectives import mdn_nll"
     ],
     "language": "python",
     "metadata": {},
     "outputs": [],
     "prompt_number": 156
    },
    {
     "cell_type": "code",
     "collapsed": false,
     "input": [
      "nll = mdn_nll(y, t)"
     ],
     "language": "python",
     "metadata": {},
     "outputs": [],
     "prompt_number": 205
    },
    {
     "cell_type": "code",
     "collapsed": false,
     "input": [
      "normal_pdfs, mixing = mdn_nll(y, t)"
     ],
     "language": "python",
     "metadata": {},
     "outputs": [],
     "prompt_number": 195
    },
    {
     "cell_type": "code",
     "collapsed": false,
     "input": [
      "mixing.shape.eval()"
     ],
     "language": "python",
     "metadata": {},
     "outputs": [
      {
       "metadata": {},
       "output_type": "pyout",
       "prompt_number": 206,
       "text": [
        "array([10,  1,  1])"
       ]
      }
     ],
     "prompt_number": 206
    },
    {
     "cell_type": "code",
     "collapsed": false,
     "input": [
      "nll.shape.eval()"
     ],
     "language": "python",
     "metadata": {},
     "outputs": [
      {
       "metadata": {},
       "output_type": "pyout",
       "prompt_number": 207,
       "text": [
        "array([10,  1])"
       ]
      }
     ],
     "prompt_number": 207
    },
    {
     "cell_type": "code",
     "collapsed": false,
     "input": [
      "nll.eval()"
     ],
     "language": "python",
     "metadata": {},
     "outputs": [
      {
       "metadata": {},
       "output_type": "pyout",
       "prompt_number": 208,
       "text": [
        "array([[   2.19222739],\n",
        "       [  11.02424875],\n",
        "       [ 188.66424343],\n",
        "       [   7.9387987 ],\n",
        "       [   2.74798071],\n",
        "       [   1.73766118],\n",
        "       [   2.494108  ],\n",
        "       [   1.98028497],\n",
        "       [          inf],\n",
        "       [   0.8607559 ]])"
       ]
      }
     ],
     "prompt_number": 208
    },
    {
     "cell_type": "code",
     "collapsed": false,
     "input": [
      "T.batched_tensordot(normal_pdfs, mixing, axes=1).shape.eval()"
     ],
     "language": "python",
     "metadata": {},
     "outputs": [
      {
       "metadata": {},
       "output_type": "pyout",
       "prompt_number": 204,
       "text": [
        "array([10,  1,  1])"
       ]
      }
     ],
     "prompt_number": 204
    },
    {
     "cell_type": "code",
     "collapsed": false,
     "input": [
      "y.shape.eval()"
     ],
     "language": "python",
     "metadata": {},
     "outputs": [
      {
       "metadata": {},
       "output_type": "pyout",
       "prompt_number": 163,
       "text": [
        "array([10,  1,  1,  3])"
       ]
      }
     ],
     "prompt_number": 163
    },
    {
     "cell_type": "code",
     "collapsed": false,
     "input": [
      "mu.shape.eval()"
     ],
     "language": "python",
     "metadata": {},
     "outputs": [
      {
       "metadata": {},
       "output_type": "pyout",
       "prompt_number": 164,
       "text": [
        "array([10,  1,  1])"
       ]
      }
     ],
     "prompt_number": 164
    },
    {
     "cell_type": "code",
     "collapsed": false,
     "input": [
      "t.shape.eval()"
     ],
     "language": "python",
     "metadata": {},
     "outputs": [
      {
       "metadata": {},
       "output_type": "pyout",
       "prompt_number": 165,
       "text": [
        "array([10,  1])"
       ]
      }
     ],
     "prompt_number": 165
    },
    {
     "cell_type": "code",
     "collapsed": false,
     "input": [
      "T.tensordot?"
     ],
     "language": "python",
     "metadata": {},
     "outputs": [],
     "prompt_number": 169
    },
    {
     "cell_type": "code",
     "collapsed": false,
     "input": [],
     "language": "python",
     "metadata": {},
     "outputs": []
    }
   ],
   "metadata": {}
  }
 ]
}