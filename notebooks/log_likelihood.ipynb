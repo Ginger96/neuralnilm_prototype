{
 "metadata": {
  "name": "",
  "signature": "sha256:569ba016b1c4139d5fd7eda65eb650ba915fde9a649c61ebe7087ca89d7e1b72"
 },
 "nbformat": 3,
 "nbformat_minor": 0,
 "worksheets": [
  {
   "cells": [
    {
     "cell_type": "code",
     "collapsed": false,
     "input": [
      "import numpy as np"
     ],
     "language": "python",
     "metadata": {},
     "outputs": [],
     "prompt_number": 1
    },
    {
     "cell_type": "code",
     "collapsed": false,
     "input": [
      "mixing = np.array([0.5, 0.5])\n",
      "sigma = np.array([0.1, 0.1])\n",
      "mu = np.array([-1, 2])\n",
      "t = np.array([-1., 2])\n",
      "n = len(t)\n",
      "\n",
      "log_likelihood = (\n",
      "    - 0.5 * n * np.log(2 * np.pi)\n",
      "    - 0.5 * n * np.log(sigma)\n",
      "    - 0.5 * (1.0 / sigma) * np.sum((t - np.tile(mu, (n,1)))**2, axis=0)\n",
      "    + mixing\n",
      ")\n",
      "\n",
      "-log_likelihood"
     ],
     "language": "python",
     "metadata": {},
     "outputs": [
      {
       "metadata": {},
       "output_type": "pyout",
       "prompt_number": 84,
       "text": [
        "array([-0.96470803, -0.96470803])"
       ]
      }
     ],
     "prompt_number": 84
    },
    {
     "cell_type": "code",
     "collapsed": false,
     "input": [],
     "language": "python",
     "metadata": {},
     "outputs": []
    }
   ],
   "metadata": {}
  }
 ]
}