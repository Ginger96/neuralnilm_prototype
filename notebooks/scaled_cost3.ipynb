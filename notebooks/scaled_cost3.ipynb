{
 "cells": [
  {
   "cell_type": "code",
   "execution_count": 1,
   "metadata": {
    "collapsed": false
   },
   "outputs": [],
   "source": [
    "from __future__ import print_function, division\n",
    "import numpy as np\n",
    "import theano\n",
    "import theano.tensor as T"
   ]
  },
  {
   "cell_type": "code",
   "execution_count": 10,
   "metadata": {
    "collapsed": true
   },
   "outputs": [],
   "source": [
    "N_SEQ_PER_BATCH, SEQ_LENGTH, N_OUTPUTS = 2, 8, 3\n",
    "t = np.random.randn(N_SEQ_PER_BATCH, SEQ_LENGTH, N_OUTPUTS)\n",
    "error = np.random.randn(N_SEQ_PER_BATCH, SEQ_LENGTH, N_OUTPUTS)"
   ]
  },
  {
   "cell_type": "code",
   "execution_count": 11,
   "metadata": {
    "collapsed": false
   },
   "outputs": [
    {
     "data": {
      "text/plain": [
       "array([[[-0.04233103, -0.10511216, -0.20588303],\n",
       "        [-1.18437209, -1.03840464, -1.52802626],\n",
       "        [-1.44613834,  0.8367268 , -1.1255857 ],\n",
       "        [-1.29844378,  0.09118916,  0.80412619],\n",
       "        [ 0.02195668,  0.06185732, -0.26703373],\n",
       "        [ 0.54403594, -1.34105337,  0.34169867],\n",
       "        [-0.03270497, -1.54038097, -1.96015398],\n",
       "        [-0.7787487 ,  0.54534483, -0.87272462]],\n",
       "\n",
       "       [[-0.53132918,  0.4167227 ,  1.04558763],\n",
       "        [-2.64798417, -0.84066259, -1.34360155],\n",
       "        [-1.50437206, -1.22351571, -0.52771588],\n",
       "        [-1.80458387,  1.64862969, -0.27273149],\n",
       "        [ 0.19404031,  1.4800316 , -1.49512564],\n",
       "        [ 0.3298468 ,  1.12727014,  0.12883306],\n",
       "        [-0.04273407,  0.19212589,  1.63206356],\n",
       "        [-0.08018083, -0.98204578,  0.77639082]]])"
      ]
     },
     "execution_count": 11,
     "metadata": {},
     "output_type": "execute_result"
    }
   ],
   "source": [
    "t"
   ]
  },
  {
   "cell_type": "code",
   "execution_count": 15,
   "metadata": {
    "collapsed": false
   },
   "outputs": [],
   "source": [
    "THRESHOLD = 0.0\n",
    "error_accumulator = 0.0\n",
    "n_active_seqs = 0\n",
    "for seq_i in range(N_SEQ_PER_BATCH):\n",
    "    for output_i in range(N_OUTPUTS):\n",
    "        above_thresh = t[seq_i, :, output_i] > THRESHOLD\n",
    "        if not any(above_thresh):\n",
    "            continue\n",
    "        n_active_seqs += 1\n",
    "        def mask_and_mean(mask):\n",
    "            return error[seq_i,  mask.nonzero(), output_i].mean()\n",
    "        error_above_thresh = mask_and_mean(above_thresh)\n",
    "        error_below_thresh = mask_and_mean(-above_thresh)\n",
    "        error_accumulator += (error_above_thresh + error_below_thresh) / 2.0\n",
    "        \n",
    "err = error_accumulator / n_active_seqs\n",
    "        "
   ]
  },
  {
   "cell_type": "code",
   "execution_count": 17,
   "metadata": {
    "collapsed": false
   },
   "outputs": [
    {
     "data": {
      "text/plain": [
       "0.18687881686121932"
      ]
     },
     "execution_count": 17,
     "metadata": {},
     "output_type": "execute_result"
    }
   ],
   "source": [
    "err"
   ]
  },
  {
   "cell_type": "code",
   "execution_count": 18,
   "metadata": {
    "collapsed": false
   },
   "outputs": [
    {
     "data": {
      "text/plain": [
       "6"
      ]
     },
     "execution_count": 18,
     "metadata": {},
     "output_type": "execute_result"
    }
   ],
   "source": [
    "n_active_seqs"
   ]
  },
  {
   "cell_type": "code",
   "execution_count": 20,
   "metadata": {
    "collapsed": true
   },
   "outputs": [],
   "source": [
    "from neuralnilm.utils import gen_pulse"
   ]
  },
  {
   "cell_type": "code",
   "execution_count": 21,
   "metadata": {
    "collapsed": true
   },
   "outputs": [],
   "source": [
    "pulse = gen_pulse(1, 10, 5, 20)"
   ]
  },
  {
   "cell_type": "code",
   "execution_count": 22,
   "metadata": {
    "collapsed": false
   },
   "outputs": [
    {
     "data": {
      "text/plain": [
       "[<matplotlib.lines.Line2D at 0x7fe9a99411d0>]"
      ]
     },
     "execution_count": 22,
     "metadata": {},
     "output_type": "execute_result"
    }
   ],
   "source": [
    "plt.plot(pulse)"
   ]
  },
  {
   "cell_type": "code",
   "execution_count": 27,
   "metadata": {
    "collapsed": false
   },
   "outputs": [],
   "source": [
    "from neuralnilm.tests.test_objectives import gen_target"
   ]
  },
  {
   "cell_type": "code",
   "execution_count": 35,
   "metadata": {
    "collapsed": false
   },
   "outputs": [],
   "source": [
    "t = gen_target()"
   ]
  },
  {
   "cell_type": "code",
   "execution_count": 39,
   "metadata": {
    "collapsed": false
   },
   "outputs": [
    {
     "data": {
      "text/plain": [
       "[<matplotlib.lines.Line2D at 0x7fe9a8983890>]"
      ]
     },
     "execution_count": 39,
     "metadata": {},
     "output_type": "execute_result"
    }
   ],
   "source": [
    "plt.plot(t[0,:,0])"
   ]
  },
  {
   "cell_type": "code",
   "execution_count": null,
   "metadata": {
    "collapsed": true
   },
   "outputs": [],
   "source": []
  }
 ],
 "metadata": {
  "kernelspec": {
   "display_name": "Python 2",
   "language": "python",
   "name": "python2"
  },
  "language_info": {
   "codemirror_mode": {
    "name": "ipython",
    "version": 2
   },
   "file_extension": ".py",
   "mimetype": "text/x-python",
   "name": "python",
   "nbconvert_exporter": "python",
   "pygments_lexer": "ipython2",
   "version": "2.7.8"
  }
 },
 "nbformat": 4,
 "nbformat_minor": 0
}
