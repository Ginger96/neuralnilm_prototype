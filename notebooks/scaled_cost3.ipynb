{
 "cells": [
  {
   "cell_type": "code",
   "execution_count": 1,
   "metadata": {
    "collapsed": false
   },
   "outputs": [],
   "source": [
    "from __future__ import print_function, division\n",
    "import numpy as np\n",
    "import theano\n",
    "import theano.tensor as T"
   ]
  },
  {
   "cell_type": "code",
   "execution_count": 2,
   "metadata": {
    "collapsed": true
   },
   "outputs": [],
   "source": [
    "N_SEQ_PER_BATCH, SEQ_LENGTH, N_OUTPUTS = 2, 8, 3\n",
    "t = np.random.randn(N_SEQ_PER_BATCH, SEQ_LENGTH, N_OUTPUTS)\n",
    "error = np.random.randn(N_SEQ_PER_BATCH, SEQ_LENGTH, N_OUTPUTS)"
   ]
  },
  {
   "cell_type": "code",
   "execution_count": 3,
   "metadata": {
    "collapsed": false
   },
   "outputs": [
    {
     "data": {
      "text/plain": [
       "array([[[-1.87347891,  0.52018866,  2.14607176],\n",
       "        [-0.02940302, -0.90604823, -2.06917314],\n",
       "        [-0.55205747,  0.52891592,  2.0292411 ],\n",
       "        [-0.55563829,  0.84442958, -0.86873026],\n",
       "        [-0.50906761, -0.30227186,  0.43699785],\n",
       "        [ 0.46817846, -0.77619128,  0.11565922],\n",
       "        [ 1.42977919,  0.27736022, -2.09792215],\n",
       "        [ 0.83361268, -1.2146074 ,  1.00099365]],\n",
       "\n",
       "       [[ 0.68847109,  1.47052387, -0.70513472],\n",
       "        [ 0.07405826,  3.8343556 ,  1.0336292 ],\n",
       "        [ 0.11565304, -1.37147437,  1.05797102],\n",
       "        [-1.74104643, -0.45801851,  0.68005134],\n",
       "        [-1.11734962,  1.07181886, -1.45159929],\n",
       "        [ 0.71204261,  1.49806891, -1.01176102],\n",
       "        [-0.24920642, -0.20566547,  2.58757519],\n",
       "        [-0.80400528, -0.27101056, -0.82399376]]])"
      ]
     },
     "execution_count": 3,
     "metadata": {},
     "output_type": "execute_result"
    }
   ],
   "source": [
    "t"
   ]
  },
  {
   "cell_type": "code",
   "execution_count": 4,
   "metadata": {
    "collapsed": false
   },
   "outputs": [],
   "source": [
    "THRESHOLD = 0.0\n",
    "error_accumulator = 0.0\n",
    "n_active_seqs = 0\n",
    "for seq_i in range(N_SEQ_PER_BATCH):\n",
    "    for output_i in range(N_OUTPUTS):\n",
    "        above_thresh = t[seq_i, :, output_i] > THRESHOLD\n",
    "        if not any(above_thresh):\n",
    "            continue\n",
    "        n_active_seqs += 1\n",
    "        def mask_and_mean(mask):\n",
    "            return error[seq_i,  mask.nonzero(), output_i].mean()\n",
    "        error_above_thresh = mask_and_mean(above_thresh)\n",
    "        error_below_thresh = mask_and_mean(-above_thresh)\n",
    "        error_accumulator += (error_above_thresh + error_below_thresh) / 2.0\n",
    "        \n",
    "err = error_accumulator / n_active_seqs\n",
    "        "
   ]
  },
  {
   "cell_type": "code",
   "execution_count": 34,
   "metadata": {
    "collapsed": true
   },
   "outputs": [],
   "source": [
    "t = theano.shared(t)\n",
    "error = theano.shared(error)"
   ]
  },
  {
   "cell_type": "code",
   "execution_count": 35,
   "metadata": {
    "collapsed": true
   },
   "outputs": [],
   "source": [
    "above_thresh = t > THRESHOLD"
   ]
  },
  {
   "cell_type": "code",
   "execution_count": 78,
   "metadata": {
    "collapsed": false
   },
   "outputs": [
    {
     "data": {
      "text/plain": [
       "Elemwise{gt,no_inplace}.0"
      ]
     },
     "execution_count": 78,
     "metadata": {},
     "output_type": "execute_result"
    }
   ],
   "source": [
    "above_thresh"
   ]
  },
  {
   "cell_type": "code",
   "execution_count": 79,
   "metadata": {
    "collapsed": false
   },
   "outputs": [],
   "source": [
    "# above_thresh = above_thresh.astype(np.float32)"
   ]
  },
  {
   "cell_type": "code",
   "execution_count": 90,
   "metadata": {
    "collapsed": false
   },
   "outputs": [
    {
     "data": {
      "text/plain": [
       "array([[[0, 1, 1],\n",
       "        [0, 0, 0],\n",
       "        [0, 1, 1],\n",
       "        [0, 1, 0],\n",
       "        [0, 0, 1],\n",
       "        [1, 0, 1],\n",
       "        [1, 1, 0],\n",
       "        [1, 0, 1]],\n",
       "\n",
       "       [[1, 1, 0],\n",
       "        [1, 1, 1],\n",
       "        [1, 0, 1],\n",
       "        [0, 0, 1],\n",
       "        [0, 1, 0],\n",
       "        [1, 1, 0],\n",
       "        [0, 0, 1],\n",
       "        [0, 0, 0]]], dtype=int8)"
      ]
     },
     "execution_count": 90,
     "metadata": {},
     "output_type": "execute_result"
    }
   ],
   "source": [
    "above_thresh.eval()"
   ]
  },
  {
   "cell_type": "code",
   "execution_count": 94,
   "metadata": {
    "collapsed": false
   },
   "outputs": [
    {
     "data": {
      "text/plain": [
       "array([[[-0.        ,  0.63391603,  0.04010954],\n",
       "        [-0.        , -0.        ,  0.        ],\n",
       "        [-0.        , -1.18162216, -1.4576782 ],\n",
       "        [ 0.        ,  0.01867809,  0.        ],\n",
       "        [ 0.        ,  0.        , -0.75736401],\n",
       "        [ 0.75839996,  0.        ,  0.20373484],\n",
       "        [-1.38148993, -0.51837588, -0.        ],\n",
       "        [-1.50413076, -0.        ,  0.32015957]],\n",
       "\n",
       "       [[ 2.06418989,  0.41493627,  0.        ],\n",
       "        [ 0.33135649,  1.29259349,  1.4161259 ],\n",
       "        [-0.94384364,  0.        ,  0.9548283 ],\n",
       "        [ 0.        , -0.        , -0.45555172],\n",
       "        [ 0.        , -0.8568483 , -0.        ],\n",
       "        [ 0.30008834,  1.07369502, -0.        ],\n",
       "        [ 0.        ,  0.        , -0.95485029],\n",
       "        [-0.        , -0.        , -0.        ]]])"
      ]
     },
     "execution_count": 94,
     "metadata": {},
     "output_type": "execute_result"
    }
   ],
   "source": [
    "# masked_error = T.switch(t > THRESHOLD, error, np.nan)\n",
    "masked_error = error * above_thresh\n",
    "masked_error.eval()"
   ]
  },
  {
   "cell_type": "code",
   "execution_count": null,
   "metadata": {
    "collapsed": false
   },
   "outputs": [],
   "source": []
  },
  {
   "cell_type": "code",
   "execution_count": 95,
   "metadata": {
    "collapsed": false
   },
   "outputs": [],
   "source": [
    "# masked_error = error * above_thresh"
   ]
  },
  {
   "cell_type": "code",
   "execution_count": 103,
   "metadata": {
    "collapsed": false
   },
   "outputs": [
    {
     "data": {
      "text/plain": [
       "array([[[-0.        ,  0.63391603,  0.04010954],\n",
       "        [-0.        , -0.        ,  0.        ],\n",
       "        [-0.        , -1.18162216, -1.4576782 ],\n",
       "        [ 0.        ,  0.01867809,  0.        ],\n",
       "        [ 0.        ,  0.        , -0.75736401],\n",
       "        [ 0.75839996,  0.        ,  0.20373484],\n",
       "        [-1.38148993, -0.51837588, -0.        ],\n",
       "        [-1.50413076, -0.        ,  0.32015957]],\n",
       "\n",
       "       [[ 2.06418989,  0.41493627,  0.        ],\n",
       "        [ 0.33135649,  1.29259349,  1.4161259 ],\n",
       "        [-0.94384364,  0.        ,  0.9548283 ],\n",
       "        [ 0.        , -0.        , -0.45555172],\n",
       "        [ 0.        , -0.8568483 , -0.        ],\n",
       "        [ 0.30008834,  1.07369502, -0.        ],\n",
       "        [ 0.        ,  0.        , -0.95485029],\n",
       "        [-0.        , -0.        , -0.        ]]])"
      ]
     },
     "execution_count": 103,
     "metadata": {},
     "output_type": "execute_result"
    }
   ],
   "source": [
    "masked_error.eval()"
   ]
  },
  {
   "cell_type": "code",
   "execution_count": 86,
   "metadata": {
    "collapsed": false
   },
   "outputs": [
    {
     "data": {
      "text/plain": [
       "array([[ nan,  nan,  nan],\n",
       "       [ nan,  nan,  nan]])"
      ]
     },
     "execution_count": 86,
     "metadata": {},
     "output_type": "execute_result"
    }
   ],
   "source": [
    "T.mean(masked_error, axis=1).eval()"
   ]
  },
  {
   "cell_type": "code",
   "execution_count": 97,
   "metadata": {
    "collapsed": false
   },
   "outputs": [
    {
     "data": {
      "text/plain": [
       "array([[-2.12722073, -1.04740391, -1.65103825],\n",
       "       [ 1.75179108,  1.92437647,  0.9605522 ]])"
      ]
     },
     "execution_count": 97,
     "metadata": {},
     "output_type": "execute_result"
    }
   ],
   "source": [
    "masked_error.sum(axis=1).eval()"
   ]
  },
  {
   "cell_type": "code",
   "execution_count": 98,
   "metadata": {
    "collapsed": false
   },
   "outputs": [
    {
     "data": {
      "text/plain": [
       "array([[3, 4, 5],\n",
       "       [4, 4, 4]])"
      ]
     },
     "execution_count": 98,
     "metadata": {},
     "output_type": "execute_result"
    }
   ],
   "source": [
    "above_thresh.sum(axis=1).eval()"
   ]
  },
  {
   "cell_type": "code",
   "execution_count": 99,
   "metadata": {
    "collapsed": false
   },
   "outputs": [
    {
     "data": {
      "text/plain": [
       "array([[-0.70907358, -0.26185098, -0.33020765],\n",
       "       [ 0.43794777,  0.48109412,  0.24013805]])"
      ]
     },
     "execution_count": 99,
     "metadata": {},
     "output_type": "execute_result"
    }
   ],
   "source": [
    "(masked_error.sum(axis=1) / above_thresh.sum(axis=1)).eval()"
   ]
  },
  {
   "cell_type": "code",
   "execution_count": 102,
   "metadata": {
    "collapsed": false
   },
   "outputs": [
    {
     "data": {
      "text/plain": [
       "array([[-0.26590259, -0.13092549, -0.20637978],\n",
       "       [ 0.21897388,  0.24054706,  0.12006902]])"
      ]
     },
     "execution_count": 102,
     "metadata": {},
     "output_type": "execute_result"
    }
   ],
   "source": [
    "masked_error.mean(axis=1).eval()"
   ]
  },
  {
   "cell_type": "code",
   "execution_count": 110,
   "metadata": {
    "collapsed": false
   },
   "outputs": [
    {
     "data": {
      "text/plain": [
       "array([[[0, 1, 1],\n",
       "        [0, 0, 0],\n",
       "        [0, 1, 1],\n",
       "        [0, 1, 0],\n",
       "        [0, 0, 1],\n",
       "        [1, 0, 1],\n",
       "        [1, 1, 0],\n",
       "        [1, 0, 1]],\n",
       "\n",
       "       [[1, 1, 0],\n",
       "        [1, 1, 1],\n",
       "        [1, 0, 1],\n",
       "        [0, 0, 1],\n",
       "        [0, 1, 0],\n",
       "        [1, 1, 0],\n",
       "        [0, 0, 1],\n",
       "        [0, 0, 0]]], dtype=int8)"
      ]
     },
     "execution_count": 110,
     "metadata": {},
     "output_type": "execute_result"
    }
   ],
   "source": [
    "T.neq(masked_error, 0).eval()"
   ]
  },
  {
   "cell_type": "code",
   "execution_count": 114,
   "metadata": {
    "collapsed": false
   },
   "outputs": [
    {
     "data": {
      "text/plain": [
       "array([[[1, 1, 1],\n",
       "        [1, 1, 1],\n",
       "        [1, 1, 1],\n",
       "        [1, 1, 1],\n",
       "        [1, 1, 1],\n",
       "        [1, 1, 1],\n",
       "        [1, 1, 1],\n",
       "        [1, 1, 1]],\n",
       "\n",
       "       [[1, 1, 1],\n",
       "        [1, 1, 1],\n",
       "        [1, 1, 1],\n",
       "        [1, 1, 1],\n",
       "        [1, 1, 1],\n",
       "        [1, 1, 1],\n",
       "        [1, 1, 1],\n",
       "        [1, 1, 1]]], dtype=int8)"
      ]
     },
     "execution_count": 114,
     "metadata": {},
     "output_type": "execute_result"
    }
   ],
   "source": [
    "(T.eq(T.isnan(masked_error), 0)).eval()"
   ]
  },
  {
   "cell_type": "code",
   "execution_count": null,
   "metadata": {
    "collapsed": true
   },
   "outputs": [],
   "source": []
  }
 ],
 "metadata": {
  "kernelspec": {
   "display_name": "Python 2",
   "language": "python",
   "name": "python2"
  },
  "language_info": {
   "codemirror_mode": {
    "name": "ipython",
    "version": 2
   },
   "file_extension": ".py",
   "mimetype": "text/x-python",
   "name": "python",
   "nbconvert_exporter": "python",
   "pygments_lexer": "ipython2",
   "version": "2.7.8"
  }
 },
 "nbformat": 4,
 "nbformat_minor": 0
}
