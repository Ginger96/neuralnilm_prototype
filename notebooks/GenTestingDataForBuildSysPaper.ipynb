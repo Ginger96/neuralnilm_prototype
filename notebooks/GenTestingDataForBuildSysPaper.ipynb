{
 "cells": [
  {
   "cell_type": "code",
   "execution_count": 29,
   "metadata": {
    "collapsed": true
   },
   "outputs": [],
   "source": [
    "import matplotlib.pyplot as plt\n",
    "import numpy as np\n",
    "import nilmtk\n",
    "from os.path import expanduser, join"
   ]
  },
  {
   "cell_type": "code",
   "execution_count": 30,
   "metadata": {
    "collapsed": true
   },
   "outputs": [],
   "source": [
    "PATH = \"~/Dropbox/MyWork/imperial/PhD/experiments/neural_nilm/data_for_BuildSys2015/ground_truth_and_mains\"\n",
    "PATH = expanduser(PATH)\n",
    "\n",
    "WINDOW_PER_BUILDING = {\n",
    "    1: (\"2014-12-15\", \"2014-12-22\"),\n",
    "    2: (\"2013-10-03 06:16:00\", None),\n",
    "    3: (\"2013-04-01 06:15:05\", None),\n",
    "    4: (\"2013-09-24 06:15:14\", None),\n",
    "    5: (\"2014-09-01\", \"2014-09-07\")\n",
    "}\n",
    "\n",
    "APPLIANCES = [\n",
    "    (['microwave'], (1, 2, 3)),\n",
    "    (['fridge', 'fridge freezer', 'freezer'], (1, 2, 4, 5)),\n",
    "    (['dish washer'], (1, 2, 5)),\n",
    "    (['kettle'], (1, 2, 3, 4, 5)),\n",
    "    (['washing machine', 'washer dryer'], (1, 2, 5))\n",
    "]\n",
    "\n",
    "FILENAME = '/data/mine/vadeec/merged/ukdale.h5'"
   ]
  },
  {
   "cell_type": "code",
   "execution_count": 4,
   "metadata": {
    "collapsed": true
   },
   "outputs": [],
   "source": [
    "dataset = nilmtk.DataSet(FILENAME)"
   ]
  },
  {
   "cell_type": "code",
   "execution_count": 24,
   "metadata": {
    "collapsed": true
   },
   "outputs": [],
   "source": [
    "def save(filename, meter):\n",
    "    filename = join(PATH, filename)\n",
    "    print(\"  Filename =\", filename)\n",
    "    data = meter.power_series_all_data(sample_period=6)\n",
    "    data = data.fillna(0)\n",
    "    np.savetxt(filename, data.round().astype(int).values, delimiter=',', fmt='%d')\n",
    "    return data"
   ]
  },
  {
   "cell_type": "code",
   "execution_count": 25,
   "metadata": {
    "collapsed": false
   },
   "outputs": [],
   "source": [
    "data_per_building = {building_i: {} for building_i in WINDOW_PER_BUILDING.keys()}"
   ]
  },
  {
   "cell_type": "code",
   "execution_count": 27,
   "metadata": {
    "collapsed": false
   },
   "outputs": [
    {
     "name": "stdout",
     "output_type": "stream",
     "text": [
      "Set window of ('2014-12-15', '2014-12-22') for building 1\n",
      "  Filename = building_1_mains.csv\n",
      "  Loading microwave\n",
      "  Filename = building_1_microwave.csv\n",
      "Set window of ('2013-10-03 06:16:00', None) for building 2\n",
      "  Filename = building_2_mains.csv\n",
      "  Loading microwave\n",
      "  Filename = building_2_microwave.csv\n",
      "Set window of ('2013-04-01 06:15:05', None) for building 3\n",
      "  Filename = building_3_mains.csv\n",
      "Set window of ('2014-12-15', '2014-12-22') for building 1\n",
      "  Filename = building_1_mains.csv\n",
      "  Loading fridge freezer\n",
      "  Filename = building_1_fridge_freezer.csv\n",
      "Set window of ('2013-10-03 06:16:00', None) for building 2\n",
      "  Filename = building_2_mains.csv\n",
      "  Loading fridge\n",
      "  Filename = building_2_fridge_freezer.csv\n",
      "Set window of ('2013-09-24 06:15:14', None) for building 4\n",
      "  Filename = building_4_mains.csv\n",
      "  Loading freezer\n",
      "  Filename = building_4_fridge_freezer.csv\n",
      "Set window of ('2014-09-01', '2014-09-07') for building 5\n",
      "  Filename = building_5_mains.csv\n",
      "  Loading fridge freezer\n",
      "  Filename = building_5_fridge_freezer.csv\n",
      "Set window of ('2014-12-15', '2014-12-22') for building 1\n",
      "  Filename = building_1_mains.csv\n",
      "  Loading dish washer\n",
      "  Filename = building_1_dish_washer.csv\n",
      "Set window of ('2013-10-03 06:16:00', None) for building 2\n",
      "  Filename = building_2_mains.csv\n",
      "  Loading dish washer\n",
      "  Filename = building_2_dish_washer.csv\n",
      "Set window of ('2014-09-01', '2014-09-07') for building 5\n",
      "  Filename = building_5_mains.csv\n",
      "  Loading dish washer\n",
      "  Filename = building_5_dish_washer.csv\n",
      "Set window of ('2014-12-15', '2014-12-22') for building 1\n",
      "  Filename = building_1_mains.csv\n",
      "  Loading kettle\n",
      "  Filename = building_1_kettle.csv\n",
      "Set window of ('2013-10-03 06:16:00', None) for building 2\n",
      "  Filename = building_2_mains.csv\n",
      "  Loading kettle\n",
      "  Filename = building_2_kettle.csv\n",
      "Set window of ('2013-04-01 06:15:05', None) for building 3\n",
      "  Filename = building_3_mains.csv\n",
      "  Loading kettle\n",
      "  Filename = building_3_kettle.csv\n",
      "Set window of ('2013-09-24 06:15:14', None) for building 4\n",
      "  Filename = building_4_mains.csv\n",
      "  Loading kettle\n",
      "  Filename = building_4_kettle.csv\n",
      "Set window of ('2014-09-01', '2014-09-07') for building 5\n",
      "  Filename = building_5_mains.csv\n",
      "  Loading kettle\n",
      "  Filename = building_5_kettle.csv\n",
      "Set window of ('2014-12-15', '2014-12-22') for building 1\n",
      "  Filename = building_1_mains.csv\n",
      "  Loading washer dryer\n",
      "  Filename = building_1_washer_dryer.csv\n",
      "Set window of ('2013-10-03 06:16:00', None) for building 2\n",
      "  Filename = building_2_mains.csv\n",
      "  Loading washing machine\n",
      "  Filename = building_2_washer_dryer.csv\n",
      "Set window of ('2014-09-01', '2014-09-07') for building 5\n",
      "  Filename = building_5_mains.csv\n",
      "  Loading washer dryer\n",
      "  Filename = building_5_washer_dryer.csv\n"
     ]
    }
   ],
   "source": [
    "for appliance_list, buildings in APPLIANCES:\n",
    "    for building_i in buildings:\n",
    "        window = WINDOW_PER_BUILDING[building_i]\n",
    "        print(\"Set window of\", window, \"for building\", building_i)\n",
    "        dataset.set_window(*window)\n",
    "        elec = dataset.buildings[building_i].elec\n",
    "        \n",
    "        # save mains\n",
    "        meter = elec.mains()\n",
    "        filename = \"building_{:d}_mains.csv\".format(building_i)\n",
    "        data = save(filename, meter)\n",
    "        data_per_building[building_i]['mains'] = data\n",
    "        \n",
    "        # save appliance data\n",
    "        for appliance in appliance_list:\n",
    "            try:\n",
    "                meter = elec[appliance]\n",
    "            except KeyError:\n",
    "                pass\n",
    "            else:\n",
    "                print(\"  Loading\", appliance)\n",
    "                filename = \"building_{:d}_{:s}.csv\".format(building_i, appliance_list[0].replace(' ', '_'))\n",
    "                data = save(filename, meter)\n",
    "                data_per_building[building_i][appliance_list[0]] = data\n",
    "                "
   ]
  },
  {
   "cell_type": "code",
   "execution_count": 28,
   "metadata": {
    "collapsed": true
   },
   "outputs": [],
   "source": [
    "# check data\n",
    "for building_i, channels in data_per_building.iteritems():\n",
    "    fig, ax = plt.subplots()\n",
    "    for name, data in channels.iteritems():\n",
    "        ax.plot(data, label=name)\n",
    "    ax.legend()\n",
    "    ax.set_title(building_i)\n",
    "    plt.show()"
   ]
  },
  {
   "cell_type": "code",
   "execution_count": null,
   "metadata": {
    "collapsed": true
   },
   "outputs": [],
   "source": []
  }
 ],
 "metadata": {
  "kernelspec": {
   "display_name": "Python 2",
   "language": "python",
   "name": "python2"
  },
  "language_info": {
   "codemirror_mode": {
    "name": "ipython",
    "version": 2
   },
   "file_extension": ".py",
   "mimetype": "text/x-python",
   "name": "python",
   "nbconvert_exporter": "python",
   "pygments_lexer": "ipython2",
   "version": "2.7.9"
  }
 },
 "nbformat": 4,
 "nbformat_minor": 0
}
