{
 "cells": [
  {
   "cell_type": "code",
   "execution_count": 1,
   "metadata": {
    "collapsed": false
   },
   "outputs": [
    {
     "name": "stderr",
     "output_type": "stream",
     "text": [
      "/home/dk3810/workspace/python/nntools/lasagne/init.py:86: UserWarning: The uniform initializer no longer uses Glorot et al.'s approach to determine the bounds, but defaults to the range (-0.01, 0.01) instead. Please use the new GlorotUniform initializer to get the old behavior. GlorotUniform is now the default for all layers.\n",
      "  warnings.warn(\"The uniform initializer no longer uses Glorot et al.'s \"\n"
     ]
    }
   ],
   "source": [
    "from __future__ import print_function, division\n",
    "import numpy as np\n",
    "from os.path import join, expanduser\n",
    "import matplotlib.pyplot as plt\n",
    "import yaml  # for pretty-printing dict\n",
    "from neuralnilm.metrics import run_metrics, across_all_appliances\n",
    "import pandas as pd\n",
    "\n",
    "# sklearn evokes warnings from numpy\n",
    "import warnings\n",
    "warnings.filterwarnings(\"ignore\", category=DeprecationWarning)"
   ]
  },
  {
   "cell_type": "code",
   "execution_count": 28,
   "metadata": {
    "collapsed": true
   },
   "outputs": [],
   "source": [
    "TRAIN_HOUSES = {\n",
    "    'microwave': (1, 2),\n",
    "    'fridge': (1, 2, 4),\n",
    "    'dish washer': (1, 2),\n",
    "    'kettle': (1, 2, 4),\n",
    "    'washing machine': (1, 5)\n",
    "}\n",
    "\n",
    "TEST_HOUSES = {\n",
    "    'microwave': (5,),\n",
    "    'fridge': (5,),\n",
    "    'dish washer': (5,),\n",
    "    'kettle': (5,),\n",
    "    'washing machine': (2,)\n",
    "}\n",
    "\n",
    "APPLIANCES = TRAIN_HOUSES.keys()\n",
    "\n",
    "ON_POWER_THRESHOLDS = {\n",
    "    'microwave': 200,\n",
    "    'fridge': 30,\n",
    "    'dish washer': 10,\n",
    "    'kettle': 2000,\n",
    "    'washing machine': 20\n",
    "}\n",
    "\n",
    "HOUSES = [1, 2, 3, 4, 5]\n",
    "\n",
    "METRICS = [\n",
    "    'f1_score',\n",
    "    'precision_score',\n",
    "    'recall_score',\n",
    "    'accuracy_score',\n",
    "    'relative_error_in_total_energy',\n",
    "    'total_energy_correctly_assigned',\n",
    "    'mean_absolute_error'\n",
    "]\n",
    "\n",
    "ALGORITHMS = ['co', 'fhmm', 'ae', 'rectangles', 'rnn']\n",
    "\n",
    "full_algorithm_names = [\n",
    "    'Combinatorial Optimisation ', 'Factorial HMM', 'Autoencoder', 'Rectangles', 'LSTM']\n",
    "\n",
    "\n",
    "ESTIMATES_PATH = expanduser(\n",
    "    \"~/PhD/experiments/neural_nilm/data_for_BuildSys2015/disag_estimates\")\n",
    "GROUND_TRUTH_PATH = expanduser(\n",
    "    \"~/PhD/experiments/neural_nilm/data_for_BuildSys2015/ground_truth_and_mains\")\n",
    "\n",
    "PLOT_PATH = expanduser(\"~/PhD/writing/papers/BuildSys_2015_Neural_NILM\")"
   ]
  },
  {
   "cell_type": "code",
   "execution_count": 3,
   "metadata": {
    "collapsed": true
   },
   "outputs": [],
   "source": [
    "def load(architecture, building_i, appliance):\n",
    "    # load estimates\n",
    "    estimates_fname = \"{}_building_{}_estimates_{}.csv\".format(\n",
    "        architecture, building_i, appliance)\n",
    "    estimates_fname = join(ESTIMATES_PATH, estimates_fname)\n",
    "    y_pred = np.loadtxt(estimates_fname, delimiter=',')\n",
    "\n",
    "    # load ground truth\n",
    "    y_true_fname = \"building_{}_{}.csv\".format(building_i, appliance.replace(' ', '_'))\n",
    "    y_true_fname = join(GROUND_TRUTH_PATH, y_true_fname)\n",
    "    y_true = np.loadtxt(y_true_fname, delimiter=',')\n",
    "\n",
    "    # load mains\n",
    "    mains_fname = \"building_{}_mains.csv\".format(building_i)\n",
    "    mains_fname = join(GROUND_TRUTH_PATH, mains_fname)\n",
    "    mains = np.loadtxt(mains_fname, delimiter=',')\n",
    "\n",
    "    return y_true, y_pred, mains"
   ]
  },
  {
   "cell_type": "code",
   "execution_count": 4,
   "metadata": {
    "collapsed": true
   },
   "outputs": [],
   "source": [
    "def plot_all(y_true, y_pred, mains, title=None):\n",
    "    fig, axes = plt.subplots(nrows=3, sharex=True)\n",
    "    axes[0].plot(y_pred)\n",
    "    axes[0].set_title('y_pred')\n",
    "    axes[1].plot(y_true)\n",
    "    axes[1].set_title('y_true')\n",
    "    axes[2].plot(mains)\n",
    "    axes[2].set_title('mains')\n",
    "    if title:\n",
    "        fig.set_title(title)\n",
    "    plt.show()\n",
    "    return fig, axes"
   ]
  },
  {
   "cell_type": "code",
   "execution_count": 29,
   "metadata": {
    "collapsed": false
   },
   "outputs": [],
   "source": [
    "# Run metrics\n",
    "def calc_metrics(houses):\n",
    "    scores = pd.Panel(\n",
    "        np.NaN,\n",
    "        items=APPLIANCES,\n",
    "        major_axis=METRICS,\n",
    "        minor_axis=ALGORITHMS\n",
    "    )\n",
    "    \n",
    "    for appliance in APPLIANCES:\n",
    "        houses_for_appliance = houses[appliance]\n",
    "        on_power_threshold = ON_POWER_THRESHOLDS[appliance]\n",
    "        for algo in ALGORITHMS:\n",
    "            house_scores = pd.DataFrame(\n",
    "                np.NaN, columns=METRICS, index=houses_for_appliance)\n",
    "            for house_i in houses_for_appliance:\n",
    "                y_true, y_pred, mains = load(algo, house_i, appliance)\n",
    "                house_scores_dict = run_metrics(\n",
    "                    y_true, y_pred, mains, on_power_threshold)\n",
    "                house_scores_dict.pop('sum_abs_diff')\n",
    "                house_scores.loc[house_i] = house_scores_dict\n",
    "            scores[appliance, :, algo].update(house_scores.dropna().mean())\n",
    "    \n",
    "    scores['across all appliances'] = scores.mean(axis=0)\n",
    "    return scores"
   ]
  },
  {
   "cell_type": "code",
   "execution_count": 30,
   "metadata": {
    "collapsed": false
   },
   "outputs": [],
   "source": [
    "test_houses_scores = calc_metrics(TEST_HOUSES)\n",
    "train_houses_scores = calc_metrics(TRAIN_HOUSES)"
   ]
  },
  {
   "cell_type": "code",
   "execution_count": 44,
   "metadata": {
    "collapsed": false
   },
   "outputs": [
    {
     "data": {
      "text/html": [
       "<div>\n",
       "<table border=\"1\" class=\"dataframe\">\n",
       "  <thead>\n",
       "    <tr style=\"text-align: right;\">\n",
       "      <th></th>\n",
       "      <th>co</th>\n",
       "      <th>fhmm</th>\n",
       "      <th>ae</th>\n",
       "      <th>rectangles</th>\n",
       "      <th>rnn</th>\n",
       "    </tr>\n",
       "  </thead>\n",
       "  <tbody>\n",
       "    <tr>\n",
       "      <th>f1_score</th>\n",
       "      <td>0.111038</td>\n",
       "      <td>0.047780</td>\n",
       "      <td>0.301147</td>\n",
       "      <td>0.697507</td>\n",
       "      <td>0.077491</td>\n",
       "    </tr>\n",
       "    <tr>\n",
       "      <th>precision_score</th>\n",
       "      <td>0.060572</td>\n",
       "      <td>0.025108</td>\n",
       "      <td>0.177880</td>\n",
       "      <td>0.838849</td>\n",
       "      <td>0.040547</td>\n",
       "    </tr>\n",
       "    <tr>\n",
       "      <th>recall_score</th>\n",
       "      <td>0.665529</td>\n",
       "      <td>0.492491</td>\n",
       "      <td>0.980887</td>\n",
       "      <td>0.596928</td>\n",
       "      <td>0.872014</td>\n",
       "    </tr>\n",
       "    <tr>\n",
       "      <th>accuracy_score</th>\n",
       "      <td>0.638623</td>\n",
       "      <td>0.334306</td>\n",
       "      <td>0.845613</td>\n",
       "      <td>0.982442</td>\n",
       "      <td>0.295914</td>\n",
       "    </tr>\n",
       "    <tr>\n",
       "      <th>relative_error_in_total_energy</th>\n",
       "      <td>0.622641</td>\n",
       "      <td>0.746979</td>\n",
       "      <td>0.558242</td>\n",
       "      <td>-0.335521</td>\n",
       "      <td>0.865344</td>\n",
       "    </tr>\n",
       "    <tr>\n",
       "      <th>total_energy_correctly_assigned</th>\n",
       "      <td>0.939789</td>\n",
       "      <td>0.910207</td>\n",
       "      <td>0.964643</td>\n",
       "      <td>0.975001</td>\n",
       "      <td>0.862678</td>\n",
       "    </tr>\n",
       "    <tr>\n",
       "      <th>mean_absolute_error</th>\n",
       "      <td>73.556146</td>\n",
       "      <td>109.694792</td>\n",
       "      <td>43.193715</td>\n",
       "      <td>30.539340</td>\n",
       "      <td>167.758252</td>\n",
       "    </tr>\n",
       "  </tbody>\n",
       "</table>\n",
       "</div>"
      ],
      "text/plain": [
       "                                        co        fhmm         ae  rectangles  \\\n",
       "f1_score                          0.111038    0.047780   0.301147    0.697507   \n",
       "precision_score                   0.060572    0.025108   0.177880    0.838849   \n",
       "recall_score                      0.665529    0.492491   0.980887    0.596928   \n",
       "accuracy_score                    0.638623    0.334306   0.845613    0.982442   \n",
       "relative_error_in_total_energy    0.622641    0.746979   0.558242   -0.335521   \n",
       "total_energy_correctly_assigned   0.939789    0.910207   0.964643    0.975001   \n",
       "mean_absolute_error              73.556146  109.694792  43.193715   30.539340   \n",
       "\n",
       "                                        rnn  \n",
       "f1_score                           0.077491  \n",
       "precision_score                    0.040547  \n",
       "recall_score                       0.872014  \n",
       "accuracy_score                     0.295914  \n",
       "relative_error_in_total_energy     0.865344  \n",
       "total_energy_correctly_assigned    0.862678  \n",
       "mean_absolute_error              167.758252  "
      ]
     },
     "execution_count": 44,
     "metadata": {},
     "output_type": "execute_result"
    }
   ],
   "source": [
    "APPLIANCE = 'dish washer'\n",
    "test_houses_scores[APPLIANCE]"
   ]
  },
  {
   "cell_type": "code",
   "execution_count": 45,
   "metadata": {
    "collapsed": false
   },
   "outputs": [
    {
     "data": {
      "text/html": [
       "<div>\n",
       "<table border=\"1\" class=\"dataframe\">\n",
       "  <thead>\n",
       "    <tr style=\"text-align: right;\">\n",
       "      <th></th>\n",
       "      <th>co</th>\n",
       "      <th>fhmm</th>\n",
       "      <th>ae</th>\n",
       "      <th>rectangles</th>\n",
       "      <th>rnn</th>\n",
       "    </tr>\n",
       "  </thead>\n",
       "  <tbody>\n",
       "    <tr>\n",
       "      <th>f1_score</th>\n",
       "      <td>0.112032</td>\n",
       "      <td>0.078415</td>\n",
       "      <td>0.356627</td>\n",
       "      <td>0.670908</td>\n",
       "      <td>0.063205</td>\n",
       "    </tr>\n",
       "    <tr>\n",
       "      <th>precision_score</th>\n",
       "      <td>0.065125</td>\n",
       "      <td>0.041302</td>\n",
       "      <td>0.225228</td>\n",
       "      <td>0.877992</td>\n",
       "      <td>0.033287</td>\n",
       "    </tr>\n",
       "    <tr>\n",
       "      <th>recall_score</th>\n",
       "      <td>0.499706</td>\n",
       "      <td>0.778211</td>\n",
       "      <td>0.985613</td>\n",
       "      <td>0.549394</td>\n",
       "      <td>0.626205</td>\n",
       "    </tr>\n",
       "    <tr>\n",
       "      <th>accuracy_score</th>\n",
       "      <td>0.686090</td>\n",
       "      <td>0.368784</td>\n",
       "      <td>0.860627</td>\n",
       "      <td>0.982688</td>\n",
       "      <td>0.351462</td>\n",
       "    </tr>\n",
       "    <tr>\n",
       "      <th>relative_error_in_total_energy</th>\n",
       "      <td>0.281835</td>\n",
       "      <td>0.657594</td>\n",
       "      <td>0.441358</td>\n",
       "      <td>-0.592472</td>\n",
       "      <td>0.762904</td>\n",
       "    </tr>\n",
       "    <tr>\n",
       "      <th>total_energy_correctly_assigned</th>\n",
       "      <td>0.897931</td>\n",
       "      <td>0.845668</td>\n",
       "      <td>0.947723</td>\n",
       "      <td>0.956008</td>\n",
       "      <td>0.831665</td>\n",
       "    </tr>\n",
       "    <tr>\n",
       "      <th>mean_absolute_error</th>\n",
       "      <td>75.219464</td>\n",
       "      <td>111.018239</td>\n",
       "      <td>43.255669</td>\n",
       "      <td>29.995375</td>\n",
       "      <td>129.677987</td>\n",
       "    </tr>\n",
       "  </tbody>\n",
       "</table>\n",
       "</div>"
      ],
      "text/plain": [
       "                                        co        fhmm         ae  rectangles  \\\n",
       "f1_score                          0.112032    0.078415   0.356627    0.670908   \n",
       "precision_score                   0.065125    0.041302   0.225228    0.877992   \n",
       "recall_score                      0.499706    0.778211   0.985613    0.549394   \n",
       "accuracy_score                    0.686090    0.368784   0.860627    0.982688   \n",
       "relative_error_in_total_energy    0.281835    0.657594   0.441358   -0.592472   \n",
       "total_energy_correctly_assigned   0.897931    0.845668   0.947723    0.956008   \n",
       "mean_absolute_error              75.219464  111.018239  43.255669   29.995375   \n",
       "\n",
       "                                        rnn  \n",
       "f1_score                           0.063205  \n",
       "precision_score                    0.033287  \n",
       "recall_score                       0.626205  \n",
       "accuracy_score                     0.351462  \n",
       "relative_error_in_total_energy     0.762904  \n",
       "total_energy_correctly_assigned    0.831665  \n",
       "mean_absolute_error              129.677987  "
      ]
     },
     "execution_count": 45,
     "metadata": {},
     "output_type": "execute_result"
    }
   ],
   "source": [
    "train_houses_scores[APPLIANCE]"
   ]
  },
  {
   "cell_type": "code",
   "execution_count": 46,
   "metadata": {
    "collapsed": false
   },
   "outputs": [
    {
     "data": {
      "text/plain": [
       "(<matplotlib.figure.Figure at 0x7f3623702bd0>,\n",
       " array([<matplotlib.axes._subplots.AxesSubplot object at 0x7f36242ce650>,\n",
       "        <matplotlib.axes._subplots.AxesSubplot object at 0x7f3623af7e10>,\n",
       "        <matplotlib.axes._subplots.AxesSubplot object at 0x7f36249b3a50>], dtype=object))"
      ]
     },
     "execution_count": 46,
     "metadata": {},
     "output_type": "execute_result"
    }
   ],
   "source": [
    "y_true, y_pred, mains = load('rnn', 1, APPLIANCE)\n",
    "plot_all(y_true, y_pred, mains)"
   ]
  },
  {
   "cell_type": "code",
   "execution_count": 66,
   "metadata": {
    "collapsed": false
   },
   "outputs": [],
   "source": [
    "# plot\n",
    "COLOR = ['#5F7343', '#99A63C', '#FEC06A', '#F25430', '#E61924']\n",
    "FONTSIZE = 10\n",
    "\n",
    "def plot_scores(scores):\n",
    "    appliances = list(scores.items)\n",
    "    metrics = list(scores.major_axis)\n",
    "    algorithms = list(scores.minor_axis)\n",
    "    \n",
    "    nrows = len(metrics)\n",
    "    ncols = len(appliances)\n",
    "    n_algorithms = len(algorithms)\n",
    "    x = range(n_algorithms)\n",
    "    \n",
    "    fig, axes = plt.subplots(nrows=nrows, ncols=ncols, sharey='row', figsize=(8.1, 8.7))\n",
    "    fig.patch.set_facecolor('white')\n",
    "    for row_i, metric in enumerate(metrics):\n",
    "        for col_i, appliance in enumerate(appliances):\n",
    "            ax = axes[row_i, col_i]\n",
    "            scores_for_algorithms = scores[appliance, metric]\n",
    "            rects = ax.bar(\n",
    "                x, scores_for_algorithms, color=COLOR, edgecolor=COLOR, zorder=3)\n",
    "\n",
    "            # Numbers on the plot\n",
    "            if row_i == 6:  # mean absolute error (watts)\n",
    "                text_y = 90\n",
    "                text_format = '{:3.0f}'\n",
    "            elif row_i == 4:  # relative error in total energy\n",
    "                text_y = 0\n",
    "            else:\n",
    "                text_y = 0.5\n",
    "                text_format = '{:.2f}'\n",
    "\n",
    "            # Draw text\n",
    "            for i, rect in enumerate(rects):\n",
    "                ax.text(\n",
    "                    rect.get_x() + (1/6),\n",
    "                    text_y,\n",
    "                    text_format.format(scores_for_algorithms[i]),\n",
    "                    va='center', rotation=90, fontsize=FONTSIZE)\n",
    "\n",
    "            # Formatting\n",
    "            ax.set_xticks([])\n",
    "            ax.tick_params(direction='out')\n",
    "            ax.yaxis.grid(\n",
    "                b=True, which='major', color='white', linestyle='-', zorder=0)\n",
    "            ax.patch.set_facecolor((0.85, 0.85, 0.85))\n",
    "\n",
    "            if row_i == 4:  # relative error in total energy\n",
    "                ax.set_ylim((-1, 1))\n",
    "\n",
    "            for spine in ['top', 'right', 'left', 'bottom']:\n",
    "                ax.spines[spine].set_visible(False)\n",
    "\n",
    "            if row_i == 0:\n",
    "                if appliance == 'across all appliances':\n",
    "                    label = 'Across all\\nappliances'\n",
    "                else:\n",
    "                    label = appliance.replace(' ', '\\n')\n",
    "                    label = label[0].capitalize() + label[1:]\n",
    "                ax.set_title(label, fontsize=FONTSIZE)\n",
    "            if col_i == 0:\n",
    "                label = metric.replace('_', '\\n')\n",
    "                if label == 'mean\\nabsolute\\nerror':\n",
    "                    label = label + '\\n(watts)'\n",
    "                elif label == 'total\\nenergy\\ncorrectly\\nassigned':\n",
    "                    label = 'prop. of\\n' + label\n",
    "                elif label == 'relative\\nerror\\nin\\ntotal\\nenergy':\n",
    "                    label = 'relative\\nerror in\\ntotal\\nenergy'\n",
    "                label = label[0].capitalize() + label[1:]\n",
    "                ylabel = ax.set_ylabel(label, fontsize=FONTSIZE)\n",
    "                ylabel.set_rotation('horizontal')\n",
    "                ylabel.set_verticalalignment('center')\n",
    "                ylabel.set_horizontalalignment('center')\n",
    "                ax.yaxis.labelpad = 25\n",
    "                ax.tick_params(axis='y', left='on', right='off')\n",
    "            else:\n",
    "                ax.tick_params(axis='y', left='off', right='off')\n",
    "\n",
    "    plt.subplots_adjust(hspace=0.3, top=0.96, bottom=0.07, left=0.13, right=0.99)\n",
    "    plt.legend(rects, full_algorithm_names, ncol=n_algorithms, loc=(-7, -0.6),\n",
    "               frameon=False, fontsize=FONTSIZE)\n",
    "    return fig, axes"
   ]
  },
  {
   "cell_type": "code",
   "execution_count": 67,
   "metadata": {
    "collapsed": false
   },
   "outputs": [],
   "source": [
    "fig, axes = plot_scores(test_houses_scores)\n",
    "#fig.suptitle('Unseen houses', fontsize=16)\n",
    "plt.savefig(join(PLOT_PATH, 'unseen_houses.eps'))\n",
    "plt.show()"
   ]
  },
  {
   "cell_type": "code",
   "execution_count": 68,
   "metadata": {
    "collapsed": true
   },
   "outputs": [],
   "source": [
    "fig, axes = plot_scores(train_houses_scores)\n",
    "#fig.suptitle('Train houses', fontsize=16)\n",
    "plt.savefig(join(PLOT_PATH, 'train_houses.eps'))\n",
    "plt.show()"
   ]
  },
  {
   "cell_type": "code",
   "execution_count": null,
   "metadata": {
    "collapsed": true
   },
   "outputs": [],
   "source": []
  }
 ],
 "metadata": {
  "kernelspec": {
   "display_name": "Python 2",
   "language": "python",
   "name": "python2"
  },
  "language_info": {
   "codemirror_mode": {
    "name": "ipython",
    "version": 2
   },
   "file_extension": ".py",
   "mimetype": "text/x-python",
   "name": "python",
   "nbconvert_exporter": "python",
   "pygments_lexer": "ipython2",
   "version": "2.7.9"
  }
 },
 "nbformat": 4,
 "nbformat_minor": 0
}
