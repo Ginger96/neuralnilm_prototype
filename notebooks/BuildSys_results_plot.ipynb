{
 "cells": [
  {
   "cell_type": "code",
   "execution_count": 1,
   "metadata": {
    "collapsed": false
   },
   "outputs": [
    {
     "name": "stderr",
     "output_type": "stream",
     "text": [
      "/home/jack/workspace/python/Lasagne/lasagne/init.py:86: UserWarning: The uniform initializer no longer uses Glorot et al.'s approach to determine the bounds, but defaults to the range (-0.01, 0.01) instead. Please use the new GlorotUniform initializer to get the old behavior. GlorotUniform is now the default for all layers.\n",
      "  warnings.warn(\"The uniform initializer no longer uses Glorot et al.'s \"\n",
      "/usr/local/lib/python2.7/dist-packages/sklearn/utils/__init__.py:11: RuntimeWarning: numpy.ufunc size changed, may indicate binary incompatibility\n",
      "  from .murmurhash import murmurhash3_32\n",
      "/usr/local/lib/python2.7/dist-packages/sklearn/utils/sparsetools/__init__.py:3: RuntimeWarning: numpy.ufunc size changed, may indicate binary incompatibility\n",
      "  from ._min_spanning_tree import minimum_spanning_tree\n",
      "/usr/local/lib/python2.7/dist-packages/sklearn/utils/sparsetools/_graph_validation.py:5: RuntimeWarning: numpy.ufunc size changed, may indicate binary incompatibility\n",
      "  from ._graph_tools import csgraph_to_dense, csgraph_from_dense,\\\n",
      "/usr/local/lib/python2.7/dist-packages/sklearn/utils/sparsetools/__init__.py:4: RuntimeWarning: numpy.ufunc size changed, may indicate binary incompatibility\n",
      "  from ._traversal import connected_components\n",
      "/usr/local/lib/python2.7/dist-packages/sklearn/preprocessing/data.py:20: RuntimeWarning: numpy.ufunc size changed, may indicate binary incompatibility\n",
      "  from ..utils.sparsefuncs import inplace_csr_row_normalize_l1\n",
      "/usr/local/lib/python2.7/dist-packages/sklearn/metrics/cluster/supervised.py:19: RuntimeWarning: numpy.ufunc size changed, may indicate binary incompatibility\n",
      "  from .expected_mutual_info_fast import expected_mutual_information\n",
      "/usr/local/lib/python2.7/dist-packages/sklearn/utils/extmath.py:14: RuntimeWarning: numpy.ufunc size changed, may indicate binary incompatibility\n",
      "  from ._logistic_sigmoid import _log_logistic_sigmoid\n",
      "/usr/local/lib/python2.7/dist-packages/sklearn/metrics/pairwise.py:52: RuntimeWarning: numpy.ufunc size changed, may indicate binary incompatibility\n",
      "  from .pairwise_fast import _chi2_kernel_fast\n"
     ]
    }
   ],
   "source": [
    "from __future__ import print_function, division\n",
    "import numpy as np\n",
    "from os.path import join, expanduser\n",
    "import matplotlib.pyplot as plt\n",
    "import yaml  # for pretty-printing dict\n",
    "from neuralnilm.metrics import run_metrics, across_all_appliances\n",
    "import pandas as pd\n",
    "\n",
    "# sklearn evokes warnings from numpy\n",
    "import warnings\n",
    "warnings.filterwarnings(\"ignore\", category=DeprecationWarning)"
   ]
  },
  {
   "cell_type": "code",
   "execution_count": 11,
   "metadata": {
    "collapsed": true
   },
   "outputs": [],
   "source": [
    "TRAIN_HOUSES = {\n",
    "    'microwave': (1, 2),\n",
    "    'fridge': (1, 2, 4),\n",
    "    'dish washer': (1, 2),\n",
    "    'kettle': (1, 2, 4),\n",
    "    'washing machine': (1, 5)\n",
    "}\n",
    "\n",
    "TEST_HOUSES = {\n",
    "    'microwave': (5,),\n",
    "    'fridge': (5,),\n",
    "    'dish washer': (5,),\n",
    "    'kettle': (5,),\n",
    "    'washing machine': (2,)\n",
    "}\n",
    "\n",
    "APPLIANCES = TRAIN_HOUSES.keys()\n",
    "\n",
    "HOUSES = [1, 2, 3, 4, 5]\n",
    "\n",
    "METRICS = [\n",
    "    'f1_score',\n",
    "    'precision_score',\n",
    "    'recall_score',\n",
    "    'accuracy_score',\n",
    "    'relative_error_in_total_energy',\n",
    "    'total_energy_correctly_assigned',\n",
    "    'mean_absolute_error'\n",
    "]\n",
    "\n",
    "# ALGORITHMS = ['mean', 'zero', 'co', 'fhmm', 'ae', 'rectangles', 'rnn']\n",
    "\n",
    "ALGORITHMS = ['co', 'fhmm', 'ae', 'rectangles']\n",
    "\n",
    "\n",
    "ESTIMATES_PATH = expanduser(\n",
    "    \"~/PhD/experiments/neural_nilm/data_for_BuildSys2015/disag_estimates\")\n",
    "GROUND_TRUTH_PATH = expanduser(\n",
    "    \"~/PhD/experiments/neural_nilm/data_for_BuildSys2015/ground_truth_and_mains\")"
   ]
  },
  {
   "cell_type": "code",
   "execution_count": 3,
   "metadata": {
    "collapsed": true
   },
   "outputs": [],
   "source": [
    "def load(architecture, building_i, appliance):\n",
    "    # load estimates\n",
    "    estimates_fname = \"{}_building_{}_estimates_{}.csv\".format(\n",
    "        architecture, building_i, appliance)\n",
    "    estimates_fname = join(ESTIMATES_PATH, estimates_fname)\n",
    "    y_pred = np.loadtxt(estimates_fname, delimiter=',')\n",
    "\n",
    "    # load ground truth\n",
    "    y_true_fname = \"building_{}_{}.csv\".format(building_i, appliance.replace(' ', '_'))\n",
    "    y_true_fname = join(GROUND_TRUTH_PATH, y_true_fname)\n",
    "    y_true = np.loadtxt(y_true_fname, delimiter=',')\n",
    "\n",
    "    # load mains\n",
    "    mains_fname = \"building_{}_mains.csv\".format(building_i)\n",
    "    mains_fname = join(GROUND_TRUTH_PATH, mains_fname)\n",
    "    mains = np.loadtxt(mains_fname, delimiter=',')\n",
    "\n",
    "    return y_true, y_pred, mains"
   ]
  },
  {
   "cell_type": "code",
   "execution_count": 4,
   "metadata": {
    "collapsed": true
   },
   "outputs": [],
   "source": [
    "def plot_all(y_true, y_pred, mains, title=None):\n",
    "    fig, axes = plt.subplots(nrows=3, sharex=True)\n",
    "    axes[0].plot(y_pred)\n",
    "    axes[0].set_title('y_pred')\n",
    "    axes[1].plot(y_true)\n",
    "    axes[1].set_title('y_true')\n",
    "    axes[2].plot(mains)\n",
    "    axes[2].set_title('mains')\n",
    "    if title:\n",
    "        fig.set_title(title)\n",
    "    plt.show()\n",
    "    return fig, axes"
   ]
  },
  {
   "cell_type": "code",
   "execution_count": 5,
   "metadata": {
    "collapsed": false
   },
   "outputs": [
    {
     "data": {
      "text/plain": [
       "(<matplotlib.figure.Figure at 0x7fd978be16d0>,\n",
       " array([<matplotlib.axes._subplots.AxesSubplot object at 0x7fd96c0b36d0>,\n",
       "        <matplotlib.axes._subplots.AxesSubplot object at 0x7fd95d3c7290>,\n",
       "        <matplotlib.axes._subplots.AxesSubplot object at 0x7fd95d33fe90>], dtype=object))"
      ]
     },
     "execution_count": 5,
     "metadata": {},
     "output_type": "execute_result"
    }
   ],
   "source": [
    "y_true, y_pred, mains = load('rectangles', 1, 'washing machine')\n",
    "plot_all(y_true, y_pred, mains)"
   ]
  },
  {
   "cell_type": "code",
   "execution_count": 6,
   "metadata": {
    "collapsed": true
   },
   "outputs": [],
   "source": [
    "# Run metrics\n"
   ]
  },
  {
   "cell_type": "code",
   "execution_count": 22,
   "metadata": {
    "collapsed": false
   },
   "outputs": [],
   "source": [
    "def calc_metrics(houses):\n",
    "    scores = pd.Panel(\n",
    "        np.NaN,\n",
    "        items=APPLIANCES,\n",
    "        major_axis=METRICS,\n",
    "        minor_axis=ALGORITHMS\n",
    "    )\n",
    "    \n",
    "    for appliance in APPLIANCES:\n",
    "        houses_for_appliance = houses[appliance]\n",
    "        for algo in ALGORITHMS:\n",
    "            house_scores = pd.DataFrame(\n",
    "                np.NaN, columns=houses_for_appliance, index=METRICS)\n",
    "            for house_i in houses_for_appliance:\n",
    "                y_true, y_pred, mains = load(algo, house_i, appliance)\n",
    "                house_scores_dict = run_metrics(y_true, y_pred, mains)\n",
    "                house_scores_dict.pop('sum_abs_diff')\n",
    "                house_scores[house_i] = house_scores_dict\n",
    "                \n",
    "    return scores\n",
    "                    "
   ]
  },
  {
   "cell_type": "code",
   "execution_count": 25,
   "metadata": {
    "collapsed": false
   },
   "outputs": [
    {
     "name": "stderr",
     "output_type": "stream",
     "text": [
      "/usr/local/lib/python2.7/dist-packages/sklearn/metrics/metrics.py:1249: UserWarning: The precision and recall are equal to zero for some labels. fbeta_score is ill defined for those labels [False]. \n",
      "  average=average)\n",
      "/usr/local/lib/python2.7/dist-packages/sklearn/metrics/metrics.py:1734: UserWarning: The precision and recall are equal to zero for some labels. fbeta_score is ill defined for those labels [False]. \n",
      "  average=average)\n",
      "/usr/local/lib/python2.7/dist-packages/sklearn/metrics/metrics.py:1809: UserWarning: The precision and recall are equal to zero for some labels. fbeta_score is ill defined for those labels [False]. \n",
      "  average=average)\n"
     ]
    },
    {
     "ename": "IOError",
     "evalue": "[Errno 2] No such file or directory: '/home/jack/PhD/experiments/neural_nilm/data_for_BuildSys2015/disag_estimates/ae_building_5_estimates_microwave.csv'",
     "output_type": "error",
     "traceback": [
      "\u001b[1;31m---------------------------------------------------------------------------\u001b[0m",
      "\u001b[1;31mIOError\u001b[0m                                   Traceback (most recent call last)",
      "\u001b[1;32m<ipython-input-25-d2a4ab2e64d8>\u001b[0m in \u001b[0;36m<module>\u001b[1;34m()\u001b[0m\n\u001b[1;32m----> 1\u001b[1;33m \u001b[0mscores\u001b[0m \u001b[1;33m=\u001b[0m \u001b[0mcalc_metrics\u001b[0m\u001b[1;33m(\u001b[0m\u001b[0mTEST_HOUSES\u001b[0m\u001b[1;33m)\u001b[0m\u001b[1;33m\u001b[0m\u001b[0m\n\u001b[0m",
      "\u001b[1;32m<ipython-input-22-2bb3f42c57e5>\u001b[0m in \u001b[0;36mcalc_metrics\u001b[1;34m(houses)\u001b[0m\n\u001b[0;32m     13\u001b[0m                 np.NaN, columns=houses_for_appliance, index=METRICS)\n\u001b[0;32m     14\u001b[0m             \u001b[1;32mfor\u001b[0m \u001b[0mhouse_i\u001b[0m \u001b[1;32min\u001b[0m \u001b[0mhouses_for_appliance\u001b[0m\u001b[1;33m:\u001b[0m\u001b[1;33m\u001b[0m\u001b[0m\n\u001b[1;32m---> 15\u001b[1;33m                 \u001b[0my_true\u001b[0m\u001b[1;33m,\u001b[0m \u001b[0my_pred\u001b[0m\u001b[1;33m,\u001b[0m \u001b[0mmains\u001b[0m \u001b[1;33m=\u001b[0m \u001b[0mload\u001b[0m\u001b[1;33m(\u001b[0m\u001b[0malgo\u001b[0m\u001b[1;33m,\u001b[0m \u001b[0mhouse_i\u001b[0m\u001b[1;33m,\u001b[0m \u001b[0mappliance\u001b[0m\u001b[1;33m)\u001b[0m\u001b[1;33m\u001b[0m\u001b[0m\n\u001b[0m\u001b[0;32m     16\u001b[0m                 \u001b[0mhouse_scores_dict\u001b[0m \u001b[1;33m=\u001b[0m \u001b[0mrun_metrics\u001b[0m\u001b[1;33m(\u001b[0m\u001b[0my_true\u001b[0m\u001b[1;33m,\u001b[0m \u001b[0my_pred\u001b[0m\u001b[1;33m,\u001b[0m \u001b[0mmains\u001b[0m\u001b[1;33m)\u001b[0m\u001b[1;33m\u001b[0m\u001b[0m\n\u001b[0;32m     17\u001b[0m                 \u001b[0mhouse_scores_dict\u001b[0m\u001b[1;33m.\u001b[0m\u001b[0mpop\u001b[0m\u001b[1;33m(\u001b[0m\u001b[1;34m'sum_abs_diff'\u001b[0m\u001b[1;33m)\u001b[0m\u001b[1;33m\u001b[0m\u001b[0m\n",
      "\u001b[1;32m<ipython-input-3-b38a4ed3dce4>\u001b[0m in \u001b[0;36mload\u001b[1;34m(architecture, building_i, appliance)\u001b[0m\n\u001b[0;32m      4\u001b[0m         architecture, building_i, appliance)\n\u001b[0;32m      5\u001b[0m     \u001b[0mestimates_fname\u001b[0m \u001b[1;33m=\u001b[0m \u001b[0mjoin\u001b[0m\u001b[1;33m(\u001b[0m\u001b[0mESTIMATES_PATH\u001b[0m\u001b[1;33m,\u001b[0m \u001b[0mestimates_fname\u001b[0m\u001b[1;33m)\u001b[0m\u001b[1;33m\u001b[0m\u001b[0m\n\u001b[1;32m----> 6\u001b[1;33m     \u001b[0my_pred\u001b[0m \u001b[1;33m=\u001b[0m \u001b[0mnp\u001b[0m\u001b[1;33m.\u001b[0m\u001b[0mloadtxt\u001b[0m\u001b[1;33m(\u001b[0m\u001b[0mestimates_fname\u001b[0m\u001b[1;33m,\u001b[0m \u001b[0mdelimiter\u001b[0m\u001b[1;33m=\u001b[0m\u001b[1;34m','\u001b[0m\u001b[1;33m)\u001b[0m\u001b[1;33m\u001b[0m\u001b[0m\n\u001b[0m\u001b[0;32m      7\u001b[0m \u001b[1;33m\u001b[0m\u001b[0m\n\u001b[0;32m      8\u001b[0m     \u001b[1;31m# load ground truth\u001b[0m\u001b[1;33m\u001b[0m\u001b[1;33m\u001b[0m\u001b[0m\n",
      "\u001b[1;32m/usr/local/lib/python2.7/dist-packages/numpy/lib/npyio.pyc\u001b[0m in \u001b[0;36mloadtxt\u001b[1;34m(fname, dtype, comments, delimiter, converters, skiprows, usecols, unpack, ndmin)\u001b[0m\n\u001b[0;32m    736\u001b[0m                 \u001b[0mfh\u001b[0m \u001b[1;33m=\u001b[0m \u001b[0miter\u001b[0m\u001b[1;33m(\u001b[0m\u001b[0mbz2\u001b[0m\u001b[1;33m.\u001b[0m\u001b[0mBZ2File\u001b[0m\u001b[1;33m(\u001b[0m\u001b[0mfname\u001b[0m\u001b[1;33m)\u001b[0m\u001b[1;33m)\u001b[0m\u001b[1;33m\u001b[0m\u001b[0m\n\u001b[0;32m    737\u001b[0m             \u001b[1;32melif\u001b[0m \u001b[0msys\u001b[0m\u001b[1;33m.\u001b[0m\u001b[0mversion_info\u001b[0m\u001b[1;33m[\u001b[0m\u001b[1;36m0\u001b[0m\u001b[1;33m]\u001b[0m \u001b[1;33m==\u001b[0m \u001b[1;36m2\u001b[0m\u001b[1;33m:\u001b[0m\u001b[1;33m\u001b[0m\u001b[0m\n\u001b[1;32m--> 738\u001b[1;33m                 \u001b[0mfh\u001b[0m \u001b[1;33m=\u001b[0m \u001b[0miter\u001b[0m\u001b[1;33m(\u001b[0m\u001b[0mopen\u001b[0m\u001b[1;33m(\u001b[0m\u001b[0mfname\u001b[0m\u001b[1;33m,\u001b[0m \u001b[1;34m'U'\u001b[0m\u001b[1;33m)\u001b[0m\u001b[1;33m)\u001b[0m\u001b[1;33m\u001b[0m\u001b[0m\n\u001b[0m\u001b[0;32m    739\u001b[0m             \u001b[1;32melse\u001b[0m\u001b[1;33m:\u001b[0m\u001b[1;33m\u001b[0m\u001b[0m\n\u001b[0;32m    740\u001b[0m                 \u001b[0mfh\u001b[0m \u001b[1;33m=\u001b[0m \u001b[0miter\u001b[0m\u001b[1;33m(\u001b[0m\u001b[0mopen\u001b[0m\u001b[1;33m(\u001b[0m\u001b[0mfname\u001b[0m\u001b[1;33m)\u001b[0m\u001b[1;33m)\u001b[0m\u001b[1;33m\u001b[0m\u001b[0m\n",
      "\u001b[1;31mIOError\u001b[0m: [Errno 2] No such file or directory: '/home/jack/PhD/experiments/neural_nilm/data_for_BuildSys2015/disag_estimates/ae_building_5_estimates_microwave.csv'"
     ]
    }
   ],
   "source": [
    "scores = calc_metrics(TEST_HOUSES)"
   ]
  },
  {
   "cell_type": "code",
   "execution_count": null,
   "metadata": {
    "collapsed": true
   },
   "outputs": [],
   "source": []
  }
 ],
 "metadata": {
  "kernelspec": {
   "display_name": "Python 2",
   "language": "python",
   "name": "python2"
  },
  "language_info": {
   "codemirror_mode": {
    "name": "ipython",
    "version": 2
   },
   "file_extension": ".py",
   "mimetype": "text/x-python",
   "name": "python",
   "nbconvert_exporter": "python",
   "pygments_lexer": "ipython2",
   "version": "2.7.9"
  }
 },
 "nbformat": 4,
 "nbformat_minor": 0
}
