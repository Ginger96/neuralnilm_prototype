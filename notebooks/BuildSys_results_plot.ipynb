{
 "cells": [
  {
   "cell_type": "code",
   "execution_count": 23,
   "metadata": {
    "collapsed": false
   },
   "outputs": [],
   "source": [
    "from __future__ import print_function, division\n",
    "import numpy as np\n",
    "from os.path import join, expanduser\n",
    "import matplotlib.pyplot as plt\n",
    "from matplotlib import ticker\n",
    "import yaml  # for pretty-printing dict\n",
    "from neuralnilm.metrics import run_metrics, across_all_appliances\n",
    "import pandas as pd\n",
    "\n",
    "# sklearn evokes warnings from numpy\n",
    "import warnings\n",
    "warnings.filterwarnings(\"ignore\", category=DeprecationWarning)"
   ]
  },
  {
   "cell_type": "code",
   "execution_count": 196,
   "metadata": {
    "collapsed": true
   },
   "outputs": [],
   "source": [
    "TRAIN_HOUSES = {\n",
    "    'microwave': (1, 2),\n",
    "    'fridge': (1, 2, 4),\n",
    "    'dish washer': (1, 2),\n",
    "    'kettle': (1, 2, 4),\n",
    "    'washing machine': (1, 5)\n",
    "}\n",
    "\n",
    "TEST_HOUSES = {\n",
    "    'microwave': (5,),\n",
    "    'fridge': (5,),\n",
    "    'dish washer': (5,),\n",
    "    'kettle': (5,),\n",
    "    'washing machine': (2,)\n",
    "}\n",
    "\n",
    "APPLIANCES = TRAIN_HOUSES.keys()\n",
    "\n",
    "ON_POWER_THRESHOLDS = {\n",
    "    'microwave': 200,\n",
    "    'fridge': 30,\n",
    "    'dish washer': 10,\n",
    "    'kettle': 2000,\n",
    "    'washing machine': 20\n",
    "}\n",
    "\n",
    "HOUSES = [1, 2, 3, 4, 5]\n",
    "\n",
    "METRICS = [\n",
    "    'f1_score',\n",
    "    'precision_score',\n",
    "    'recall_score',\n",
    "    'accuracy_score',\n",
    "    'relative_error_in_total_energy',\n",
    "    'total_energy_correctly_assigned',\n",
    "    'mean_absolute_error'\n",
    "]\n",
    "\n",
    "ALGORITHMS = ['co', 'fhmm', 'ae', 'rectangles', 'rnn']\n",
    "\n",
    "full_algorithm_names = [\n",
    "    'Combinatorial Opt.', 'Factorial HMM', 'Autoencoder', 'Rectangles', 'LSTM']\n",
    "\n",
    "DATA_PATH = expanduser(\"~/PhD/experiments/neural_nilm/data_for_BuildSys2015/\")\n",
    "ESTIMATES_PATH = join(DATA_PATH, \"disag_estimates\")\n",
    "GROUND_TRUTH_PATH = join(DATA_PATH, \"ground_truth_and_mains\")\n",
    "\n",
    "PLOT_PATH = expanduser(\"~/PhD/writing/papers/BuildSys_2015_Neural_NILM\")"
   ]
  },
  {
   "cell_type": "code",
   "execution_count": 3,
   "metadata": {
    "collapsed": true
   },
   "outputs": [],
   "source": [
    "def load(architecture, building_i, appliance):\n",
    "    # load estimates\n",
    "    estimates_fname = \"{}_building_{}_estimates_{}.csv\".format(\n",
    "        architecture, building_i, appliance)\n",
    "    estimates_fname = join(ESTIMATES_PATH, estimates_fname)\n",
    "    y_pred = np.loadtxt(estimates_fname, delimiter=',')\n",
    "\n",
    "    # load ground truth\n",
    "    y_true_fname = \"building_{}_{}.csv\".format(building_i, appliance.replace(' ', '_'))\n",
    "    y_true_fname = join(GROUND_TRUTH_PATH, y_true_fname)\n",
    "    y_true = np.loadtxt(y_true_fname, delimiter=',')\n",
    "\n",
    "    # load mains\n",
    "    mains_fname = \"building_{}_mains.csv\".format(building_i)\n",
    "    mains_fname = join(GROUND_TRUTH_PATH, mains_fname)\n",
    "    mains = np.loadtxt(mains_fname, delimiter=',')\n",
    "\n",
    "    return y_true, y_pred, mains"
   ]
  },
  {
   "cell_type": "code",
   "execution_count": 4,
   "metadata": {
    "collapsed": true
   },
   "outputs": [],
   "source": [
    "def plot_all(y_true, y_pred, mains, title=None):\n",
    "    fig, axes = plt.subplots(nrows=3, sharex=True)\n",
    "    axes[0].plot(y_pred)\n",
    "    axes[0].set_title('y_pred')\n",
    "    axes[1].plot(y_true)\n",
    "    axes[1].set_title('y_true')\n",
    "    axes[2].plot(mains)\n",
    "    axes[2].set_title('mains')\n",
    "    if title:\n",
    "        fig.set_title(title)\n",
    "    plt.show()\n",
    "    return fig, axes"
   ]
  },
  {
   "cell_type": "code",
   "execution_count": 5,
   "metadata": {
    "collapsed": false
   },
   "outputs": [],
   "source": [
    "# Run metrics\n",
    "def calc_metrics(houses):\n",
    "    scores = pd.Panel(\n",
    "        np.NaN,\n",
    "        items=APPLIANCES,\n",
    "        major_axis=METRICS,\n",
    "        minor_axis=ALGORITHMS\n",
    "    )\n",
    "    \n",
    "    for appliance in APPLIANCES:\n",
    "        houses_for_appliance = houses[appliance]\n",
    "        on_power_threshold = ON_POWER_THRESHOLDS[appliance]\n",
    "        for algo in ALGORITHMS:\n",
    "            house_scores = pd.DataFrame(\n",
    "                np.NaN, columns=METRICS, index=houses_for_appliance)\n",
    "            for house_i in houses_for_appliance:\n",
    "                y_true, y_pred, mains = load(algo, house_i, appliance)\n",
    "                house_scores_dict = run_metrics(\n",
    "                    y_true, y_pred, mains, on_power_threshold)\n",
    "                house_scores_dict.pop('sum_abs_diff')\n",
    "                house_scores.loc[house_i] = house_scores_dict\n",
    "            scores[appliance, :, algo].update(house_scores.dropna().mean())\n",
    "    \n",
    "    scores['across all appliances'] = scores.mean(axis=0)\n",
    "    return scores"
   ]
  },
  {
   "cell_type": "code",
   "execution_count": 6,
   "metadata": {
    "collapsed": false
   },
   "outputs": [],
   "source": [
    "test_houses_scores = calc_metrics(TEST_HOUSES)\n",
    "train_houses_scores = calc_metrics(TRAIN_HOUSES)"
   ]
  },
  {
   "cell_type": "code",
   "execution_count": 11,
   "metadata": {
    "collapsed": true
   },
   "outputs": [],
   "source": [
    "scores_hdf_filename = join(DATA_PATH, 'all_scores.hdf')\n",
    "test_houses_scores.to_hdf(scores_hdf_filename, key='test')\n",
    "train_houses_scores.to_hdf(scores_hdf_filename, key='train')"
   ]
  },
  {
   "cell_type": "code",
   "execution_count": 12,
   "metadata": {
    "collapsed": false
   },
   "outputs": [
    {
     "data": {
      "text/html": [
       "<div>\n",
       "<table border=\"1\" class=\"dataframe\">\n",
       "  <thead>\n",
       "    <tr style=\"text-align: right;\">\n",
       "      <th></th>\n",
       "      <th>co</th>\n",
       "      <th>fhmm</th>\n",
       "      <th>ae</th>\n",
       "      <th>rectangles</th>\n",
       "      <th>rnn</th>\n",
       "    </tr>\n",
       "  </thead>\n",
       "  <tbody>\n",
       "    <tr>\n",
       "      <th>f1_score</th>\n",
       "      <td>0.101690</td>\n",
       "      <td>0.077404</td>\n",
       "      <td>0.132470</td>\n",
       "      <td>0.265773</td>\n",
       "      <td>0.025179</td>\n",
       "    </tr>\n",
       "    <tr>\n",
       "      <th>precision_score</th>\n",
       "      <td>0.056811</td>\n",
       "      <td>0.041181</td>\n",
       "      <td>0.070952</td>\n",
       "      <td>0.293043</td>\n",
       "      <td>0.012812</td>\n",
       "    </tr>\n",
       "    <tr>\n",
       "      <th>recall_score</th>\n",
       "      <td>0.484127</td>\n",
       "      <td>0.642857</td>\n",
       "      <td>0.996392</td>\n",
       "      <td>0.243146</td>\n",
       "      <td>0.725108</td>\n",
       "    </tr>\n",
       "    <tr>\n",
       "      <th>accuracy_score</th>\n",
       "      <td>0.882384</td>\n",
       "      <td>0.789273</td>\n",
       "      <td>0.820545</td>\n",
       "      <td>0.981527</td>\n",
       "      <td>0.227960</td>\n",
       "    </tr>\n",
       "    <tr>\n",
       "      <th>relative_error_in_total_energy</th>\n",
       "      <td>0.734942</td>\n",
       "      <td>0.859433</td>\n",
       "      <td>0.478495</td>\n",
       "      <td>-0.738145</td>\n",
       "      <td>0.909220</td>\n",
       "    </tr>\n",
       "    <tr>\n",
       "      <th>total_energy_correctly_assigned</th>\n",
       "      <td>0.930384</td>\n",
       "      <td>0.881886</td>\n",
       "      <td>0.957229</td>\n",
       "      <td>0.980871</td>\n",
       "      <td>0.808618</td>\n",
       "    </tr>\n",
       "    <tr>\n",
       "      <th>mean_absolute_error</th>\n",
       "      <td>39.467577</td>\n",
       "      <td>66.962825</td>\n",
       "      <td>24.248299</td>\n",
       "      <td>10.844981</td>\n",
       "      <td>108.500605</td>\n",
       "    </tr>\n",
       "  </tbody>\n",
       "</table>\n",
       "</div>"
      ],
      "text/plain": [
       "                                        co       fhmm         ae  rectangles  \\\n",
       "f1_score                          0.101690   0.077404   0.132470    0.265773   \n",
       "precision_score                   0.056811   0.041181   0.070952    0.293043   \n",
       "recall_score                      0.484127   0.642857   0.996392    0.243146   \n",
       "accuracy_score                    0.882384   0.789273   0.820545    0.981527   \n",
       "relative_error_in_total_energy    0.734942   0.859433   0.478495   -0.738145   \n",
       "total_energy_correctly_assigned   0.930384   0.881886   0.957229    0.980871   \n",
       "mean_absolute_error              39.467577  66.962825  24.248299   10.844981   \n",
       "\n",
       "                                        rnn  \n",
       "f1_score                           0.025179  \n",
       "precision_score                    0.012812  \n",
       "recall_score                       0.725108  \n",
       "accuracy_score                     0.227960  \n",
       "relative_error_in_total_energy     0.909220  \n",
       "total_energy_correctly_assigned    0.808618  \n",
       "mean_absolute_error              108.500605  "
      ]
     },
     "execution_count": 12,
     "metadata": {},
     "output_type": "execute_result"
    }
   ],
   "source": [
    "APPLIANCE = 'washing machine'\n",
    "test_houses_scores[APPLIANCE]"
   ]
  },
  {
   "cell_type": "code",
   "execution_count": 13,
   "metadata": {
    "collapsed": false
   },
   "outputs": [
    {
     "data": {
      "text/html": [
       "<div>\n",
       "<table border=\"1\" class=\"dataframe\">\n",
       "  <thead>\n",
       "    <tr style=\"text-align: right;\">\n",
       "      <th></th>\n",
       "      <th>co</th>\n",
       "      <th>fhmm</th>\n",
       "      <th>ae</th>\n",
       "      <th>rectangles</th>\n",
       "      <th>rnn</th>\n",
       "    </tr>\n",
       "  </thead>\n",
       "  <tbody>\n",
       "    <tr>\n",
       "      <th>f1_score</th>\n",
       "      <td>0.128903</td>\n",
       "      <td>0.111168</td>\n",
       "      <td>0.251175</td>\n",
       "      <td>0.493818</td>\n",
       "      <td>0.087758</td>\n",
       "    </tr>\n",
       "    <tr>\n",
       "      <th>precision_score</th>\n",
       "      <td>0.075282</td>\n",
       "      <td>0.061310</td>\n",
       "      <td>0.148191</td>\n",
       "      <td>0.724677</td>\n",
       "      <td>0.048637</td>\n",
       "    </tr>\n",
       "    <tr>\n",
       "      <th>recall_score</th>\n",
       "      <td>0.564659</td>\n",
       "      <td>0.869108</td>\n",
       "      <td>0.992013</td>\n",
       "      <td>0.377078</td>\n",
       "      <td>0.617400</td>\n",
       "    </tr>\n",
       "    <tr>\n",
       "      <th>accuracy_score</th>\n",
       "      <td>0.687574</td>\n",
       "      <td>0.385451</td>\n",
       "      <td>0.763328</td>\n",
       "      <td>0.966354</td>\n",
       "      <td>0.311202</td>\n",
       "    </tr>\n",
       "    <tr>\n",
       "      <th>relative_error_in_total_energy</th>\n",
       "      <td>0.648831</td>\n",
       "      <td>0.759248</td>\n",
       "      <td>0.179166</td>\n",
       "      <td>-0.651331</td>\n",
       "      <td>0.732140</td>\n",
       "    </tr>\n",
       "    <tr>\n",
       "      <th>total_energy_correctly_assigned</th>\n",
       "      <td>0.920369</td>\n",
       "      <td>0.877248</td>\n",
       "      <td>0.959632</td>\n",
       "      <td>0.973316</td>\n",
       "      <td>0.882958</td>\n",
       "    </tr>\n",
       "    <tr>\n",
       "      <th>mean_absolute_error</th>\n",
       "      <td>87.919616</td>\n",
       "      <td>137.529573</td>\n",
       "      <td>44.060847</td>\n",
       "      <td>28.470840</td>\n",
       "      <td>132.590392</td>\n",
       "    </tr>\n",
       "  </tbody>\n",
       "</table>\n",
       "</div>"
      ],
      "text/plain": [
       "                                        co        fhmm         ae  rectangles  \\\n",
       "f1_score                          0.128903    0.111168   0.251175    0.493818   \n",
       "precision_score                   0.075282    0.061310   0.148191    0.724677   \n",
       "recall_score                      0.564659    0.869108   0.992013    0.377078   \n",
       "accuracy_score                    0.687574    0.385451   0.763328    0.966354   \n",
       "relative_error_in_total_energy    0.648831    0.759248   0.179166   -0.651331   \n",
       "total_energy_correctly_assigned   0.920369    0.877248   0.959632    0.973316   \n",
       "mean_absolute_error              87.919616  137.529573  44.060847   28.470840   \n",
       "\n",
       "                                        rnn  \n",
       "f1_score                           0.087758  \n",
       "precision_score                    0.048637  \n",
       "recall_score                       0.617400  \n",
       "accuracy_score                     0.311202  \n",
       "relative_error_in_total_energy     0.732140  \n",
       "total_energy_correctly_assigned    0.882958  \n",
       "mean_absolute_error              132.590392  "
      ]
     },
     "execution_count": 13,
     "metadata": {},
     "output_type": "execute_result"
    }
   ],
   "source": [
    "train_houses_scores[APPLIANCE]"
   ]
  },
  {
   "cell_type": "code",
   "execution_count": 14,
   "metadata": {
    "collapsed": false
   },
   "outputs": [
    {
     "data": {
      "text/html": [
       "<div>\n",
       "<table border=\"1\" class=\"dataframe\">\n",
       "  <thead>\n",
       "    <tr style=\"text-align: right;\">\n",
       "      <th></th>\n",
       "      <th>co</th>\n",
       "      <th>fhmm</th>\n",
       "      <th>ae</th>\n",
       "      <th>rectangles</th>\n",
       "      <th>rnn</th>\n",
       "    </tr>\n",
       "  </thead>\n",
       "  <tbody>\n",
       "    <tr>\n",
       "      <th>f1_score</th>\n",
       "      <td>0.128903</td>\n",
       "      <td>0.111168</td>\n",
       "      <td>0.251175</td>\n",
       "      <td>0.493818</td>\n",
       "      <td>0.087758</td>\n",
       "    </tr>\n",
       "    <tr>\n",
       "      <th>precision_score</th>\n",
       "      <td>0.075282</td>\n",
       "      <td>0.061310</td>\n",
       "      <td>0.148191</td>\n",
       "      <td>0.724677</td>\n",
       "      <td>0.048637</td>\n",
       "    </tr>\n",
       "    <tr>\n",
       "      <th>recall_score</th>\n",
       "      <td>0.564659</td>\n",
       "      <td>0.869108</td>\n",
       "      <td>0.992013</td>\n",
       "      <td>0.377078</td>\n",
       "      <td>0.617400</td>\n",
       "    </tr>\n",
       "    <tr>\n",
       "      <th>accuracy_score</th>\n",
       "      <td>0.687574</td>\n",
       "      <td>0.385451</td>\n",
       "      <td>0.763328</td>\n",
       "      <td>0.966354</td>\n",
       "      <td>0.311202</td>\n",
       "    </tr>\n",
       "    <tr>\n",
       "      <th>relative_error_in_total_energy</th>\n",
       "      <td>0.648831</td>\n",
       "      <td>0.759248</td>\n",
       "      <td>0.179166</td>\n",
       "      <td>-0.651331</td>\n",
       "      <td>0.732140</td>\n",
       "    </tr>\n",
       "    <tr>\n",
       "      <th>total_energy_correctly_assigned</th>\n",
       "      <td>0.920369</td>\n",
       "      <td>0.877248</td>\n",
       "      <td>0.959632</td>\n",
       "      <td>0.973316</td>\n",
       "      <td>0.882958</td>\n",
       "    </tr>\n",
       "    <tr>\n",
       "      <th>mean_absolute_error</th>\n",
       "      <td>87.919616</td>\n",
       "      <td>137.529573</td>\n",
       "      <td>44.060847</td>\n",
       "      <td>28.470840</td>\n",
       "      <td>132.590392</td>\n",
       "    </tr>\n",
       "  </tbody>\n",
       "</table>\n",
       "</div>"
      ],
      "text/plain": [
       "                                        co        fhmm         ae  rectangles  \\\n",
       "f1_score                          0.128903    0.111168   0.251175    0.493818   \n",
       "precision_score                   0.075282    0.061310   0.148191    0.724677   \n",
       "recall_score                      0.564659    0.869108   0.992013    0.377078   \n",
       "accuracy_score                    0.687574    0.385451   0.763328    0.966354   \n",
       "relative_error_in_total_energy    0.648831    0.759248   0.179166   -0.651331   \n",
       "total_energy_correctly_assigned   0.920369    0.877248   0.959632    0.973316   \n",
       "mean_absolute_error              87.919616  137.529573  44.060847   28.470840   \n",
       "\n",
       "                                        rnn  \n",
       "f1_score                           0.087758  \n",
       "precision_score                    0.048637  \n",
       "recall_score                       0.617400  \n",
       "accuracy_score                     0.311202  \n",
       "relative_error_in_total_energy     0.732140  \n",
       "total_energy_correctly_assigned    0.882958  \n",
       "mean_absolute_error              132.590392  "
      ]
     },
     "execution_count": 14,
     "metadata": {},
     "output_type": "execute_result"
    }
   ],
   "source": [
    "train_houses_scores[APPLIANCE]"
   ]
  },
  {
   "cell_type": "code",
   "execution_count": 15,
   "metadata": {
    "collapsed": false
   },
   "outputs": [
    {
     "data": {
      "text/plain": [
       "(<matplotlib.figure.Figure at 0x7fec7dc80b90>,\n",
       " array([<matplotlib.axes._subplots.AxesSubplot object at 0x7fec7b74e550>,\n",
       "        <matplotlib.axes._subplots.AxesSubplot object at 0x7fec700aac10>,\n",
       "        <matplotlib.axes._subplots.AxesSubplot object at 0x7fec6a7f2590>], dtype=object))"
      ]
     },
     "execution_count": 15,
     "metadata": {},
     "output_type": "execute_result"
    }
   ],
   "source": [
    "y_true, y_pred, mains = load('rectangles', 5, APPLIANCE)\n",
    "plot_all(y_true, y_pred, mains)"
   ]
  },
  {
   "cell_type": "code",
   "execution_count": 261,
   "metadata": {
    "collapsed": false
   },
   "outputs": [],
   "source": [
    "# plot\n",
    "import seaborn as sns\n",
    "sns.reset_orig()\n",
    "# deep, muted, bright, pastel, dark, colorblind\n",
    "#FIGSIZE = (8.1, 8.7)\n",
    "FIGSIZE = (3.33, 3.8)\n",
    "#COLOR = sns.palettes.color_palette('deep', n_colors=5)\n",
    "\n",
    "COLOR = ['#5F7343', '#99A63C', '#FEC06A', '#F25430', '#E61924']\n",
    "#FONTSIZE = 10\n",
    "FONTSIZE = 6\n",
    "NUMBERS_ON_PLOT_FONTSIZE = 4.5\n",
    "\n",
    "def plot_scores(scores):\n",
    "    appliances = list(scores.items)\n",
    "    metrics = list(scores.major_axis)\n",
    "    algorithms = list(scores.minor_axis)\n",
    "    \n",
    "    nrows = len(metrics)\n",
    "    ncols = len(appliances)\n",
    "    n_algorithms = len(algorithms)\n",
    "    x = range(n_algorithms)\n",
    "    \n",
    "    fig, axes = plt.subplots(nrows=nrows, ncols=ncols, sharey='row', figsize=FIGSIZE)\n",
    "    fig.patch.set_facecolor('white')\n",
    "    for row_i, metric in enumerate(metrics):\n",
    "        for col_i, appliance in enumerate(appliances):\n",
    "            ax = axes[row_i, col_i]\n",
    "            scores_for_algorithms = scores[appliance, metric]\n",
    "            rects = ax.bar(\n",
    "                x, scores_for_algorithms, color=COLOR, edgecolor=COLOR, zorder=3)\n",
    "\n",
    "            # Numbers on the plot\n",
    "            if row_i == 6:  # mean absolute error (watts)\n",
    "                text_y = 90\n",
    "                text_format = '{:3.0f}'\n",
    "            elif row_i == 4:  # relative error in total energy\n",
    "                text_y = 0\n",
    "            else:\n",
    "                text_y = 0.5\n",
    "                text_format = '{:.2f}'\n",
    "\n",
    "            # Draw text\n",
    "            for i, rect in enumerate(rects):\n",
    "                ax.text(\n",
    "                    rect.get_x() + (1/12.),\n",
    "                    text_y,\n",
    "                    text_format.format(scores_for_algorithms[i]),\n",
    "                    va='center', rotation=90, fontsize=NUMBERS_ON_PLOT_FONTSIZE)\n",
    "\n",
    "            # Formatting\n",
    "            ax.set_xticks([])\n",
    "            ax.tick_params(direction='out')\n",
    "            #ax.yaxis.grid(\n",
    "            #    b=True, which='major', color='white', linestyle='-', zorder=0)\n",
    "            ax.patch.set_facecolor((0.9, 0.9, 0.9))\n",
    "\n",
    "            if row_i in [0, 1, 2, 3, 5]:\n",
    "                ax.set_ylim((0, 1))                \n",
    "            elif row_i == 4:  # relative error in total energy\n",
    "                ax.set_ylim((-1, 1))\n",
    "            elif row_i == 6:  # relative error in total energy\n",
    "                ax.set_ylim((0, 200))\n",
    "\n",
    "            for spine in ['top', 'right', 'left', 'bottom']:\n",
    "                ax.spines[spine].set_visible(False)\n",
    "\n",
    "            if row_i == 0:\n",
    "                if appliance == 'across all appliances':\n",
    "                    label = 'Across all\\nappliances'\n",
    "                else:\n",
    "                    label = appliance.replace(' ', '\\n')\n",
    "                    label = label[0].capitalize() + label[1:]\n",
    "                ax.set_title(label, fontsize=FONTSIZE)\n",
    "            if col_i == 0:\n",
    "                label = metric.replace('_', '\\n')\n",
    "                if label == 'mean\\nabsolute\\nerror':\n",
    "                    label = label + '\\n(watts)'\n",
    "                elif label == 'total\\nenergy\\ncorrectly\\nassigned':\n",
    "                    label = 'prop. of\\n' + label\n",
    "                elif label == 'relative\\nerror\\nin\\ntotal\\nenergy':\n",
    "                    label = 'relative\\nerror in\\ntotal\\nenergy'\n",
    "                label = label[0].capitalize() + label[1:]\n",
    "                ylabel = ax.set_ylabel(label, fontsize=FONTSIZE)\n",
    "                ylabel.set_rotation('horizontal')\n",
    "                ylabel.set_verticalalignment('center')\n",
    "                ylabel.set_horizontalalignment('center')\n",
    "                ax.yaxis.labelpad = 17\n",
    "                ax.tick_params(axis='y', left='on', right='off')\n",
    "                ax.yaxis.set_major_locator(ticker.MaxNLocator(2))\n",
    "                ax.tick_params(axis='both', which='major', labelsize=4.5, length=4, \n",
    "                               width=0.05)#, color=(0.5, 0.5, 0.5))\n",
    "                # ax.xaxis.set_tick_params(width=5)\n",
    "            else:\n",
    "                ax.tick_params(axis='y', left='off', right='off')\n",
    "\n",
    "    plt.subplots_adjust(hspace=0.3, top=0.94, bottom=0.07, left=0.20, right=0.9955)\n",
    "    plt.legend(rects, full_algorithm_names,#[\"CO\", \"FHMM\", \"Autoencoder\", \"Rectangles\", \"LSTM\"], \n",
    "               ncol=5, loc=(-7.7, -0.7),\n",
    "               frameon=False, fontsize=5, handlelength=1)\n",
    "    return fig, axes"
   ]
  },
  {
   "cell_type": "code",
   "execution_count": 262,
   "metadata": {
    "collapsed": true
   },
   "outputs": [],
   "source": [
    "import nilmtk\n",
    "nilmtk.plots.latexify()"
   ]
  },
  {
   "cell_type": "code",
   "execution_count": 263,
   "metadata": {
    "collapsed": false
   },
   "outputs": [],
   "source": [
    "fig, axes = plot_scores(test_houses_scores)\n",
    "#fig.suptitle('Unseen houses', fontsize=16)\n",
    "plt.savefig(join(PLOT_PATH, 'unseen_houses.pdf'))\n",
    "#plt.show()\n",
    "plt.close()"
   ]
  },
  {
   "cell_type": "code",
   "execution_count": 264,
   "metadata": {
    "collapsed": true
   },
   "outputs": [],
   "source": [
    "fig, axes = plot_scores(train_houses_scores)\n",
    "#fig.suptitle('Train houses', fontsize=16)\n",
    "plt.savefig(join(PLOT_PATH, 'train_houses.pdf'))\n",
    "#plt.show()"
   ]
  },
  {
   "cell_type": "code",
   "execution_count": 133,
   "metadata": {
    "collapsed": true
   },
   "outputs": [],
   "source": [
    "plt.legend?"
   ]
  },
  {
   "cell_type": "code",
   "execution_count": null,
   "metadata": {
    "collapsed": true
   },
   "outputs": [],
   "source": []
  }
 ],
 "metadata": {
  "kernelspec": {
   "display_name": "Python 2",
   "language": "python",
   "name": "python2"
  },
  "language_info": {
   "codemirror_mode": {
    "name": "ipython",
    "version": 2
   },
   "file_extension": ".py",
   "mimetype": "text/x-python",
   "name": "python",
   "nbconvert_exporter": "python",
   "pygments_lexer": "ipython2",
   "version": "2.7.9"
  }
 },
 "nbformat": 4,
 "nbformat_minor": 0
}
