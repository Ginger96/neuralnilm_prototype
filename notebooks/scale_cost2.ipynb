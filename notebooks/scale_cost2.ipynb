{
 "cells": [
  {
   "cell_type": "code",
   "execution_count": 1,
   "metadata": {
    "collapsed": false
   },
   "outputs": [
    {
     "name": "stdout",
     "output_type": "stream",
     "text": [
      "Couldn't import dot_parser, loading of dot files will not be possible.\n"
     ]
    }
   ],
   "source": [
    "from __future__ import print_function, division\n",
    "import numpy as np\n",
    "import matplotlib.pyplot as plt\n",
    "import theano\n",
    "import theano.tensor as T"
   ]
  },
  {
   "cell_type": "code",
   "execution_count": 2,
   "metadata": {
    "collapsed": false
   },
   "outputs": [],
   "source": [
    "SEQ_LENGTH = 1000\n",
    "def generate_single_example(power, duration, start):\n",
    "    activation = np.ones(duration, dtype=np.float32) * power\n",
    "    sequence = np.zeros(SEQ_LENGTH, dtype=np.float32)\n",
    "    sequence[start:start+duration] += activation\n",
    "    return sequence"
   ]
  },
  {
   "cell_type": "code",
   "execution_count": 13,
   "metadata": {
    "collapsed": false
   },
   "outputs": [],
   "source": [
    "N_SEQ_PER_BATCH = 5\n",
    "def generate_example(*args, **kwargs):\n",
    "    data = np.empty((N_SEQ_PER_BATCH, SEQ_LENGTH, 1))\n",
    "    for i in range(N_SEQ_PER_BATCH):\n",
    "        data[i,:,0] = generate_single_example(*args, **kwargs)\n",
    "    return data"
   ]
  },
  {
   "cell_type": "code",
   "execution_count": 4,
   "metadata": {
    "collapsed": false
   },
   "outputs": [],
   "source": [
    "error = 50\n",
    "power = 100\n",
    "\n",
    "short_seq_t = generate_single_example(power=power, duration=100, start=100)\n",
    "short_seq_x = generate_single_example(power=power+error, duration=100, start=100)\n",
    "\n",
    "long_seq_t = generate_single_example(power=power, duration=500, start=100)\n",
    "long_seq_x = generate_single_example(power=power+error, duration=500, start=100)"
   ]
  },
  {
   "cell_type": "code",
   "execution_count": 5,
   "metadata": {
    "collapsed": false
   },
   "outputs": [],
   "source": [
    "def cost(x, t):\n",
    "    return np.mean((x - t) ** 2)"
   ]
  },
  {
   "cell_type": "code",
   "execution_count": 6,
   "metadata": {
    "collapsed": false
   },
   "outputs": [
    {
     "data": {
      "text/plain": [
       "250.0"
      ]
     },
     "execution_count": 6,
     "metadata": {},
     "output_type": "execute_result"
    }
   ],
   "source": [
    "cost(short_seq_t, short_seq_x)"
   ]
  },
  {
   "cell_type": "code",
   "execution_count": 6,
   "metadata": {
    "collapsed": false
   },
   "outputs": [
    {
     "data": {
      "text/plain": [
       "1250.0"
      ]
     },
     "execution_count": 6,
     "metadata": {},
     "output_type": "execute_result"
    }
   ],
   "source": [
    "cost(long_seq_t, long_seq_x)"
   ]
  },
  {
   "cell_type": "code",
   "execution_count": 7,
   "metadata": {
    "collapsed": false
   },
   "outputs": [
    {
     "data": {
      "text/plain": [
       "array([ 100.,  100.,  100.,  100.,  100.,  100.,  100.,  100.,  100.,\n",
       "        100.,  100.,  100.,  100.,  100.,  100.,  100.,  100.,  100.,\n",
       "        100.,  100.,  100.,  100.,  100.,  100.,  100.,  100.,  100.,\n",
       "        100.,  100.,  100.,  100.,  100.,  100.,  100.,  100.,  100.,\n",
       "        100.,  100.,  100.,  100.,  100.,  100.,  100.,  100.,  100.,\n",
       "        100.,  100.,  100.,  100.,  100.,  100.,  100.,  100.,  100.,\n",
       "        100.,  100.,  100.,  100.,  100.,  100.,  100.,  100.,  100.,\n",
       "        100.,  100.,  100.,  100.,  100.,  100.,  100.,  100.,  100.,\n",
       "        100.,  100.,  100.,  100.,  100.,  100.,  100.,  100.,  100.,\n",
       "        100.,  100.,  100.,  100.,  100.,  100.,  100.,  100.,  100.,\n",
       "        100.,  100.,  100.,  100.,  100.,  100.,  100.,  100.,  100.,  100.], dtype=float32)"
      ]
     },
     "execution_count": 7,
     "metadata": {},
     "output_type": "execute_result"
    }
   ],
   "source": [
    "short_seq_t[short_seq_t > 0]"
   ]
  },
  {
   "cell_type": "code",
   "execution_count": 48,
   "metadata": {
    "collapsed": false
   },
   "outputs": [],
   "source": [
    "from theano.ifelse import ifelse\n",
    "THRESHOLD = 0\n",
    "def cost2(x, t):\n",
    "    sq_error = (x - t) ** 2\n",
    "    def mask_and_mean_sq_error(mask):\n",
    "        masked_sq_error = sq_error[mask.nonzero()]\n",
    "        mean = masked_sq_error.mean()\n",
    "        mean = ifelse(T.isnan(mean), 0.0, mean)\n",
    "        return mean\n",
    "    above_thresh_mean = mask_and_mean_sq_error(t > THRESHOLD)\n",
    "    below_thresh_mean = mask_and_mean_sq_error(t <= THRESHOLD)\n",
    "    return (above_thresh_mean + below_thresh_mean) / 2.0"
   ]
  },
  {
   "cell_type": "code",
   "execution_count": 49,
   "metadata": {
    "collapsed": false
   },
   "outputs": [
    {
     "data": {
      "text/plain": [
       "array(1250.0, dtype=float32)"
      ]
     },
     "execution_count": 49,
     "metadata": {},
     "output_type": "execute_result"
    }
   ],
   "source": [
    "cost2(theano.shared(short_seq_x), theano.shared(short_seq_t)).eval()"
   ]
  },
  {
   "cell_type": "code",
   "execution_count": 50,
   "metadata": {
    "collapsed": false
   },
   "outputs": [
    {
     "data": {
      "text/plain": [
       "Elemwise{true_div,no_inplace}.0"
      ]
     },
     "execution_count": 50,
     "metadata": {},
     "output_type": "execute_result"
    }
   ],
   "source": [
    "cost2(short_seq_x, short_seq_t)"
   ]
  },
  {
   "cell_type": "code",
   "execution_count": 51,
   "metadata": {
    "collapsed": false
   },
   "outputs": [
    {
     "data": {
      "text/plain": [
       "array(0.0, dtype=float32)"
      ]
     },
     "execution_count": 51,
     "metadata": {},
     "output_type": "execute_result"
    }
   ],
   "source": [
    "cost2(theano.shared(np.zeros(TOTAL_LENGTH, dtype=np.float32)), theano.shared(np.zeros(TOTAL_LENGTH, dtype=np.float32))).eval()"
   ]
  },
  {
   "cell_type": "code",
   "execution_count": 27,
   "metadata": {
    "collapsed": false
   },
   "outputs": [
    {
     "data": {
      "text/plain": [
       "array(1000)"
      ]
     },
     "execution_count": 27,
     "metadata": {},
     "output_type": "execute_result"
    }
   ],
   "source": [
    "(t > THRESHOLD).shape[0].eval()"
   ]
  },
  {
   "cell_type": "code",
   "execution_count": 35,
   "metadata": {
    "collapsed": false
   },
   "outputs": [
    {
     "data": {
      "text/plain": [
       "0"
      ]
     },
     "execution_count": 35,
     "metadata": {},
     "output_type": "execute_result"
    }
   ],
   "source": [
    "(0-0) ** 2"
   ]
  },
  {
   "cell_type": "code",
   "execution_count": 14,
   "metadata": {
    "collapsed": false
   },
   "outputs": [],
   "source": [
    "t = generate_example(power=power, duration=100, start=100)"
   ]
  },
  {
   "cell_type": "code",
   "execution_count": 19,
   "metadata": {
    "collapsed": false
   },
   "outputs": [],
   "source": [
    "n_above_thresh_per_seq = (t > 0).sum(axis=1)"
   ]
  },
  {
   "cell_type": "code",
   "execution_count": 20,
   "metadata": {
    "collapsed": true
   },
   "outputs": [],
   "source": [
    "n_below_thresh_per_seq = SEQ_LENGTH - n_above_thresh_per_seq"
   ]
  },
  {
   "cell_type": "code",
   "execution_count": 22,
   "metadata": {
    "collapsed": false
   },
   "outputs": [],
   "source": [
    "mask = np.ones(t.shape)"
   ]
  },
  {
   "cell_type": "code",
   "execution_count": 24,
   "metadata": {
    "collapsed": false
   },
   "outputs": [
    {
     "data": {
      "text/plain": [
       "(500,)"
      ]
     },
     "execution_count": 24,
     "metadata": {},
     "output_type": "execute_result"
    }
   ],
   "source": [
    "mask[(t > 0)].shape"
   ]
  },
  {
   "cell_type": "code",
   "execution_count": 27,
   "metadata": {
    "collapsed": false
   },
   "outputs": [
    {
     "data": {
      "text/plain": [
       "(5, 1000, 1)"
      ]
     },
     "execution_count": 27,
     "metadata": {},
     "output_type": "execute_result"
    }
   ],
   "source": [
    "(t > 0).shape"
   ]
  },
  {
   "cell_type": "code",
   "execution_count": null,
   "metadata": {
    "collapsed": true
   },
   "outputs": [],
   "source": []
  }
 ],
 "metadata": {
  "kernelspec": {
   "display_name": "Python 2",
   "language": "python",
   "name": "python2"
  },
  "language_info": {
   "codemirror_mode": {
    "name": "ipython",
    "version": 2
   },
   "file_extension": ".py",
   "mimetype": "text/x-python",
   "name": "python",
   "nbconvert_exporter": "python",
   "pygments_lexer": "ipython2",
   "version": "2.7.8"
  }
 },
 "nbformat": 4,
 "nbformat_minor": 0
}
