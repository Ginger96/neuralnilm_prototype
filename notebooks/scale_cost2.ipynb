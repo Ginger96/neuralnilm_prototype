{
 "metadata": {
  "name": "",
  "signature": "sha256:1bf3fb4b51ada9dbe973f5158dfb5e34335a2e023b17f18b6bb10ec180a0fdfb"
 },
 "nbformat": 3,
 "nbformat_minor": 0,
 "worksheets": [
  {
   "cells": [
    {
     "cell_type": "code",
     "collapsed": false,
     "input": [
      "from __future__ import print_function, division\n",
      "import numpy as np\n",
      "import matplotlib.pyplot as plt\n",
      "import theano\n",
      "import theano.tensor as T"
     ],
     "language": "python",
     "metadata": {},
     "outputs": [
      {
       "output_type": "stream",
       "stream": "stdout",
       "text": [
        "Couldn't import dot_parser, loading of dot files will not be possible.\n"
       ]
      }
     ],
     "prompt_number": 1
    },
    {
     "cell_type": "code",
     "collapsed": false,
     "input": [
      "SEQ_LENGTH = 1000\n",
      "def generate_single_example(power, duration, start):\n",
      "    activation = np.ones(duration, dtype=np.float32) * power\n",
      "    sequence = np.zeros(SEQ_LENGTH, dtype=np.float32)\n",
      "    sequence[start:start+duration] += activation\n",
      "    return sequence"
     ],
     "language": "python",
     "metadata": {},
     "outputs": [],
     "prompt_number": 2
    },
    {
     "cell_type": "code",
     "collapsed": false,
     "input": [
      "N_SEQ_PER_BATCH = 5\n",
      "def generate_example(*args, **kwargs):\n",
      "    data = np.empty((N_SEQ_PER_BATCH, SEQ_LENGTH, 1))\n",
      "    for i in range(N_SEQ_PER_BATCH):\n",
      "        data[i,:,:] = generate_single_example(*args, **kwargs)"
     ],
     "language": "python",
     "metadata": {},
     "outputs": []
    },
    {
     "cell_type": "code",
     "collapsed": false,
     "input": [
      "error = 50\n",
      "power = 100\n",
      "\n",
      "short_seq_t = generate_single_example(power=power, duration=100, start=100)\n",
      "short_seq_x = generate_single_example(power=power+error, duration=100, start=100)\n",
      "\n",
      "long_seq_t = generate_single_example(power=power, duration=500, start=100)\n",
      "long_seq_x = generate_single_example(power=power+error, duration=500, start=100)"
     ],
     "language": "python",
     "metadata": {},
     "outputs": [],
     "prompt_number": 3
    },
    {
     "cell_type": "code",
     "collapsed": false,
     "input": [
      "def cost(x, t):\n",
      "    return np.mean((x - t) ** 2)"
     ],
     "language": "python",
     "metadata": {},
     "outputs": [],
     "prompt_number": 4
    },
    {
     "cell_type": "code",
     "collapsed": false,
     "input": [
      "cost(short_seq_t, short_seq_x)"
     ],
     "language": "python",
     "metadata": {},
     "outputs": [
      {
       "metadata": {},
       "output_type": "pyout",
       "prompt_number": 5,
       "text": [
        "250.0"
       ]
      }
     ],
     "prompt_number": 5
    },
    {
     "cell_type": "code",
     "collapsed": false,
     "input": [
      "cost(long_seq_t, long_seq_x)"
     ],
     "language": "python",
     "metadata": {},
     "outputs": [
      {
       "metadata": {},
       "output_type": "pyout",
       "prompt_number": 6,
       "text": [
        "1250.0"
       ]
      }
     ],
     "prompt_number": 6
    },
    {
     "cell_type": "code",
     "collapsed": false,
     "input": [
      "short_seq_t[short_seq_t > 0]"
     ],
     "language": "python",
     "metadata": {},
     "outputs": [
      {
       "metadata": {},
       "output_type": "pyout",
       "prompt_number": 7,
       "text": [
        "array([ 100.,  100.,  100.,  100.,  100.,  100.,  100.,  100.,  100.,\n",
        "        100.,  100.,  100.,  100.,  100.,  100.,  100.,  100.,  100.,\n",
        "        100.,  100.,  100.,  100.,  100.,  100.,  100.,  100.,  100.,\n",
        "        100.,  100.,  100.,  100.,  100.,  100.,  100.,  100.,  100.,\n",
        "        100.,  100.,  100.,  100.,  100.,  100.,  100.,  100.,  100.,\n",
        "        100.,  100.,  100.,  100.,  100.,  100.,  100.,  100.,  100.,\n",
        "        100.,  100.,  100.,  100.,  100.,  100.,  100.,  100.,  100.,\n",
        "        100.,  100.,  100.,  100.,  100.,  100.,  100.,  100.,  100.,\n",
        "        100.,  100.,  100.,  100.,  100.,  100.,  100.,  100.,  100.,\n",
        "        100.,  100.,  100.,  100.,  100.,  100.,  100.,  100.,  100.,\n",
        "        100.,  100.,  100.,  100.,  100.,  100.,  100.,  100.,  100.,  100.], dtype=float32)"
       ]
      }
     ],
     "prompt_number": 7
    },
    {
     "cell_type": "code",
     "collapsed": false,
     "input": [
      "from theano.ifelse import ifelse\n",
      "THRESHOLD = 0\n",
      "def cost2(x, t):\n",
      "    sq_error = (x - t) ** 2\n",
      "    def mask_and_mean_sq_error(mask):\n",
      "        masked_sq_error = sq_error[mask.nonzero()]\n",
      "        mean = masked_sq_error.mean()\n",
      "        mean = ifelse(T.isnan(mean), 0.0, mean)\n",
      "        return mean\n",
      "    above_thresh_mean = mask_and_mean_sq_error(t > THRESHOLD)\n",
      "    below_thresh_mean = mask_and_mean_sq_error(t <= THRESHOLD)\n",
      "    return (above_thresh_mean + below_thresh_mean) / 2.0"
     ],
     "language": "python",
     "metadata": {},
     "outputs": [],
     "prompt_number": 48
    },
    {
     "cell_type": "code",
     "collapsed": false,
     "input": [
      "cost2(theano.shared(short_seq_x), theano.shared(short_seq_t)).eval()"
     ],
     "language": "python",
     "metadata": {},
     "outputs": [
      {
       "metadata": {},
       "output_type": "pyout",
       "prompt_number": 49,
       "text": [
        "array(1250.0, dtype=float32)"
       ]
      }
     ],
     "prompt_number": 49
    },
    {
     "cell_type": "code",
     "collapsed": false,
     "input": [
      "cost2(short_seq_x, short_seq_t)"
     ],
     "language": "python",
     "metadata": {},
     "outputs": [
      {
       "metadata": {},
       "output_type": "pyout",
       "prompt_number": 50,
       "text": [
        "Elemwise{true_div,no_inplace}.0"
       ]
      }
     ],
     "prompt_number": 50
    },
    {
     "cell_type": "code",
     "collapsed": false,
     "input": [
      "cost2(theano.shared(np.zeros(TOTAL_LENGTH, dtype=np.float32)), theano.shared(np.zeros(TOTAL_LENGTH, dtype=np.float32))).eval()"
     ],
     "language": "python",
     "metadata": {},
     "outputs": [
      {
       "metadata": {},
       "output_type": "pyout",
       "prompt_number": 51,
       "text": [
        "array(0.0, dtype=float32)"
       ]
      }
     ],
     "prompt_number": 51
    },
    {
     "cell_type": "code",
     "collapsed": false,
     "input": [
      "(t > THRESHOLD).shape[0].eval()"
     ],
     "language": "python",
     "metadata": {},
     "outputs": [
      {
       "metadata": {},
       "output_type": "pyout",
       "prompt_number": 27,
       "text": [
        "array(1000)"
       ]
      }
     ],
     "prompt_number": 27
    },
    {
     "cell_type": "code",
     "collapsed": false,
     "input": [
      "(0-0) ** 2"
     ],
     "language": "python",
     "metadata": {},
     "outputs": [
      {
       "metadata": {},
       "output_type": "pyout",
       "prompt_number": 35,
       "text": [
        "0"
       ]
      }
     ],
     "prompt_number": 35
    },
    {
     "cell_type": "code",
     "collapsed": false,
     "input": [],
     "language": "python",
     "metadata": {},
     "outputs": []
    }
   ],
   "metadata": {}
  }
 ]
}