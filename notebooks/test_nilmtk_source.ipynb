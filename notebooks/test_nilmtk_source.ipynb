{
 "metadata": {
  "name": "",
  "signature": "sha256:57a01f0b298a0ed83726b9a4ea7112ffcfd3d556df0bc61974deb2aa316c00b5"
 },
 "nbformat": 3,
 "nbformat_minor": 0,
 "worksheets": [
  {
   "cells": [
    {
     "cell_type": "code",
     "collapsed": false,
     "input": [
      "from neuralnilm.source import NILMTKSource"
     ],
     "language": "python",
     "metadata": {},
     "outputs": [],
     "prompt_number": 1
    },
    {
     "cell_type": "code",
     "collapsed": false,
     "input": [
      "source = NILMTKSource('/data/mine/vadeec/merged/ukdale.h5', ['television', 'boiler'])"
     ],
     "language": "python",
     "metadata": {},
     "outputs": [],
     "prompt_number": 2
    },
    {
     "cell_type": "code",
     "collapsed": false,
     "input": [
      "X, y = source._gen_unquantized_data()"
     ],
     "language": "python",
     "metadata": {},
     "outputs": [
      {
       "output_type": "stream",
       "stream": "stdout",
       "text": [
        "Skipping 2013-07-11 00:00:00\n",
        "Skipping 2013-06-14 00:00:00\n",
        "Skipping"
       ]
      },
      {
       "output_type": "stream",
       "stream": "stdout",
       "text": [
        " 2013-12-27 00:00:00\n"
       ]
      }
     ],
     "prompt_number": 3
    },
    {
     "cell_type": "code",
     "collapsed": false,
     "input": [
      "from neuralnilm.source import RealApplianceSource\n",
      "import matplotlib.pyplot as plt"
     ],
     "language": "python",
     "metadata": {},
     "outputs": [
      {
       "output_type": "stream",
       "stream": "stdout",
       "text": [
        "Couldn't import dot_parser, loading of dot files will not be possible.\n"
       ]
      }
     ],
     "prompt_number": 1
    },
    {
     "cell_type": "code",
     "collapsed": false,
     "input": [
      "source = RealApplianceSource('/data/mine/vadeec/merged/ukdale.h5', ['fridge freezer', 'hair straighteners', 'television'],\n",
      "                            max_input_power=800, max_output_power=150)"
     ],
     "language": "python",
     "metadata": {},
     "outputs": [
      {
       "output_type": "stream",
       "stream": "stdout",
       "text": [
        "Loading activations for fridge freezer\n",
        "Loading activations for"
       ]
      },
      {
       "output_type": "stream",
       "stream": "stdout",
       "text": [
        " hair straighteners\n",
        "Loading activations for"
       ]
      },
      {
       "output_type": "stream",
       "stream": "stdout",
       "text": [
        " television\n",
        "Done"
       ]
      },
      {
       "output_type": "stream",
       "stream": "stdout",
       "text": [
        "\n"
       ]
      }
     ],
     "prompt_number": 2
    },
    {
     "cell_type": "code",
     "collapsed": false,
     "input": [
      "X, y = source._gen_data()\n",
      "fig, axes = plt.subplots(2, sharex=True)\n",
      "axes[0].plot(X[0,:,0])\n",
      "axes[1].plot(y[0,:,0])\n",
      "plt.show()"
     ],
     "language": "python",
     "metadata": {},
     "outputs": [],
     "prompt_number": 11
    },
    {
     "cell_type": "code",
     "collapsed": false,
     "input": [],
     "language": "python",
     "metadata": {},
     "outputs": []
    }
   ],
   "metadata": {}
  }
 ]
}