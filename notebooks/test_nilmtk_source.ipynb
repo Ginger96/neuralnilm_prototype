{
 "metadata": {
  "name": "",
  "signature": "sha256:92807e1a9e9163dda4e03cd65da61a9b371333434d5960c903577d45f29bd130"
 },
 "nbformat": 3,
 "nbformat_minor": 0,
 "worksheets": [
  {
   "cells": [
    {
     "cell_type": "code",
     "collapsed": false,
     "input": [
      "from neuralnilm.source import NILMTKSource"
     ],
     "language": "python",
     "metadata": {},
     "outputs": [
      {
       "output_type": "stream",
       "stream": "stdout",
       "text": [
        "Couldn't import dot_parser, loading of dot files will not be possible.\n"
       ]
      }
     ],
     "prompt_number": 1
    },
    {
     "cell_type": "code",
     "collapsed": false,
     "input": [
      "source = NILMTKSource(\n",
      "    filename='/data/mine/vadeec/merged/ukdale.h5', \n",
      "    appliances=['television', 'washer dryer', 'fridge freezer', 'dish washer'],\n",
      "    train_buildings=[1],\n",
      "    validation_buildings=[1],\n",
      "    window=(\"2013-04-01\", \"2013-05-01\"),\n",
      "    sample_period=6,\n",
      "    seq_length=1500,\n",
      "    n_seq_per_batch=10\n",
      "    )"
     ],
     "language": "python",
     "metadata": {},
     "outputs": [],
     "prompt_number": 5
    },
    {
     "cell_type": "code",
     "collapsed": false,
     "input": [
      "appliances, mains = source._gen_single_example()"
     ],
     "language": "python",
     "metadata": {},
     "outputs": [],
     "prompt_number": 11
    },
    {
     "cell_type": "code",
     "collapsed": false,
     "input": [
      "import matplotlib.pyplot as plt\n",
      "ax = appliances.plot()\n",
      "mains.plot(ax=ax)\n",
      "plt.show()"
     ],
     "language": "python",
     "metadata": {},
     "outputs": [],
     "prompt_number": 12
    },
    {
     "cell_type": "code",
     "collapsed": false,
     "input": [
      "len(mains)"
     ],
     "language": "python",
     "metadata": {},
     "outputs": [
      {
       "metadata": {},
       "output_type": "pyout",
       "prompt_number": 14,
       "text": [
        "9006"
       ]
      }
     ],
     "prompt_number": 14
    },
    {
     "cell_type": "code",
     "collapsed": false,
     "input": [
      "elec = source.dataset.buildings[1].elec"
     ],
     "language": "python",
     "metadata": {},
     "outputs": [],
     "prompt_number": 15
    },
    {
     "cell_type": "code",
     "collapsed": false,
     "input": [
      "good_sections = elec.mains().good_sections()"
     ],
     "language": "python",
     "metadata": {},
     "outputs": [],
     "prompt_number": 18
    },
    {
     "cell_type": "code",
     "collapsed": false,
     "input": [
      "good_sections[0].timedelta"
     ],
     "language": "python",
     "metadata": {},
     "outputs": [
      {
       "metadata": {},
       "output_type": "pyout",
       "prompt_number": 19,
       "text": [
        "Timedelta('2 days 13:53:50.400000')"
       ]
      }
     ],
     "prompt_number": 19
    },
    {
     "cell_type": "code",
     "collapsed": false,
     "input": [
      "from neuralnilm.source import RealApplianceSource\n",
      "import matplotlib.pyplot as plt"
     ],
     "language": "python",
     "metadata": {},
     "outputs": [
      {
       "output_type": "stream",
       "stream": "stdout",
       "text": [
        "Couldn't import dot_parser, loading of dot files will not be possible.\n"
       ]
      }
     ],
     "prompt_number": 1
    },
    {
     "cell_type": "code",
     "collapsed": false,
     "input": [
      "source = RealApplianceSource('/data/mine/vadeec/merged/ukdale.h5', ['fridge freezer', 'hair straighteners', 'television'],\n",
      "                            max_input_power=800, max_output_power=150)"
     ],
     "language": "python",
     "metadata": {},
     "outputs": [
      {
       "output_type": "stream",
       "stream": "stdout",
       "text": [
        "Loading activations for fridge freezer\n",
        "Loading activations for"
       ]
      },
      {
       "output_type": "stream",
       "stream": "stdout",
       "text": [
        " hair straighteners\n",
        "Loading activations for"
       ]
      },
      {
       "output_type": "stream",
       "stream": "stdout",
       "text": [
        " television\n",
        "Done"
       ]
      },
      {
       "output_type": "stream",
       "stream": "stdout",
       "text": [
        "\n"
       ]
      }
     ],
     "prompt_number": 2
    },
    {
     "cell_type": "code",
     "collapsed": false,
     "input": [
      "X, y = source._gen_data()\n",
      "fig, axes = plt.subplots(2, sharex=True)\n",
      "axes[0].plot(X[0,:,0])\n",
      "axes[1].plot(y[0,:,0])\n",
      "plt.show()"
     ],
     "language": "python",
     "metadata": {},
     "outputs": [],
     "prompt_number": 11
    },
    {
     "cell_type": "code",
     "collapsed": false,
     "input": [],
     "language": "python",
     "metadata": {},
     "outputs": []
    }
   ],
   "metadata": {}
  }
 ]
}