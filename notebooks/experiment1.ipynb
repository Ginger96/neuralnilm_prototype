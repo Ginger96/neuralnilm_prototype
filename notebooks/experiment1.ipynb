{
 "metadata": {
  "name": "",
  "signature": "sha256:1bceae6a202622ab3f89e1d2c5f175e2c03568b06b4451a87779f01a3eb6b75d"
 },
 "nbformat": 3,
 "nbformat_minor": 0,
 "worksheets": [
  {
   "cells": [
    {
     "cell_type": "code",
     "collapsed": false,
     "input": [
      "from __future__ import print_function, division\n",
      "import matplotlib\n",
      "matplotlib.use('nbagg') # interactive plots in iPython. New in matplotlib v1.4\n",
      "# %matplotlib inline"
     ],
     "language": "python",
     "metadata": {},
     "outputs": [],
     "prompt_number": 24
    },
    {
     "cell_type": "code",
     "collapsed": false,
     "input": [
      "import matplotlib.pyplot as plt\n",
      "from nilmtk import DataSet, MeterGroup\n",
      "import pandas as pd\n",
      "import numpy as np"
     ],
     "language": "python",
     "metadata": {},
     "outputs": [],
     "prompt_number": 25
    },
    {
     "cell_type": "code",
     "collapsed": false,
     "input": [
      "from pybrain.supervised import RPropMinusTrainer\n",
      "from pybrain.datasets import SequentialDataSet\n",
      "from pybrain.structure import RecurrentNetwork, FullConnection\n",
      "from pybrain.structure.modules import LSTMLayer, BiasUnit, LinearLayer, TanhLayer, SigmoidLayer"
     ],
     "language": "python",
     "metadata": {},
     "outputs": [],
     "prompt_number": 26
    },
    {
     "cell_type": "code",
     "collapsed": false,
     "input": [
      "CONFIG = dict(\n",
      "    EPOCHS_PER_CYCLE = 5,\n",
      "    CYCLES = 10,\n",
      "    N_LSTM_CELLS = 30,\n",
      "    PEEPHOLES = True,\n",
      "    TRAINERCLASS = RPropMinusTrainer,\n",
      "    # instead, you may also try\n",
      "    # TRAINERCLASS = BackpropTrainer(net, dataset=trndata, verbose=True, \n",
      "    #                                momentum=0.9, learningrate=0.00001)\n",
      "    INPUTS = ['fridge'] #, 'hour of day (int)', 'outside temperature', 'is business day (-1, 1)'\n",
      ")"
     ],
     "language": "python",
     "metadata": {},
     "outputs": [],
     "prompt_number": 27
    },
    {
     "cell_type": "code",
     "collapsed": false,
     "input": [
      "# Load dataset\n",
      "dataset = DataSet('/data/mine/vadeec/merged/ukdale.h5')\n",
      "dataset.set_window(\"2014-01-01\", \"2014-02-01\")\n",
      "elec = dataset.buildings[1].elec"
     ],
     "language": "python",
     "metadata": {},
     "outputs": [],
     "prompt_number": 28
    },
    {
     "cell_type": "code",
     "collapsed": false,
     "input": [
      "# Select top-5 meters identified in UK-DALE paper\n",
      "# APPLIANCES = ['kettle', 'dish washer', 'HTPC', 'washer dryer', 'fridge freezer']\n",
      "APPLIANCES = ['fridge freezer']\n",
      "selected_meters = [elec[appliance] for appliance in APPLIANCES]\n",
      "selected_meters.append(elec.mains())\n",
      "selected = MeterGroup(selected_meters)"
     ],
     "language": "python",
     "metadata": {},
     "outputs": [],
     "prompt_number": 29
    },
    {
     "cell_type": "code",
     "collapsed": false,
     "input": [
      "df = selected.dataframe_of_meters()"
     ],
     "language": "python",
     "metadata": {},
     "outputs": [],
     "prompt_number": 30
    },
    {
     "cell_type": "code",
     "collapsed": false,
     "input": [
      "# Use human-readable column names\n",
      "df.columns = selected.get_labels(df.columns)"
     ],
     "language": "python",
     "metadata": {},
     "outputs": [],
     "prompt_number": 31
    },
    {
     "cell_type": "code",
     "collapsed": false,
     "input": [
      "#df.plot()\n",
      "#plt.show()"
     ],
     "language": "python",
     "metadata": {},
     "outputs": [],
     "prompt_number": 32
    },
    {
     "cell_type": "code",
     "collapsed": false,
     "input": [
      "# neural networks like data to be standardised\n",
      "# df['Fridge freezer'] = df['Fridge freezer'].clip(0, 150)\n",
      "#ptp = (df.min() - df.max()).abs()\n",
      "#rescaled = (df - df.mean()) / ptp\n",
      "#df = rescaled"
     ],
     "language": "python",
     "metadata": {},
     "outputs": [],
     "prompt_number": 33
    },
    {
     "cell_type": "code",
     "collapsed": false,
     "input": [
      "#df.plot()\n",
      "#plt.show()"
     ],
     "language": "python",
     "metadata": {},
     "outputs": [],
     "prompt_number": 34
    },
    {
     "cell_type": "code",
     "collapsed": false,
     "input": [
      "mains = df['Site meter']\n",
      "appliances = df.iloc[:,:-1].fillna(0)"
     ],
     "language": "python",
     "metadata": {},
     "outputs": [],
     "prompt_number": 35
    },
    {
     "cell_type": "code",
     "collapsed": false,
     "input": [
      "# standardise input\n",
      "mains = (mains - mains.mean()) / mains.std()\n",
      "\n",
      "# Constrain outputs to [0,1] because we're using Sigmoid\n",
      "appliances /= appliances.max()"
     ],
     "language": "python",
     "metadata": {},
     "outputs": []
    },
    {
     "cell_type": "code",
     "collapsed": false,
     "input": [
      "mains.plot()\n",
      "plt.show()"
     ],
     "language": "python",
     "metadata": {},
     "outputs": []
    },
    {
     "cell_type": "code",
     "collapsed": false,
     "input": [
      "appliances.plot()\n",
      "plt.show()"
     ],
     "language": "python",
     "metadata": {},
     "outputs": []
    },
    {
     "cell_type": "code",
     "collapsed": false,
     "input": [
      "# Build PyBrain dataset\n",
      "N_OUTPUTS = appliances.shape[1]\n",
      "N_INPUTS = 1\n",
      "N = len(mains)\n",
      "ds = SequentialDataSet(N_INPUTS, N_OUTPUTS)\n",
      "ds.newSequence()\n",
      "ds.setField('input', pd.DataFrame(mains).values)\n",
      "ds.setField('target', appliances.values)"
     ],
     "language": "python",
     "metadata": {},
     "outputs": []
    },
    {
     "cell_type": "code",
     "collapsed": false,
     "input": [
      "ds.getSequence(0)"
     ],
     "language": "python",
     "metadata": {},
     "outputs": []
    },
    {
     "cell_type": "code",
     "collapsed": false,
     "input": [
      "# Build network\n",
      "net = RecurrentNetwork()\n",
      "\n",
      "# Add modules\n",
      "net.addInputModule(LinearLayer(ds.indim, name='in'))\n",
      "net.addModule(LSTMLayer(CONFIG['N_LSTM_CELLS'], name='LSTM1', peepholes=CONFIG['PEEPHOLES']))\n",
      "#net.addModule(LSTMLayer(CONFIG['N_LSTM_CELLS'], name='LSTM2', peepholes=CONFIG['PEEPHOLES']))\n",
      "net.addOutputModule(SigmoidLayer(dim=ds.outdim, name='out'))\n",
      "\n",
      "# Add connections\n",
      "net.addConnection(FullConnection(net['in'], net['LSTM1'], name='c_in_to_LSTM1'))\n",
      "net.addConnection(FullConnection(net['LSTM1'], net['out'], name='c_LSTM1_to_out'))\n",
      "#net.addConnection(FullConnection(net['LSTM1'], net['LSTM2'], name='c_LSTM1_to_LSTM2'))\n",
      "#net.addConnection(FullConnection(net['LSTM2'], net['out'], name='c_LSTM2_to_out'))\n",
      "net.addRecurrentConnection(FullConnection(net['LSTM1'], net['LSTM1'], name='c_LSTM1_to_LSTM1'))\n",
      "#net.addRecurrentConnection(FullConnection(net['LSTM2'], net['LSTM2'], name='c_LSTM2_to_LSTM2'))\n",
      "\n",
      "# Bias\n",
      "bias = BiasUnit()\n",
      "net.addModule(bias)\n",
      "# net.addConnection(FullConnection(bias, net['in'], name='c_input_bias'))\n",
      "net.addConnection(FullConnection(bias, net['LSTM1'], name='c_LSTM1_bias'))\n",
      "#net.addConnection(FullConnection(bias, net['LSTM2'], name='c_LSTM2_bias'))\n",
      "net.addConnection(FullConnection(bias, net['out'], name='c_output_bias'))\n",
      "\n",
      "net.sortModules()\n",
      "print(net)"
     ],
     "language": "python",
     "metadata": {},
     "outputs": []
    },
    {
     "cell_type": "code",
     "collapsed": false,
     "input": [
      "# define a training method\n",
      "net.randomize()\n",
      "net._setParameters(np.random.uniform(-0.1, 0.1, size=net.paramdim))\n",
      "trainer = CONFIG['TRAINERCLASS'](net, dataset=ds, verbose=True)"
     ],
     "language": "python",
     "metadata": {},
     "outputs": []
    },
    {
     "cell_type": "code",
     "collapsed": false,
     "input": [
      "# carry out the training\n",
      "net.reset()\n",
      "# train_errors = []\n",
      "EPOCHS = CONFIG['EPOCHS_PER_CYCLE'] * CONFIG['CYCLES']\n",
      "# trainer.trainUntilConvergence(maxEpochs=EPOCHS, verbose=True)\n",
      "# start_time = time()\n",
      "print(\"Starting training with\", EPOCHS, \"epochs...\")\n",
      "for i in xrange(CONFIG['CYCLES']):\n",
      "    trainer.trainEpochs(CONFIG['EPOCHS_PER_CYCLE'])\n",
      "#    train_errors.append(trainer.testOnData())\n",
      "    # epoch = (i+1) * CONFIG['EPOCHS_PER_CYCLE']\n",
      "    # seconds_elapsed = time() - start_time\n",
      "    # seconds_per_epoch = seconds_elapsed / epoch\n",
      "    # seconds_remaining = (EPOCHS - epoch) * seconds_per_epoch\n",
      "    # td_elapsed = timedelta(seconds=seconds_elapsed)\n",
      "    # td_elapsed_str = str(td_elapsed).split('.')[0]\n",
      "    # eta = (datetime.now() + timedelta(seconds=seconds_remaining)).time()\n",
      "    # eta = eta.strftime(\"%H:%M:%S\")\n",
      "    # print(\"\\r epoch = {}/{}    error = {}  elapsed = {}   ETA = {}\"\n",
      "    #       .format(epoch, EPOCHS, train_errors[-1], td_elapsed_str, eta),\n",
      "    #       end=\"\")\n",
      "    # stdout.flush()\n",
      "print(\"Finished training\")"
     ],
     "language": "python",
     "metadata": {},
     "outputs": []
    },
    {
     "cell_type": "code",
     "collapsed": false,
     "input": [
      "# Disaggregate!\n",
      "print(\"Starting disaggregation...\")\n",
      "net.reset()\n",
      "estimates = pd.DataFrame(columns=appliances.columns, index=appliances.index)\n",
      "for date, mains_value in mains.iloc[:28800].iteritems():\n",
      "    estimates.loc[date] = net.activate(mains_value)"
     ],
     "language": "python",
     "metadata": {},
     "outputs": []
    },
    {
     "cell_type": "code",
     "collapsed": false,
     "input": [
      "estimates.plot()\n",
      "plt.show()"
     ],
     "language": "python",
     "metadata": {},
     "outputs": []
    },
    {
     "cell_type": "code",
     "collapsed": false,
     "input": [
      "appliances.plot()\n",
      "plt.show()"
     ],
     "language": "python",
     "metadata": {},
     "outputs": []
    },
    {
     "cell_type": "code",
     "collapsed": false,
     "input": [],
     "language": "python",
     "metadata": {},
     "outputs": []
    }
   ],
   "metadata": {}
  }
 ]
}