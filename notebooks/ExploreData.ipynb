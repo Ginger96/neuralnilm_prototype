{
 "cells": [
  {
   "cell_type": "code",
   "execution_count": 18,
   "metadata": {
    "collapsed": false
   },
   "outputs": [],
   "source": [
    "import matplotlib\n",
    "matplotlib.use(\"Agg\")\n",
    "from neuralnilm.source import RealApplianceSource, MultiSource, SameLocation\n",
    "import matplotlib.pyplot as plt\n",
    "import numpy as np\n",
    "import logging"
   ]
  },
  {
   "cell_type": "code",
   "execution_count": 19,
   "metadata": {
    "collapsed": false
   },
   "outputs": [],
   "source": [
    "MAX_TARGET_POWER = 3000\n",
    "\n",
    "TARGET_APPLIANCE = 'microwave'\n",
    "\n",
    "BUILDING_I = 5\n",
    "SEQ_LENGTH = 128\n",
    "TRAIN_BUILDINGS = [BUILDING_I]\n",
    "VALIDATION_BUILDINGS = [BUILDING_I]\n",
    "N_SEQ_PER_BATCH = 8\n",
    "\n",
    "USE_SHORT_WINDOWS = False\n",
    "if USE_SHORT_WINDOWS:\n",
    "    WINDOW_PER_BUILDING = {\n",
    "        1: (\"2013-04-12\", \"2013-04-18\"),\n",
    "        2: (\"2013-05-22\", \"2013-06-01\"),\n",
    "        3: (\"2013-02-27\", \"2013-03-10\"),\n",
    "        4: (\"2013-03-09\", \"2013-04-01\"),\n",
    "        5: (\"2014-06-29\", \"2014-07-10\")\n",
    "    }\n",
    "else:\n",
    "    WINDOW_PER_BUILDING = {\n",
    "        1: (\"2013-03-17\", \"2014-12-01\"),\n",
    "        2: (\"2013-05-22\", \"2013-10-01\"),\n",
    "        3: (\"2013-02-27\", \"2013-04-01\"),\n",
    "        4: (\"2013-03-09\", \"2013-09-20\"),\n",
    "        5: (\"2014-06-29\", \"2014-08-27\")\n",
    "    }\n",
    "\n",
    "INPUT_STATS = {\n",
    "    'mean': np.array([ 297.87216187], dtype=np.float32),\n",
    "    'std': np.array([ 374.43884277], dtype=np.float32)\n",
    "}"
   ]
  },
  {
   "cell_type": "code",
   "execution_count": 20,
   "metadata": {
    "collapsed": true
   },
   "outputs": [],
   "source": [
    "logger = logging.getLogger('test')\n",
    "logger.setLevel(logging.DEBUG)"
   ]
  },
  {
   "cell_type": "code",
   "execution_count": 21,
   "metadata": {
    "collapsed": false
   },
   "outputs": [
    {
     "name": "stderr",
     "output_type": "stream",
     "text": [
      "INFO:test:Setting window for building 5 to (start=2014-06-29, end=2014-08-27)\n",
      "INFO:test:Loaded 22 microwave activations from house 5.\n"
     ]
    }
   ],
   "source": [
    "source = SameLocation(\n",
    "    logger=logger,\n",
    "    filename='/data/mine/vadeec/merged/ukdale.h5',\n",
    "    target_appliance=TARGET_APPLIANCE,\n",
    "    window_per_building=WINDOW_PER_BUILDING,\n",
    "    seq_length=SEQ_LENGTH,\n",
    "    train_buildings=TRAIN_BUILDINGS,\n",
    "    validation_buildings=VALIDATION_BUILDINGS,\n",
    "    n_seq_per_batch=N_SEQ_PER_BATCH,\n",
    "    load_mains=False,\n",
    "    on_power_threshold=200,\n",
    "    min_on_duration=12,\n",
    "    min_off_duration=30\n",
    ")"
   ]
  },
  {
   "cell_type": "code",
   "execution_count": 22,
   "metadata": {
    "collapsed": false
   },
   "outputs": [
    {
     "name": "stdout",
     "output_type": "stream",
     "text": [
      "Max number of samples: 104.0\n",
      "Mean number of samples: 18.9545454545\n",
      "Min number of samples: 4.0\n"
     ]
    }
   ],
   "source": [
    "\n",
    "seq_lengths = [(activation.index[-1] - activation.index[0]).total_seconds() / 6 for activation in source.activations[BUILDING_I]]\n",
    "print(\"Max number of samples:\", max(seq_lengths))\n",
    "print(\"Mean number of samples:\", np.mean(seq_lengths))\n",
    "print(\"Min number of samples:\", np.min(seq_lengths))"
   ]
  },
  {
   "cell_type": "code",
   "execution_count": 5,
   "metadata": {
    "collapsed": true
   },
   "outputs": [],
   "source": [
    "import nilmtk\n",
    "from datetime import timedelta"
   ]
  },
  {
   "cell_type": "code",
   "execution_count": 6,
   "metadata": {
    "collapsed": false
   },
   "outputs": [],
   "source": [
    "\n",
    "def plot_activation(activation_i):\n",
    "    activation = source.activations[BUILDING_I][activation_i]\n",
    "    border = timedelta(minutes=10)\n",
    "    timeframe = nilmtk.TimeFrame(activation.index[0]-border, activation.index[1]+border)\n",
    "    powers = {}\n",
    "    source.dataset.set_window()\n",
    "    elec = source.dataset.buildings[BUILDING_I].elec\n",
    "    for meter in elec.submeters().meters:\n",
    "        power = meter.power_series_all_data(sections=[timeframe])\n",
    "        if power is not None and power.max() > 10:\n",
    "            powers[meter.dominant_appliance().label(pretty=True)] = power\n",
    "    \n",
    "    fig, axes = plt.subplots(nrows=3, sharex=True)\n",
    "    axes[0].set_title('Activation')\n",
    "    axes[0].plot(activation.index, activation.values)\n",
    "\n",
    "    axes[1].set_title('All active appliances')\n",
    "    for meter_instance, power in powers.iteritems():\n",
    "        axes[1].plot(power.index, power.values, label=meter_instance)\n",
    "    axes[1].legend(fancybox=True, framealpha=0.5, prop={'size': 6})\n",
    "\n",
    "    axes[2].set_title('Mains {}'.format(timeframe.start.date()))\n",
    "    mains = elec.mains().power_series_all_data(sections=[timeframe], sample_period=6)\n",
    "    if mains is not None:\n",
    "        axes[2].plot(mains.index, mains.values)\n",
    "    \n",
    "    fig.tight_layout()\n",
    "    fname = 'building{}_activation{}.png'.format(BUILDING_I, activation_i)\n",
    "    plt.savefig(fname, dpi=300)\n",
    "    fig.close()"
   ]
  },
  {
   "cell_type": "code",
   "execution_count": 7,
   "metadata": {
    "collapsed": false
   },
   "outputs": [
    {
     "name": "stdout",
     "output_type": "stream",
     "text": [
      " 21 / 22"
     ]
    },
    {
     "name": "stderr",
     "output_type": "stream",
     "text": [
      "/usr/local/lib/python2.7/dist-packages/matplotlib/pyplot.py:424: RuntimeWarning: More than 20 figures have been opened. Figures created through the pyplot interface (`matplotlib.pyplot.figure`) are retained until explicitly closed and may consume too much memory. (To control this warning, see the rcParam `figure.max_open_warning`).\n",
      "  max_open_warning, RuntimeWarning)\n"
     ]
    }
   ],
   "source": [
    "from sys import stdout\n",
    "n = len(source.activations[BUILDING_I])\n",
    "for i in range(n):\n",
    "    print(\"\\r\", i, \"/\", n, end=\"\")\n",
    "    stdout.flush()\n",
    "    plot_activation(i)"
   ]
  },
  {
   "cell_type": "code",
   "execution_count": 8,
   "metadata": {
    "collapsed": true
   },
   "outputs": [],
   "source": [
    "elec = source.dataset.buildings[BUILDING_I].elec"
   ]
  },
  {
   "cell_type": "code",
   "execution_count": 9,
   "metadata": {
    "collapsed": false
   },
   "outputs": [
    {
     "data": {
      "text/plain": [
       "2098.0"
      ]
     },
     "execution_count": 9,
     "metadata": {},
     "output_type": "execute_result"
    }
   ],
   "source": [
    "elec['microwave'].power_series_all_data().max()"
   ]
  },
  {
   "cell_type": "code",
   "execution_count": 10,
   "metadata": {
    "collapsed": false
   },
   "outputs": [
    {
     "data": {
      "text/plain": [
       "2098.0"
      ]
     },
     "execution_count": 10,
     "metadata": {},
     "output_type": "execute_result"
    }
   ],
   "source": [
    "source.activations[BUILDING_I][5].max()"
   ]
  },
  {
   "cell_type": "code",
   "execution_count": null,
   "metadata": {
    "collapsed": true
   },
   "outputs": [],
   "source": []
  }
 ],
 "metadata": {
  "kernelspec": {
   "display_name": "Python 2",
   "language": "python",
   "name": "python2"
  },
  "language_info": {
   "codemirror_mode": {
    "name": "ipython",
    "version": 2
   },
   "file_extension": ".py",
   "mimetype": "text/x-python",
   "name": "python",
   "nbconvert_exporter": "python",
   "pygments_lexer": "ipython2",
   "version": "2.7.9"
  }
 },
 "nbformat": 4,
 "nbformat_minor": 0
}
