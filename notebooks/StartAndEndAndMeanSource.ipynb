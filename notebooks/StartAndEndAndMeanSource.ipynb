{
 "cells": [
  {
   "cell_type": "code",
   "execution_count": 1,
   "metadata": {
    "collapsed": false
   },
   "outputs": [
    {
     "name": "stderr",
     "output_type": "stream",
     "text": [
      "/usr/local/lib/python2.7/dist-packages/scipy/lib/_util.py:67: DeprecationWarning: Module scipy.linalg.blas.fblas is deprecated, use scipy.linalg.blas instead\n",
      "  DeprecationWarning)\n",
      "/home/dk3810/workspace/python/nntools/lasagne/init.py:86: UserWarning: The uniform initializer no longer uses Glorot et al.'s approach to determine the bounds, but defaults to the range (-0.01, 0.01) instead. Please use the new GlorotUniform initializer to get the old behavior. GlorotUniform is now the default for all layers.\n",
      "  warnings.warn(\"The uniform initializer no longer uses Glorot et al.'s \"\n"
     ]
    }
   ],
   "source": [
    "%matplotlib inline\n",
    "from __future__ import print_function, division\n",
    "from nilmtk import DataSet\n",
    "import numpy as np\n",
    "import pandas as np\n",
    "import matplotlib\n",
    "matplotlib.rcParams['figure.figsize'] = (16.0, 8.0)\n",
    "import matplotlib.pyplot as plt\n",
    "import sys\n",
    "from functools import partial\n",
    "\n",
    "from neuralnilm.source import SameLocation"
   ]
  },
  {
   "cell_type": "code",
   "execution_count": 2,
   "metadata": {
    "collapsed": false
   },
   "outputs": [
    {
     "name": "stdout",
     "output_type": "stream",
     "text": [
      "Loaded 267 fridge freezer activations from house 1.\n"
     ]
    },
    {
     "name": "stderr",
     "output_type": "stream",
     "text": [
      "INFO:neuralnilm.source:Loaded 267 fridge freezer activations from house 1.\n"
     ]
    },
    {
     "name": "stdout",
     "output_type": "stream",
     "text": [
      "Loaded mains data for building 1.\n"
     ]
    },
    {
     "name": "stderr",
     "output_type": "stream",
     "text": [
      "INFO:neuralnilm.source:Loaded mains data for building 1.\n"
     ]
    }
   ],
   "source": [
    "N_SEGMENTS = 8\n",
    "\n",
    "source = SameLocation(\n",
    "    filename='/data/mine/vadeec/merged/ukdale.h5',\n",
    "    window=(\"2013-03-18\", \"2013-03-29\"),\n",
    "    target_appliance='fridge freezer',\n",
    "    seq_length=512,\n",
    "    train_buildings=[1],\n",
    "    validation_buildings=[1],\n",
    "    subsample_target=1,\n",
    "    n_seq_per_batch=64,\n",
    "    standardise_input=True,\n",
    "    ignore_incomplete=True,\n",
    "    allow_incomplete=True,\n",
    "    include_all=True,\n",
    "    skip_probability=0.25,\n",
    "    offset_probability=0,\n",
    "    target_is_start_and_end_and_mean=True,\n",
    "    y_processing_func=lambda y: y / 300\n",
    ")"
   ]
  },
  {
   "cell_type": "code",
   "execution_count": 5,
   "metadata": {
    "collapsed": false
   },
   "outputs": [],
   "source": [
    "X, y = source._gen_data()\n",
    "X, y = source._process_data(X, y)"
   ]
  },
  {
   "cell_type": "code",
   "execution_count": 6,
   "metadata": {
    "collapsed": false
   },
   "outputs": [
    {
     "data": {
      "text/plain": [
       "array([[[ 0.1015625 ],\n",
       "        [ 0.29882812],\n",
       "        [ 0.81066012]],\n",
       "\n",
       "       [[ 0.1015625 ],\n",
       "        [ 0.77148438],\n",
       "        [ 0.3264966 ]],\n",
       "\n",
       "       [[ 0.1015625 ],\n",
       "        [ 0.96484375],\n",
       "        [ 0.3912029 ]],\n",
       "\n",
       "       [[ 0.1015625 ],\n",
       "        [ 0.88867188],\n",
       "        [ 0.29119933]],\n",
       "\n",
       "       [[ 0.        ],\n",
       "        [ 0.        ],\n",
       "        [ 0.        ]],\n",
       "\n",
       "       [[ 0.1015625 ],\n",
       "        [ 0.86914062],\n",
       "        [ 0.29541981]],\n",
       "\n",
       "       [[ 0.1015625 ],\n",
       "        [ 0.578125  ],\n",
       "        [ 0.27867484]],\n",
       "\n",
       "       [[ 0.1015625 ],\n",
       "        [ 0.29296875],\n",
       "        [ 0.28210881]],\n",
       "\n",
       "       [[ 0.09960938],\n",
       "        [ 0.6953125 ],\n",
       "        [ 0.29156283]],\n",
       "\n",
       "       [[ 0.1015625 ],\n",
       "        [ 0.28515625],\n",
       "        [ 0.83897156]],\n",
       "\n",
       "       [[ 0.1015625 ],\n",
       "        [ 0.30078125],\n",
       "        [ 0.28516334]],\n",
       "\n",
       "       [[ 0.1015625 ],\n",
       "        [ 0.28515625],\n",
       "        [ 0.83897156]],\n",
       "\n",
       "       [[ 0.1015625 ],\n",
       "        [ 0.60546875],\n",
       "        [ 0.30780363]],\n",
       "\n",
       "       [[ 0.        ],\n",
       "        [ 0.        ],\n",
       "        [ 0.        ]],\n",
       "\n",
       "       [[ 0.1015625 ],\n",
       "        [ 0.96484375],\n",
       "        [ 0.21797888]],\n",
       "\n",
       "       [[ 0.1015625 ],\n",
       "        [ 0.60546875],\n",
       "        [ 0.28851423]],\n",
       "\n",
       "       [[ 0.1015625 ],\n",
       "        [ 0.7421875 ],\n",
       "        [ 0.28945121]],\n",
       "\n",
       "       [[ 0.1015625 ],\n",
       "        [ 0.63867188],\n",
       "        [ 0.28761208]],\n",
       "\n",
       "       [[ 0.1015625 ],\n",
       "        [ 0.67773438],\n",
       "        [ 0.28509036]],\n",
       "\n",
       "       [[ 0.1015625 ],\n",
       "        [ 0.296875  ],\n",
       "        [ 0.28413332]],\n",
       "\n",
       "       [[ 0.1015625 ],\n",
       "        [ 0.61328125],\n",
       "        [ 0.28479645]],\n",
       "\n",
       "       [[ 0.1015625 ],\n",
       "        [ 0.70117188],\n",
       "        [ 0.28578717]],\n",
       "\n",
       "       [[ 0.1015625 ],\n",
       "        [ 0.296875  ],\n",
       "        [ 0.81168336]],\n",
       "\n",
       "       [[ 0.1015625 ],\n",
       "        [ 0.3046875 ],\n",
       "        [ 0.28999999]],\n",
       "\n",
       "       [[ 0.1015625 ],\n",
       "        [ 0.29101562],\n",
       "        [ 0.28298968]],\n",
       "\n",
       "       [[ 0.1015625 ],\n",
       "        [ 0.79296875],\n",
       "        [ 0.30400187]],\n",
       "\n",
       "       [[ 0.        ],\n",
       "        [ 0.        ],\n",
       "        [ 0.        ]],\n",
       "\n",
       "       [[ 0.        ],\n",
       "        [ 0.        ],\n",
       "        [ 0.        ]],\n",
       "\n",
       "       [[ 0.1015625 ],\n",
       "        [ 0.69726562],\n",
       "        [ 0.28702733]],\n",
       "\n",
       "       [[ 0.1015625 ],\n",
       "        [ 0.8359375 ],\n",
       "        [ 0.28381205]],\n",
       "\n",
       "       [[ 0.1015625 ],\n",
       "        [ 0.296875  ],\n",
       "        [ 0.28489995]],\n",
       "\n",
       "       [[ 0.1015625 ],\n",
       "        [ 0.29882812],\n",
       "        [ 0.28630361]],\n",
       "\n",
       "       [[ 0.1015625 ],\n",
       "        [ 0.63867188],\n",
       "        [ 0.28761208]],\n",
       "\n",
       "       [[ 0.09765625],\n",
       "        [ 0.36523438],\n",
       "        [ 0.28068128]],\n",
       "\n",
       "       [[ 0.1015625 ],\n",
       "        [ 0.296875  ],\n",
       "        [ 0.29186663]],\n",
       "\n",
       "       [[ 0.1015625 ],\n",
       "        [ 0.671875  ],\n",
       "        [ 0.2939041 ]],\n",
       "\n",
       "       [[ 0.1015625 ],\n",
       "        [ 0.29492188],\n",
       "        [ 0.30814812]],\n",
       "\n",
       "       [[ 0.1015625 ],\n",
       "        [ 0.86914062],\n",
       "        [ 0.29541981]],\n",
       "\n",
       "       [[ 0.        ],\n",
       "        [ 0.        ],\n",
       "        [ 0.        ]],\n",
       "\n",
       "       [[ 0.1015625 ],\n",
       "        [ 0.2890625 ],\n",
       "        [ 0.2846528 ]],\n",
       "\n",
       "       [[ 0.1015625 ],\n",
       "        [ 0.29492188],\n",
       "        [ 0.28488213]],\n",
       "\n",
       "       [[ 0.1015625 ],\n",
       "        [ 0.69726562],\n",
       "        [ 0.28702733]],\n",
       "\n",
       "       [[ 0.1015625 ],\n",
       "        [ 0.58789062],\n",
       "        [ 0.4549264 ]],\n",
       "\n",
       "       [[ 0.1015625 ],\n",
       "        [ 0.30078125],\n",
       "        [ 0.28473851]],\n",
       "\n",
       "       [[ 0.1015625 ],\n",
       "        [ 0.3125    ],\n",
       "        [ 0.28842589]],\n",
       "\n",
       "       [[ 0.1015625 ],\n",
       "        [ 0.296875  ],\n",
       "        [ 0.80303323]],\n",
       "\n",
       "       [[ 0.1015625 ],\n",
       "        [ 0.99804688],\n",
       "        [ 0.2828286 ]],\n",
       "\n",
       "       [[ 0.1015625 ],\n",
       "        [ 0.66992188],\n",
       "        [ 0.28171819]],\n",
       "\n",
       "       [[ 0.        ],\n",
       "        [ 0.        ],\n",
       "        [ 0.        ]],\n",
       "\n",
       "       [[ 0.        ],\n",
       "        [ 0.        ],\n",
       "        [ 0.        ]],\n",
       "\n",
       "       [[ 0.1015625 ],\n",
       "        [ 0.29296875],\n",
       "        [ 0.28751701]],\n",
       "\n",
       "       [[ 0.        ],\n",
       "        [ 0.        ],\n",
       "        [ 0.        ]],\n",
       "\n",
       "       [[ 0.1015625 ],\n",
       "        [ 0.65820312],\n",
       "        [ 0.30921635]],\n",
       "\n",
       "       [[ 0.1015625 ],\n",
       "        [ 0.296875  ],\n",
       "        [ 0.29379997]],\n",
       "\n",
       "       [[ 0.        ],\n",
       "        [ 0.        ],\n",
       "        [ 0.        ]],\n",
       "\n",
       "       [[ 0.1015625 ],\n",
       "        [ 0.3046875 ],\n",
       "        [ 0.28871793]],\n",
       "\n",
       "       [[ 0.1015625 ],\n",
       "        [ 0.91796875],\n",
       "        [ 0.28940192]],\n",
       "\n",
       "       [[ 0.1015625 ],\n",
       "        [ 0.296875  ],\n",
       "        [ 0.28849998]],\n",
       "\n",
       "       [[ 0.1015625 ],\n",
       "        [ 0.296875  ],\n",
       "        [ 0.28489995]],\n",
       "\n",
       "       [[ 0.1015625 ],\n",
       "        [ 0.65625   ],\n",
       "        [ 0.28388497]],\n",
       "\n",
       "       [[ 0.1015625 ],\n",
       "        [ 0.296875  ],\n",
       "        [ 0.28481665]],\n",
       "\n",
       "       [[ 0.1015625 ],\n",
       "        [ 0.98242188],\n",
       "        [ 0.22240575]],\n",
       "\n",
       "       [[ 0.1015625 ],\n",
       "        [ 0.7109375 ],\n",
       "        [ 0.29710466]],\n",
       "\n",
       "       [[ 0.1015625 ],\n",
       "        [ 0.29296875],\n",
       "        [ 0.28397956]]])"
      ]
     },
     "execution_count": 6,
     "metadata": {},
     "output_type": "execute_result"
    }
   ],
   "source": [
    "y"
   ]
  },
  {
   "cell_type": "code",
   "execution_count": 4,
   "metadata": {
    "collapsed": false
   },
   "outputs": [
    {
     "data": {
      "text/plain": [
       "(8, 3, 1)"
      ]
     },
     "execution_count": 4,
     "metadata": {},
     "output_type": "execute_result"
    }
   ],
   "source": [
    "y.shape"
   ]
  },
  {
   "cell_type": "code",
   "execution_count": 5,
   "metadata": {
    "collapsed": false
   },
   "outputs": [
    {
     "data": {
      "text/plain": [
       "array([[[ 0.        ],\n",
       "        [ 0.00390625],\n",
       "        [ 0.99609375]],\n",
       "\n",
       "       [[ 0.1015625 ],\n",
       "        [ 0.859375  ],\n",
       "        [ 0.0390625 ]],\n",
       "\n",
       "       [[ 0.10351562],\n",
       "        [ 0.18554688],\n",
       "        [ 0.7109375 ]],\n",
       "\n",
       "       [[ 0.1015625 ],\n",
       "        [ 0.00390625],\n",
       "        [ 0.89453125]],\n",
       "\n",
       "       [[ 0.1015625 ],\n",
       "        [ 0.00390625],\n",
       "        [ 0.89453125]],\n",
       "\n",
       "       [[ 0.1015625 ],\n",
       "        [ 0.00390625],\n",
       "        [ 0.89453125]],\n",
       "\n",
       "       [[ 0.1015625 ],\n",
       "        [ 0.23632812],\n",
       "        [ 0.66210938]],\n",
       "\n",
       "       [[ 0.1015625 ],\n",
       "        [ 0.19921875],\n",
       "        [ 0.69921875]]])"
      ]
     },
     "execution_count": 5,
     "metadata": {},
     "output_type": "execute_result"
    }
   ],
   "source": [
    "y"
   ]
  },
  {
   "cell_type": "code",
   "execution_count": null,
   "metadata": {
    "collapsed": true
   },
   "outputs": [],
   "source": []
  }
 ],
 "metadata": {
  "kernelspec": {
   "display_name": "Python 2",
   "language": "python",
   "name": "python2"
  },
  "language_info": {
   "codemirror_mode": {
    "name": "ipython",
    "version": 2
   },
   "file_extension": ".py",
   "mimetype": "text/x-python",
   "name": "python",
   "nbconvert_exporter": "python",
   "pygments_lexer": "ipython2",
   "version": "2.7.9"
  }
 },
 "nbformat": 4,
 "nbformat_minor": 0
}
