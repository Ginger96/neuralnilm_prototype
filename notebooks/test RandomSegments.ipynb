{
 "cells": [
  {
   "cell_type": "code",
   "execution_count": 1,
   "metadata": {
    "collapsed": false
   },
   "outputs": [],
   "source": [
    "%matplotlib inline\n",
    "from __future__ import print_function, division\n",
    "from neuralnilm.source import RandomSegments, RandomSegmentsInMemory, SameLocation\n",
    "import matplotlib.pyplot as plt\n",
    "import matplotlib as mpl\n",
    "mpl.rcParams['figure.figsize'] = (10.0, 8.0)\n",
    "import numpy as np\n",
    "from sys import stdout"
   ]
  },
  {
   "cell_type": "code",
   "execution_count": 2,
   "metadata": {
    "collapsed": false
   },
   "outputs": [
    {
     "name": "stdout",
     "output_type": "stream",
     "text": [
      "Building 3 has no ['fridge freezer', 'fridge']\n"
     ]
    },
    {
     "name": "stderr",
     "output_type": "stream",
     "text": [
      "INFO:neuralnilm.source:Building 3 has no ['fridge freezer', 'fridge']\n"
     ]
    },
    {
     "name": "stdout",
     "output_type": "stream",
     "text": [
      "Removing building 3 from validation_buildings and train_buildings.\n"
     ]
    },
    {
     "name": "stderr",
     "output_type": "stream",
     "text": [
      "INFO:neuralnilm.source:Removing building 3 from validation_buildings and train_buildings.\n"
     ]
    },
    {
     "name": "stdout",
     "output_type": "stream",
     "text": [
      "Building 4 has no ['fridge freezer', 'fridge']\n"
     ]
    },
    {
     "name": "stderr",
     "output_type": "stream",
     "text": [
      "INFO:neuralnilm.source:Building 4 has no ['fridge freezer', 'fridge']\n"
     ]
    },
    {
     "name": "stdout",
     "output_type": "stream",
     "text": [
      "Removing building 4 from validation_buildings and train_buildings.\n"
     ]
    },
    {
     "name": "stderr",
     "output_type": "stream",
     "text": [
      "INFO:neuralnilm.source:Removing building 4 from validation_buildings and train_buildings.\n"
     ]
    },
    {
     "name": "stdout",
     "output_type": "stream",
     "text": [
      "mains 5 TimeFrame(start='2014-08-29 08:19:01.100000+01:00', end='2014-08-29 09:10:13.100000+01:00', empty=False)\n",
      "target 5 TimeFrame(start='2014-08-29 08:19:01.100000+01:00', end='2014-08-29 09:10:13.100000+01:00', empty=False)\n",
      "mains 5 TimeFrame(start='2014-09-24 12:43:29.700000+01:00', end='2014-09-24 13:34:41.700000+01:00', empty=False)\n",
      "target 5 TimeFrame(start='2014-09-24 12:43:29.700000+01:00', end='2014-09-24 13:34:41.700000+01:00', empty=False)\n",
      "mains 1 TimeFrame(start='2013-04-06 02:23:12.400000+01:00', end='2013-04-06 03:14:24.400000+01:00', empty=False)\n",
      "target 1 TimeFrame(start='2013-04-06 02:23:12.400000+01:00', end='2013-04-06 03:14:24.400000+01:00', empty=False)\n",
      "mains 5 TimeFrame(start='2014-10-21 13:21:14.300000+01:00', end='2014-10-21 14:12:26.300000+01:00', empty=False)\n",
      "target 5 TimeFrame(start='2014-10-21 13:21:14.300000+01:00', end='2014-10-21 14:12:26.300000+01:00', empty=False)\n"
     ]
    }
   ],
   "source": [
    "source = RandomSegmentsInMemory(\n",
    "    filename='/data/mine/vadeec/merged/ukdale.h5',\n",
    "    #target_appliance=['washer dryer', 'washing machine'],\n",
    "    target_appliance=['fridge freezer', 'fridge'],\n",
    "    window=(\"2013-03-18\", None),\n",
    "    #window=(\"2013-03-18\", \"2013-05-18\"),\n",
    "    #window=(\"2013-04-01\", \"2013-08-01\"),\n",
    "    seq_length=512,\n",
    "    train_buildings=[1,2,3,4,5],\n",
    "    validation_buildings=[1,2,3,4,5],\n",
    "    n_seq_per_batch=2,\n",
    "    standardise_input=True,\n",
    "    independently_center_inputs=True,\n",
    "    standardise_targets=True,\n",
    "    subsample_target=8,\n",
    "    ignore_incomplete=True\n",
    "    #offset_probability=0.5,\n",
    "    #ignore_offset_activations=True\n",
    ")"
   ]
  },
  {
   "cell_type": "code",
   "execution_count": 3,
   "metadata": {
    "collapsed": false
   },
   "outputs": [
    {
     "data": {
      "text/plain": [
       "[1, 2, 5]"
      ]
     },
     "execution_count": 3,
     "metadata": {},
     "output_type": "execute_result"
    }
   ],
   "source": [
    "source.validation_buildings"
   ]
  },
  {
   "cell_type": "code",
   "execution_count": 4,
   "metadata": {
    "collapsed": false
   },
   "outputs": [
    {
     "data": {
      "text/plain": [
       "[1, 2, 5]"
      ]
     },
     "execution_count": 4,
     "metadata": {},
     "output_type": "execute_result"
    }
   ],
   "source": [
    "source.train_buildings"
   ]
  },
  {
   "cell_type": "code",
   "execution_count": 5,
   "metadata": {
    "collapsed": true
   },
   "outputs": [],
   "source": [
    "def plot_data(X, y, seq_i=0):\n",
    "    fig, axes = plt.subplots(nrows=2, sharex=False)\n",
    "    axes[0].plot(y[seq_i, :, 0])\n",
    "    axes[1].plot(X[seq_i, :, 0])\n",
    "    plt.show()"
   ]
  },
  {
   "cell_type": "code",
   "execution_count": 8,
   "metadata": {
    "collapsed": false
   },
   "outputs": [
    {
     "data": {
      "text/plain": [
       "<matplotlib.axes._subplots.AxesSubplot at 0x7f5c61750f90>"
      ]
     },
     "execution_count": 8,
     "metadata": {},
     "output_type": "execute_result"
    },
    {
     "data": {
      "image/png": "[encoded data removed]",
      "text/plain": [
       "<matplotlib.figure.Figure at 0x7f5c617ab050>"
      ]
     },
     "metadata": {},
     "output_type": "display_data"
    }
   ],
   "source": [
    "source.activations[4][13].plot()"
   ]
  },
  {
   "cell_type": "code",
   "execution_count": 92,
   "metadata": {
    "collapsed": false
   },
   "outputs": [
    {
     "name": "stdout",
     "output_type": "stream",
     "text": [
      "2 TimeFrame(start='2013-09-10 15:21:15+01:00', end='2013-09-10 16:12:27+01:00', empty=False)\n",
      "2 TimeFrame(start='2013-09-10 15:21:15+01:00', end='2013-09-10 16:12:27+01:00', empty=False)\n",
      "1 TimeFrame(start='2014-12-12 14:49:36.300000+00:00', end='2014-12-12 15:40:48.300000+00:00', empty=False)\n",
      "1 TimeFrame(start='2014-12-12 14:49:36.300000+00:00', end='2014-12-12 15:40:48.300000+00:00', empty=False)\n"
     ]
    }
   ],
   "source": [
    "source.n_seq_per_batch = 2\n",
    "X_val, y_val = source.validation_data()"
   ]
  },
  {
   "cell_type": "code",
   "execution_count": 93,
   "metadata": {
    "collapsed": false
   },
   "outputs": [
    {
     "data": {
      "image/png": "[encoded data removed]",
      "text/plain": [
       "<matplotlib.figure.Figure at 0x7f776ef2e450>"
      ]
     },
     "metadata": {},
     "output_type": "display_data"
    }
   ],
   "source": [
    "plot_data(X_val, y_val, 0)"
   ]
  },
  {
   "cell_type": "code",
   "execution_count": 95,
   "metadata": {
    "collapsed": false
   },
   "outputs": [
    {
     "data": {
      "text/plain": [
       "<matplotlib.axes._subplots.AxesSubplot at 0x7f776ef2da10>"
      ]
     },
     "execution_count": 95,
     "metadata": {},
     "output_type": "execute_result"
    },
    {
     "data": {
      "image/png": "[encoded data removed]",
      "text/plain": [
       "<matplotlib.figure.Figure at 0x7f776f079f90>"
      ]
     },
     "metadata": {},
     "output_type": "display_data"
    }
   ],
   "source": [
    "source.data[2]['mains']['2013-09-10 15:21:15+01:00':'2013-09-10 16:12:27+01:00'].plot()"
   ]
  },
  {
   "cell_type": "code",
   "execution_count": 97,
   "metadata": {
    "collapsed": false
   },
   "outputs": [],
   "source": [
    "fridge = source.dataset.buildings[2].elec['fridge'].power_series_all_data()"
   ]
  },
  {
   "cell_type": "code",
   "execution_count": 99,
   "metadata": {
    "collapsed": false
   },
   "outputs": [
    {
     "data": {
      "text/plain": [
       "Series([], Name: (power, active), dtype: float64)"
      ]
     },
     "execution_count": 99,
     "metadata": {},
     "output_type": "execute_result"
    }
   ],
   "source": [
    "fridge['2013-09-10 15:21:15+01:00':'2013-09-10 16:12:27+01:00']"
   ]
  },
  {
   "cell_type": "code",
   "execution_count": 19,
   "metadata": {
    "collapsed": true
   },
   "outputs": [],
   "source": [
    "from nilmtk.electric import activation_series_for_chunk"
   ]
  },
  {
   "cell_type": "code",
   "execution_count": 22,
   "metadata": {
    "collapsed": true
   },
   "outputs": [],
   "source": [
    "chunk = source.data[2]['target']['2013-09-15 23:15:35+01:00':'2013-09-16 00:06:47+01:00']"
   ]
  },
  {
   "cell_type": "code",
   "execution_count": 23,
   "metadata": {
    "collapsed": false
   },
   "outputs": [
    {
     "data": {
      "text/plain": [
       "<matplotlib.axes._subplots.AxesSubplot at 0x7f0a6f1b7090>"
      ]
     },
     "execution_count": 23,
     "metadata": {},
     "output_type": "execute_result"
    },
    {
     "data": {
      "image/png": "[encoded data removed]",
      "text/plain": [
       "<matplotlib.figure.Figure at 0x7f0a6f0ceb90>"
      ]
     },
     "metadata": {},
     "output_type": "display_data"
    }
   ],
   "source": [
    "chunk.plot()"
   ]
  },
  {
   "cell_type": "code",
   "execution_count": 26,
   "metadata": {
    "collapsed": false
   },
   "outputs": [],
   "source": [
    "activations = activation_series_for_chunk(chunk, on_power_threshold=60)"
   ]
  },
  {
   "cell_type": "code",
   "execution_count": 27,
   "metadata": {
    "collapsed": false
   },
   "outputs": [
    {
     "data": {
      "text/plain": [
       "[2013-09-15 23:40:00+01:00     11\n",
       " 2013-09-15 23:40:06+01:00     11\n",
       " 2013-09-15 23:40:12+01:00    103\n",
       " 2013-09-15 23:40:18+01:00     95\n",
       " 2013-09-15 23:40:24+01:00     94\n",
       " 2013-09-15 23:40:30+01:00     97\n",
       " 2013-09-15 23:40:36+01:00    100\n",
       " 2013-09-15 23:40:42+01:00     99\n",
       " 2013-09-15 23:40:48+01:00     97\n",
       " 2013-09-15 23:40:54+01:00     97\n",
       " 2013-09-15 23:41:00+01:00     98\n",
       " 2013-09-15 23:41:06+01:00     98\n",
       " 2013-09-15 23:41:12+01:00     99\n",
       " 2013-09-15 23:41:18+01:00    100\n",
       " 2013-09-15 23:41:24+01:00     99\n",
       " 2013-09-15 23:41:30+01:00    100\n",
       " 2013-09-15 23:41:36+01:00     99\n",
       " 2013-09-15 23:41:42+01:00     99\n",
       " 2013-09-15 23:41:48+01:00     99\n",
       " 2013-09-15 23:41:54+01:00     98\n",
       " 2013-09-15 23:42:00+01:00     98\n",
       " 2013-09-15 23:42:06+01:00     97\n",
       " 2013-09-15 23:42:12+01:00     97\n",
       " 2013-09-15 23:42:18+01:00     97\n",
       " 2013-09-15 23:42:24+01:00     96\n",
       " 2013-09-15 23:42:30+01:00     96\n",
       " 2013-09-15 23:42:36+01:00     95\n",
       " 2013-09-15 23:42:42+01:00     95\n",
       " 2013-09-15 23:42:48+01:00     95\n",
       " 2013-09-15 23:42:54+01:00     95\n",
       "                             ... \n",
       " 2013-09-15 23:50:54+01:00     87\n",
       " 2013-09-15 23:51:00+01:00     87\n",
       " 2013-09-15 23:51:06+01:00     87\n",
       " 2013-09-15 23:51:12+01:00     87\n",
       " 2013-09-15 23:51:18+01:00     86\n",
       " 2013-09-15 23:51:24+01:00     87\n",
       " 2013-09-15 23:51:30+01:00     87\n",
       " 2013-09-15 23:51:36+01:00     86\n",
       " 2013-09-15 23:51:42+01:00     86\n",
       " 2013-09-15 23:51:48+01:00     87\n",
       " 2013-09-15 23:51:54+01:00     87\n",
       " 2013-09-15 23:52:00+01:00     86\n",
       " 2013-09-15 23:52:06+01:00     87\n",
       " 2013-09-15 23:52:12+01:00     86\n",
       " 2013-09-15 23:52:18+01:00     86\n",
       " 2013-09-15 23:52:24+01:00     86\n",
       " 2013-09-15 23:52:30+01:00     87\n",
       " 2013-09-15 23:52:36+01:00     86\n",
       " 2013-09-15 23:52:42+01:00     86\n",
       " 2013-09-15 23:52:48+01:00     86\n",
       " 2013-09-15 23:52:54+01:00     86\n",
       " 2013-09-15 23:53:00+01:00     87\n",
       " 2013-09-15 23:53:06+01:00     86\n",
       " 2013-09-15 23:53:12+01:00     86\n",
       " 2013-09-15 23:53:18+01:00     86\n",
       " 2013-09-15 23:53:24+01:00     87\n",
       " 2013-09-15 23:53:30+01:00     86\n",
       " 2013-09-15 23:53:36+01:00     86\n",
       " 2013-09-15 23:53:42+01:00     86\n",
       " 2013-09-15 23:53:48+01:00     11\n",
       " Name: (power, active), dtype: float64]"
      ]
     },
     "execution_count": 27,
     "metadata": {},
     "output_type": "execute_result"
    }
   ],
   "source": [
    "activations"
   ]
  },
  {
   "cell_type": "code",
   "execution_count": 7,
   "metadata": {
    "collapsed": false
   },
   "outputs": [],
   "source": [
    "source.start()"
   ]
  },
  {
   "cell_type": "code",
   "execution_count": 17,
   "metadata": {
    "collapsed": false
   },
   "outputs": [
    {
     "data": {
      "text/plain": [
       "(2, 120, 1)"
      ]
     },
     "execution_count": 17,
     "metadata": {},
     "output_type": "execute_result"
    }
   ],
   "source": [
    "source.output_shape_after_processing()"
   ]
  },
  {
   "cell_type": "code",
   "execution_count": 8,
   "metadata": {
    "collapsed": false
   },
   "outputs": [],
   "source": [
    "X, y = source.queue.get(timeout=5)"
   ]
  },
  {
   "cell_type": "code",
   "execution_count": 9,
   "metadata": {
    "collapsed": false
   },
   "outputs": [],
   "source": [
    "plot_data(X, y, 0)"
   ]
  },
  {
   "cell_type": "code",
   "execution_count": 18,
   "metadata": {
    "collapsed": false
   },
   "outputs": [
    {
     "name": "stdout",
     "output_type": "stream",
     "text": [
      " 168629"
     ]
    },
    {
     "ename": "KeyboardInterrupt",
     "evalue": "",
     "output_type": "error",
     "traceback": [
      "\u001b[1;31m---------------------------------------------------------------------------\u001b[0m",
      "\u001b[1;31mKeyboardInterrupt\u001b[0m                         Traceback (most recent call last)",
      "\u001b[1;32m<ipython-input-18-8a1a8d697bca>\u001b[0m in \u001b[0;36m<module>\u001b[1;34m()\u001b[0m\n\u001b[0;32m      3\u001b[0m     \u001b[1;32mprint\u001b[0m\u001b[1;33m(\u001b[0m\u001b[1;34m\"\\r\"\u001b[0m\u001b[1;33m,\u001b[0m \u001b[0mi\u001b[0m\u001b[1;33m,\u001b[0m \u001b[0mend\u001b[0m\u001b[1;33m=\u001b[0m\u001b[1;34m\"\"\u001b[0m\u001b[1;33m)\u001b[0m\u001b[1;33m\u001b[0m\u001b[0m\n\u001b[0;32m      4\u001b[0m     \u001b[0mstdout\u001b[0m\u001b[1;33m.\u001b[0m\u001b[0mflush\u001b[0m\u001b[1;33m(\u001b[0m\u001b[1;33m)\u001b[0m\u001b[1;33m\u001b[0m\u001b[0m\n\u001b[1;32m----> 5\u001b[1;33m     \u001b[0mX\u001b[0m\u001b[1;33m,\u001b[0m \u001b[0my\u001b[0m \u001b[1;33m=\u001b[0m \u001b[0msource\u001b[0m\u001b[1;33m.\u001b[0m\u001b[0mqueue\u001b[0m\u001b[1;33m.\u001b[0m\u001b[0mget\u001b[0m\u001b[1;33m(\u001b[0m\u001b[0mtimeout\u001b[0m\u001b[1;33m=\u001b[0m\u001b[1;36m5\u001b[0m\u001b[1;33m)\u001b[0m\u001b[1;33m\u001b[0m\u001b[0m\n\u001b[0m\u001b[0;32m      6\u001b[0m     \u001b[1;32mif\u001b[0m \u001b[1;33m(\u001b[0m\u001b[0mX\u001b[0m\u001b[1;33m[\u001b[0m\u001b[1;36m0\u001b[0m\u001b[1;33m]\u001b[0m \u001b[1;33m==\u001b[0m \u001b[0mX_val\u001b[0m\u001b[1;33m[\u001b[0m\u001b[1;36m0\u001b[0m\u001b[1;33m]\u001b[0m\u001b[1;33m)\u001b[0m\u001b[1;33m.\u001b[0m\u001b[0mall\u001b[0m\u001b[1;33m(\u001b[0m\u001b[1;33m)\u001b[0m\u001b[1;33m:\u001b[0m\u001b[1;33m\u001b[0m\u001b[0m\n\u001b[0;32m      7\u001b[0m         \u001b[1;32mprint\u001b[0m\u001b[1;33m(\u001b[0m\u001b[1;34m\"ahhh!\"\u001b[0m\u001b[1;33m)\u001b[0m\u001b[1;33m\u001b[0m\u001b[0m\n",
      "\u001b[1;32m/usr/lib/python2.7/Queue.pyc\u001b[0m in \u001b[0;36mget\u001b[1;34m(self, block, timeout)\u001b[0m\n\u001b[0;32m    175\u001b[0m                     \u001b[1;32mif\u001b[0m \u001b[0mremaining\u001b[0m \u001b[1;33m<=\u001b[0m \u001b[1;36m0.0\u001b[0m\u001b[1;33m:\u001b[0m\u001b[1;33m\u001b[0m\u001b[0m\n\u001b[0;32m    176\u001b[0m                         \u001b[1;32mraise\u001b[0m \u001b[0mEmpty\u001b[0m\u001b[1;33m\u001b[0m\u001b[0m\n\u001b[1;32m--> 177\u001b[1;33m                     \u001b[0mself\u001b[0m\u001b[1;33m.\u001b[0m\u001b[0mnot_empty\u001b[0m\u001b[1;33m.\u001b[0m\u001b[0mwait\u001b[0m\u001b[1;33m(\u001b[0m\u001b[0mremaining\u001b[0m\u001b[1;33m)\u001b[0m\u001b[1;33m\u001b[0m\u001b[0m\n\u001b[0m\u001b[0;32m    178\u001b[0m             \u001b[0mitem\u001b[0m \u001b[1;33m=\u001b[0m \u001b[0mself\u001b[0m\u001b[1;33m.\u001b[0m\u001b[0m_get\u001b[0m\u001b[1;33m(\u001b[0m\u001b[1;33m)\u001b[0m\u001b[1;33m\u001b[0m\u001b[0m\n\u001b[0;32m    179\u001b[0m             \u001b[0mself\u001b[0m\u001b[1;33m.\u001b[0m\u001b[0mnot_full\u001b[0m\u001b[1;33m.\u001b[0m\u001b[0mnotify\u001b[0m\u001b[1;33m(\u001b[0m\u001b[1;33m)\u001b[0m\u001b[1;33m\u001b[0m\u001b[0m\n",
      "\u001b[1;32m/usr/lib/python2.7/threading.pyc\u001b[0m in \u001b[0;36mwait\u001b[1;34m(self, timeout)\u001b[0m\n\u001b[0;32m    357\u001b[0m                         \u001b[1;32mbreak\u001b[0m\u001b[1;33m\u001b[0m\u001b[0m\n\u001b[0;32m    358\u001b[0m                     \u001b[0mdelay\u001b[0m \u001b[1;33m=\u001b[0m \u001b[0mmin\u001b[0m\u001b[1;33m(\u001b[0m\u001b[0mdelay\u001b[0m \u001b[1;33m*\u001b[0m \u001b[1;36m2\u001b[0m\u001b[1;33m,\u001b[0m \u001b[0mremaining\u001b[0m\u001b[1;33m,\u001b[0m \u001b[1;36m.05\u001b[0m\u001b[1;33m)\u001b[0m\u001b[1;33m\u001b[0m\u001b[0m\n\u001b[1;32m--> 359\u001b[1;33m                     \u001b[0m_sleep\u001b[0m\u001b[1;33m(\u001b[0m\u001b[0mdelay\u001b[0m\u001b[1;33m)\u001b[0m\u001b[1;33m\u001b[0m\u001b[0m\n\u001b[0m\u001b[0;32m    360\u001b[0m                 \u001b[1;32mif\u001b[0m \u001b[1;32mnot\u001b[0m \u001b[0mgotit\u001b[0m\u001b[1;33m:\u001b[0m\u001b[1;33m\u001b[0m\u001b[0m\n\u001b[0;32m    361\u001b[0m                     \u001b[1;32mif\u001b[0m \u001b[0m__debug__\u001b[0m\u001b[1;33m:\u001b[0m\u001b[1;33m\u001b[0m\u001b[0m\n",
      "\u001b[1;31mKeyboardInterrupt\u001b[0m: "
     ]
    }
   ],
   "source": [
    "i = 0\n",
    "while True:\n",
    "    print(\"\\r\", i, end=\"\")\n",
    "    stdout.flush()\n",
    "    X, y = source.queue.get(timeout=5)\n",
    "    if (X[0] == X_val[0]).all():\n",
    "        print(\"ahhh!\")\n",
    "        break\n",
    "    i += 1"
   ]
  },
  {
   "cell_type": "code",
   "execution_count": 6,
   "metadata": {
    "collapsed": false
   },
   "outputs": [
    {
     "data": {
      "text/plain": [
       "{'categories': {'electrical': ['single-phase induction motor', 'resistive'],\n",
       "  'google_shopping': ['laundry appliances'],\n",
       "  'size': 'large',\n",
       "  'traditional': 'wet'},\n",
       " 'components': [{'categories': {'electrical': ['single-phase induction motor']},\n",
       "   'description': 'drum motor',\n",
       "   'n_ancestors': 1,\n",
       "   'parent': 'component',\n",
       "   'type': 'motor'},\n",
       "  {'categories': {'electrical': ['single-phase induction motor']},\n",
       "   'n_ancestors': 2,\n",
       "   'parent': 'motor',\n",
       "   'type': 'water pump'},\n",
       "  {'additional_properties': {'volume': {'description': 'litres',\n",
       "     'type': 'number'}},\n",
       "   'categories': {'electrical': ['resistive']},\n",
       "   'n_ancestors': 2,\n",
       "   'parent': 'electric heating element',\n",
       "   'type': 'electric water heater'},\n",
       "  {'categories': {'electrical': ['resistive']},\n",
       "   'description': 'clothes drying heating element',\n",
       "   'n_ancestors': 2,\n",
       "   'parent': 'electric heating element',\n",
       "   'type': 'electric air heater'}],\n",
       " 'control': ['manual', 'timer'],\n",
       " 'distributions': {'rooms': [{'distance': 3,\n",
       "    'distribution_of_data': {'categories': ['kitchen',\n",
       "      'utility',\n",
       "      'basement',\n",
       "      'garage'],\n",
       "     'values': [0.3, 0.3, 0.2, 0.1]},\n",
       "    'from_appliance_type': 'wet appliance',\n",
       "    'source': 'subjective'}]},\n",
       " 'min_off_duration': 600,\n",
       " 'min_on_duration': 1800,\n",
       " 'n_ancestors': 4,\n",
       " 'parent': 'washing machine',\n",
       " 'subtypes': ['top-loader', 'front-loader'],\n",
       " 'type': 'washer dryer'}"
      ]
     },
     "execution_count": 6,
     "metadata": {},
     "output_type": "execute_result"
    }
   ],
   "source": [
    "source.dataset.buildings[1].elec['washer dryer'].dominant_appliance().type"
   ]
  },
  {
   "cell_type": "code",
   "execution_count": 9,
   "metadata": {
    "collapsed": false
   },
   "outputs": [
    {
     "data": {
      "text/plain": [
       "Timedelta('0 days 00:07:42')"
      ]
     },
     "execution_count": 9,
     "metadata": {},
     "output_type": "execute_result"
    }
   ],
   "source": [
    "min([a.index[-1] - a.index[0] for a in source.activations[1]])"
   ]
  },
  {
   "cell_type": "code",
   "execution_count": 46,
   "metadata": {
    "collapsed": false
   },
   "outputs": [
    {
     "data": {
      "text/plain": [
       "1200.0"
      ]
     },
     "execution_count": 46,
     "metadata": {},
     "output_type": "execute_result"
    }
   ],
   "source": [
    "(2*60*60) / 6"
   ]
  },
  {
   "cell_type": "code",
   "execution_count": 3,
   "metadata": {
    "collapsed": true
   },
   "outputs": [],
   "source": [
    "elec = source.dataset.buildings[4].elec"
   ]
  },
  {
   "cell_type": "code",
   "execution_count": 4,
   "metadata": {
    "collapsed": true
   },
   "outputs": [],
   "source": [
    "washer = elec['washing machine']"
   ]
  },
  {
   "cell_type": "code",
   "execution_count": 5,
   "metadata": {
    "collapsed": false
   },
   "outputs": [],
   "source": [
    "data = washer.power_series_all_data()"
   ]
  },
  {
   "cell_type": "code",
   "execution_count": 6,
   "metadata": {
    "collapsed": false
   },
   "outputs": [
    {
     "data": {
      "text/plain": [
       "<matplotlib.axes._subplots.AxesSubplot at 0x7f56fdc044d0>"
      ]
     },
     "execution_count": 6,
     "metadata": {},
     "output_type": "execute_result"
    }
   ],
   "source": [
    "data.plot()"
   ]
  },
  {
   "cell_type": "code",
   "execution_count": null,
   "metadata": {
    "collapsed": true
   },
   "outputs": [],
   "source": []
  }
 ],
 "metadata": {
  "kernelspec": {
   "display_name": "Python 2",
   "language": "python",
   "name": "python2"
  },
  "language_info": {
   "codemirror_mode": {
    "name": "ipython",
    "version": 2
   },
   "file_extension": ".py",
   "mimetype": "text/x-python",
   "name": "python",
   "nbconvert_exporter": "python",
   "pygments_lexer": "ipython2",
   "version": "2.7.9"
  }
 },
 "nbformat": 4,
 "nbformat_minor": 0
}
