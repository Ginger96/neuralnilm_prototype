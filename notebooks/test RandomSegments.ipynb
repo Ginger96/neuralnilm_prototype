{
 "cells": [
  {
   "cell_type": "code",
   "execution_count": 1,
   "metadata": {
    "collapsed": false
   },
   "outputs": [],
   "source": [
    "from __future__ import print_function, division\n",
    "from neuralnilm.source import RandomSegments, RandomSegmentsInMemory, SameLocation\n",
    "import matplotlib.pyplot as plt\n",
    "import numpy as np\n",
    "from sys import stdout"
   ]
  },
  {
   "cell_type": "code",
   "execution_count": 2,
   "metadata": {
    "collapsed": false
   },
   "outputs": [
    {
     "name": "stdout",
     "output_type": "stream",
     "text": [
      "Loaded 17455 activations.\n",
      "Loaded mains data for building 1\n"
     ]
    }
   ],
   "source": [
    "source = SameLocation(\n",
    "    filename='/data/mine/vadeec/merged/ukdale.h5',\n",
    "    target_appliance='fridge freezer',\n",
    "    window=(\"2013-03-18\", None),\n",
    "    seq_length=512,\n",
    "    train_buildings=[1],\n",
    "    validation_buildings=[1],\n",
    "    n_seq_per_batch=8,\n",
    "    standardise_input=True,\n",
    "    standardise_targets=True)"
   ]
  },
  {
   "cell_type": "code",
   "execution_count": 3,
   "metadata": {
    "collapsed": false
   },
   "outputs": [],
   "source": [
    "source.start()"
   ]
  },
  {
   "cell_type": "code",
   "execution_count": null,
   "metadata": {
    "collapsed": false
   },
   "outputs": [],
   "source": [
    "for i in range(100):\n",
    "    print(\"\\r\", i, end=\"\")\n",
    "    stdout.flush()\n",
    "    X, y = source.queue.get()"
   ]
  },
  {
   "cell_type": "code",
   "execution_count": 10,
   "metadata": {
    "collapsed": false
   },
   "outputs": [],
   "source": [
    "X, y = source.queue.get(timeout=5)"
   ]
  },
  {
   "cell_type": "code",
   "execution_count": 11,
   "metadata": {
    "collapsed": false
   },
   "outputs": [],
   "source": [
    "fig, axes = plt.subplots(nrows=2, sharex=True)\n",
    "axes[0].plot(X[0, :, 0])\n",
    "axes[1].plot(y[0, :, 0])\n",
    "plt.show()"
   ]
  }
 ],
 "metadata": {
  "kernelspec": {
   "display_name": "Python 2",
   "language": "python",
   "name": "python2"
  },
  "language_info": {
   "codemirror_mode": {
    "name": "ipython",
    "version": 2
   },
   "file_extension": ".py",
   "mimetype": "text/x-python",
   "name": "python",
   "nbconvert_exporter": "python",
   "pygments_lexer": "ipython2",
   "version": "2.7.9"
  }
 },
 "nbformat": 4,
 "nbformat_minor": 0
}
