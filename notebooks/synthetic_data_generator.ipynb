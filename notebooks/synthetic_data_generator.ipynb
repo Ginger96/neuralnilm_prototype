{
 "metadata": {
  "name": "",
  "signature": "sha256:d0314ea8ff9fe612a311fd3149232369bf49b8b9cdddb2022174092216a9d3d2"
 },
 "nbformat": 3,
 "nbformat_minor": 0,
 "worksheets": [
  {
   "cells": [
    {
     "cell_type": "code",
     "collapsed": false,
     "input": [
      "import numpy as np\n",
      "import matplotlib.pyplot as plt"
     ],
     "language": "python",
     "metadata": {},
     "outputs": [],
     "prompt_number": 2
    },
    {
     "cell_type": "code",
     "collapsed": false,
     "input": [
      "def quantized(inp):\n",
      "    n = 10\n",
      "    n_batch, length, _ = inp.shape\n",
      "    out = np.zeros(shape=(n_batch, length, n))\n",
      "    for i_batch in range(n_batch):\n",
      "        for i_element in range(length):\n",
      "            out[i_batch,i_element,:], _ = np.histogram(inp[i_batch, i_element, 0], [-1,-.8,-.6,-.4,-.2,0.0,.2,.4,.6,.8,1])\n",
      "    return out - 0.5"
     ],
     "language": "python",
     "metadata": {},
     "outputs": [],
     "prompt_number": 29
    },
    {
     "cell_type": "code",
     "collapsed": false,
     "input": [
      "def gen_single_appliance(length, power, on_duration, min_off_duration=20, fdiff=True):\n",
      "    if fdiff:\n",
      "        length += 1\n",
      "    appliance_power = np.zeros(shape=(length))\n",
      "    i = 0\n",
      "    while i < length:\n",
      "        if np.random.binomial(n=1, p=0.2):\n",
      "            end = min(i + on_duration, length)\n",
      "            appliance_power[i:end] = power\n",
      "            i += on_duration + min_off_duration\n",
      "        else:\n",
      "            i += 1\n",
      "    return np.diff(appliance_power) if fdiff else appliance_power\n",
      "\n",
      "def gen_batches_of_single_appliance(length, n_batch, *args, **kwargs):\n",
      "    batches = np.zeros(shape=(n_batch, length, 1))\n",
      "    for i in range(n_batch):\n",
      "        batches[i, :, :] = gen_single_appliance(length, *args, **kwargs).reshape(length, 1)\n",
      "    return batches\n",
      "\n",
      "def gen_data(length, n_batch, n_appliances=2, appliance_powers=[10,20], appliance_on_durations=[5,2]):\n",
      "    '''Generate a simple energy disaggregation data.\n",
      "\n",
      "    :parameters:\n",
      "        - length : int\n",
      "            Length of sequences to generate\n",
      "        - n_batch : int\n",
      "            Number of training sequences per batch\n",
      "\n",
      "    :returns:\n",
      "        - X : np.ndarray, shape=(n_batch, length, 1)\n",
      "            Input sequence\n",
      "        - y : np.ndarray, shape=(n_batch, length, 1)\n",
      "            Target sequence, appliance 1\n",
      "    '''\n",
      "    y = gen_batches_of_single_appliance(length, n_batch, \n",
      "                                        power=appliance_powers[0], \n",
      "                                        on_duration=appliance_on_durations[0])\n",
      "    X = y.copy()\n",
      "    for power, on_duration in zip(appliance_powers, appliance_on_durations)[1:]:\n",
      "        X += gen_batches_of_single_appliance(length, n_batch, power=power, on_duration=on_duration)\n",
      "    \n",
      "    max_power = np.sum(appliance_powers)\n",
      "    \n",
      "    return quantized(X / max_power), quantized(y / max_power)\n",
      "                \n",
      "        \n",
      "        "
     ],
     "language": "python",
     "metadata": {},
     "outputs": [],
     "prompt_number": 30
    },
    {
     "cell_type": "code",
     "collapsed": false,
     "input": [
      "# gen_batches_of_single_appliance(4, 20, 5, 3)\n",
      "# gen_single_appliance(20, 5, 3).reshape(20, 1).shape\n",
      "X, y = gen_data(100, 1)\n",
      "\n",
      "ax = plt.gca()\n",
      "ax.plot(X[0,:,0])\n",
      "ax.plot(y[0,:,0])\n",
      "plt.show()"
     ],
     "language": "python",
     "metadata": {},
     "outputs": [],
     "prompt_number": 31
    },
    {
     "cell_type": "code",
     "collapsed": false,
     "input": [
      "X[0,:,0]"
     ],
     "language": "python",
     "metadata": {},
     "outputs": [
      {
       "metadata": {},
       "output_type": "pyout",
       "prompt_number": 32,
       "text": [
        "array([-0.5, -0.5, -0.5, -0.5, -0.5, -0.5, -0.5, -0.5, -0.5, -0.5, -0.5,\n",
        "       -0.5, -0.5, -0.5, -0.5, -0.5, -0.5, -0.5, -0.5, -0.5, -0.5, -0.5,\n",
        "       -0.5, -0.5, -0.5, -0.5, -0.5, -0.5, -0.5, -0.5, -0.5, -0.5, -0.5,\n",
        "       -0.5, -0.5, -0.5, -0.5, -0.5, -0.5, -0.5, -0.5, -0.5, -0.5, -0.5,\n",
        "       -0.5, -0.5, -0.5, -0.5, -0.5, -0.5, -0.5, -0.5, -0.5, -0.5, -0.5,\n",
        "       -0.5, -0.5, -0.5, -0.5, -0.5, -0.5, -0.5, -0.5, -0.5, -0.5, -0.5,\n",
        "       -0.5, -0.5, -0.5, -0.5, -0.5, -0.5, -0.5, -0.5, -0.5, -0.5, -0.5,\n",
        "       -0.5, -0.5, -0.5, -0.5, -0.5, -0.5, -0.5, -0.5, -0.5, -0.5, -0.5,\n",
        "       -0.5, -0.5, -0.5, -0.5, -0.5, -0.5, -0.5, -0.5, -0.5, -0.5, -0.5,\n",
        "       -0.5])"
       ]
      }
     ],
     "prompt_number": 32
    },
    {
     "cell_type": "code",
     "collapsed": false,
     "input": [],
     "language": "python",
     "metadata": {},
     "outputs": []
    }
   ],
   "metadata": {}
  }
 ]
}