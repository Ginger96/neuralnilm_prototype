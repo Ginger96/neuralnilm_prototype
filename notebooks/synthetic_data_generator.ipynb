{
 "metadata": {
  "name": "",
  "signature": "sha256:bfcc0f4ee35278454ad637925c17ba0a04b7d136fff8ad5a81cf3e58e0b37717"
 },
 "nbformat": 3,
 "nbformat_minor": 0,
 "worksheets": [
  {
   "cells": [
    {
     "cell_type": "code",
     "collapsed": false,
     "input": [
      "import numpy as np\n",
      "import matplotlib.pyplot as plt"
     ],
     "language": "python",
     "metadata": {},
     "outputs": [],
     "prompt_number": 59
    },
    {
     "cell_type": "code",
     "collapsed": false,
     "input": [
      "def gen_single_appliance(length, power, on_duration, min_off_duration=20):\n",
      "    appliance_power = np.zeros(shape=(length))\n",
      "    i = 0\n",
      "    while i < length:\n",
      "        if np.random.binomial(n=1, p=0.2):\n",
      "            end = min(i + on_duration, length)\n",
      "            appliance_power[i:end] = power\n",
      "            i += on_duration + min_off_duration\n",
      "        else:\n",
      "            i += 1\n",
      "    return appliance_power\n",
      "\n",
      "def gen_batches_of_single_appliance(length, n_batch, *args, **kwargs):\n",
      "    batches = np.zeros(shape=(n_batch, length, 1))\n",
      "    for i in range(n_batch):\n",
      "        batches[i, :, :] = gen_single_appliance(length, *args, **kwargs).reshape(length, 1)\n",
      "    return batches\n",
      "\n",
      "def gen_data(length, n_batch, n_appliances=2, appliance_powers=[10,20], appliance_on_durations=[5,2]):\n",
      "    '''Generate a simple energy disaggregation data.\n",
      "\n",
      "    :parameters:\n",
      "        - length : int\n",
      "            Length of sequences to generate\n",
      "        - n_batch : int\n",
      "            Number of training sequences per batch\n",
      "\n",
      "    :returns:\n",
      "        - X : np.ndarray, shape=(n_batch, length, 1)\n",
      "            Input sequence\n",
      "        - y : np.ndarray, shape=(n_batch, length, 1)\n",
      "            Target sequence, appliance 1\n",
      "    '''\n",
      "    y = gen_batches_of_single_appliance(length, n_batch, \n",
      "                                        power=appliance_powers[0], \n",
      "                                        on_duration=appliance_on_durations[0])\n",
      "    X = y.copy()\n",
      "    for power, on_duration in zip(appliance_powers, appliance_on_durations)[1:]:\n",
      "        X += gen_batches_of_single_appliance(length, n_batch, power=power, on_duration=on_duration)\n",
      "    \n",
      "    return X, y\n",
      "                \n",
      "        \n",
      "        "
     ],
     "language": "python",
     "metadata": {},
     "outputs": [],
     "prompt_number": 74
    },
    {
     "cell_type": "code",
     "collapsed": false,
     "input": [
      "# gen_batches_of_single_appliance(4, 20, 5, 3)\n",
      "# gen_single_appliance(20, 5, 3).reshape(20, 1).shape\n",
      "X, y = gen_data(100, 1)\n",
      "\n",
      "ax = plt.gca()\n",
      "ax.plot(X[0,:,0])\n",
      "ax.plot(y[0,:,0])\n",
      "plt.show()"
     ],
     "language": "python",
     "metadata": {},
     "outputs": [],
     "prompt_number": 75
    },
    {
     "cell_type": "code",
     "collapsed": false,
     "input": [
      "X[0,:,0]"
     ],
     "language": "python",
     "metadata": {},
     "outputs": [
      {
       "metadata": {},
       "output_type": "pyout",
       "prompt_number": 71,
       "text": [
        "array([ 20.,  20.,   0.,   0.,  20.,  30.,  10.,  10.,  10.,  30.])"
       ]
      }
     ],
     "prompt_number": 71
    },
    {
     "cell_type": "code",
     "collapsed": false,
     "input": [],
     "language": "python",
     "metadata": {},
     "outputs": []
    }
   ],
   "metadata": {}
  }
 ]
}