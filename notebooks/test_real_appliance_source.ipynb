{
 "metadata": {
  "name": "",
  "signature": "sha256:32a9877d18c8ffc4768415946c4938a67edef313893b7490f35452b8e894a953"
 },
 "nbformat": 3,
 "nbformat_minor": 0,
 "worksheets": [
  {
   "cells": [
    {
     "cell_type": "code",
     "collapsed": false,
     "input": [
      "from neuralnilm import RealApplianceSource\n",
      "import matplotlib.pyplot as plt"
     ],
     "language": "python",
     "metadata": {},
     "outputs": [
      {
       "output_type": "stream",
       "stream": "stdout",
       "text": [
        "Couldn't import dot_parser, loading of dot files will not be possible.\n"
       ]
      }
     ],
     "prompt_number": 1
    },
    {
     "cell_type": "code",
     "collapsed": false,
     "input": [
      "source = RealApplianceSource(\n",
      "    filename='/data/mine/vadeec/merged/ukdale.h5', \n",
      "    appliances=[\n",
      "        ['fridge freezer', 'fridge', 'freezer'], \n",
      "         'kettle', \n",
      "         'dish washer',\n",
      "         ['washer dryer', 'washing machine'],\n",
      "         'microwave'\n",
      "        ],\n",
      "    max_input_power=8000, \n",
      "    max_appliance_powers=[300, 2800, 1500, 3000, 800],\n",
      "    window=(\"2013-06-01\", \"2013-07-01\"),\n",
      "    seq_length=4000,\n",
      "    output_one_appliance=False,\n",
      "    boolean_targets=False,\n",
      "    min_on_duration=50,\n",
      "    min_on_rows=10,\n",
      "    subsample_target=5,\n",
      "    input_padding=200,\n",
      "    train_buildings=[1],\n",
      "    validation_buildings=[5]\n",
      "    #input_quantization_kwargs = dict(n_bins=10, range=(0,1))\n",
      "    #sample_period=15, seq_length=400\n",
      ")\n",
      "\n",
      "# TODO: figure out why the activations are so odd for washer dryer from house 1 (and other houses?)"
     ],
     "language": "python",
     "metadata": {},
     "outputs": [
      {
       "output_type": "stream",
       "stream": "stdout",
       "text": [
        "Loading training activations...\n",
        "  Loading activations for fridge freezer from building 1... "
       ]
      },
      {
       "output_type": "stream",
       "stream": "stdout",
       "text": [
        "max power = 3232.0   mean = 92.4646377521\n",
        "Loaded 804 activations.\n",
        "  Loading activations for kettle from building 1... "
       ]
      },
      {
       "output_type": "stream",
       "stream": "stdout",
       "text": [
        "max power = 2752.0   mean = 1308.94579914\n",
        "Loaded 123 activations.\n",
        "  Loading activations for dish washer from building 1... "
       ]
      },
      {
       "output_type": "stream",
       "stream": "stdout",
       "text": [
        "max power = 2815.0   mean = 311.179769296\n",
        "Loaded 15 activations.\n",
        "  Loading activations for washer dryer from building 1... "
       ]
      },
      {
       "output_type": "stream",
       "stream": "stdout",
       "text": [
        "max power = 3975.0   mean = 294.924768392\n",
        "Loaded 33 activations.\n",
        "  Loading activations for microwave from building 1... "
       ]
      },
      {
       "output_type": "stream",
       "stream": "stdout",
       "text": [
        "max power = 3115.0   mean = 622.968034384\n",
        "Loaded 109 activations.\n",
        "\n",
        "Loading validation activations...\n",
        "  Loading activations for fridge freezer from building 5... "
       ]
      },
      {
       "output_type": "stream",
       "stream": "stdout",
       "text": [
        "max power = 0   mean = nan\n",
        "Loaded 0 activations.\n",
        "  Loading activations for kettle from building 5... "
       ]
      },
      {
       "output_type": "stream",
       "stream": "stdout",
       "text": [
        "max power = 0   mean = nan\n",
        "Loaded 0 activations.\n",
        "  Loading activations for dish washer from building 5... "
       ]
      },
      {
       "output_type": "stream",
       "stream": "stdout",
       "text": [
        "max power = 0   mean = nan\n",
        "Loaded 0 activations.\n",
        "  Loading activations for washer dryer from building 5... "
       ]
      },
      {
       "output_type": "stream",
       "stream": "stdout",
       "text": [
        "max power = 0   mean = nan\n",
        "Loaded 0 activations.\n",
        "  Loading activations for microwave from building 5... "
       ]
      },
      {
       "output_type": "stream",
       "stream": "stdout",
       "text": [
        "max power = 0   mean = nan\n",
        "Loaded 0 activations.\n",
        "\n",
        "Done loading activations.\n"
       ]
      },
      {
       "output_type": "stream",
       "stream": "stderr",
       "text": [
        "/usr/local/lib/python2.7/dist-packages/numpy/core/_methods.py:59: RuntimeWarning: Mean of empty slice.\n",
        "  warnings.warn(\"Mean of empty slice.\", RuntimeWarning)\n"
       ]
      }
     ],
     "prompt_number": 2
    },
    {
     "cell_type": "code",
     "collapsed": false,
     "input": [
      "X, y = source._gen_data() # 804, 7, 43"
     ],
     "language": "python",
     "metadata": {},
     "outputs": [],
     "prompt_number": 3
    },
    {
     "cell_type": "code",
     "collapsed": false,
     "input": [
      "plt.plot(X[0,:,:])\n",
      "plt.show()"
     ],
     "language": "python",
     "metadata": {},
     "outputs": [],
     "prompt_number": 4
    },
    {
     "cell_type": "code",
     "collapsed": false,
     "input": [
      "X[0,:,:].shape"
     ],
     "language": "python",
     "metadata": {},
     "outputs": [
      {
       "metadata": {},
       "output_type": "pyout",
       "prompt_number": 5,
       "text": [
        "(4200, 1)"
       ]
      }
     ],
     "prompt_number": 5
    },
    {
     "cell_type": "code",
     "collapsed": false,
     "input": [
      "lines = plt.plot(y[0,:,:])\n",
      "plt.legend([label for label in source.train_activations.keys()])\n",
      "plt.show()"
     ],
     "language": "python",
     "metadata": {},
     "outputs": [],
     "prompt_number": 4
    },
    {
     "cell_type": "heading",
     "level": 1,
     "metadata": {},
     "source": [
      "Test SubsampleLayer"
     ]
    },
    {
     "cell_type": "code",
     "collapsed": false,
     "input": [
      "from neuralnilm.net import SubsampleLayer"
     ],
     "language": "python",
     "metadata": {},
     "outputs": [
      {
       "output_type": "stream",
       "stream": "stdout",
       "text": [
        "Couldn't import dot_parser, loading of dot files will not be possible.\n"
       ]
      }
     ],
     "prompt_number": 1
    },
    {
     "cell_type": "code",
     "collapsed": false,
     "input": [
      "sub = SubsampleLayer(None, 5)"
     ],
     "language": "python",
     "metadata": {},
     "outputs": [],
     "prompt_number": 3
    },
    {
     "cell_type": "code",
     "collapsed": false,
     "input": [
      "sub.input_shape = X.shape"
     ],
     "language": "python",
     "metadata": {},
     "outputs": [],
     "prompt_number": 7
    },
    {
     "cell_type": "code",
     "collapsed": false,
     "input": [
      "out = sub.get_output_for(X)"
     ],
     "language": "python",
     "metadata": {},
     "outputs": [],
     "prompt_number": 9
    },
    {
     "cell_type": "code",
     "collapsed": false,
     "input": [
      "out.shape"
     ],
     "language": "python",
     "metadata": {},
     "outputs": [
      {
       "metadata": {},
       "output_type": "pyout",
       "prompt_number": 10,
       "text": [
        "(5, 200, 1)"
       ]
      }
     ],
     "prompt_number": 10
    },
    {
     "cell_type": "code",
     "collapsed": false,
     "input": [
      "plt.plot(out[0,:,:])\n",
      "plt.show()"
     ],
     "language": "python",
     "metadata": {},
     "outputs": [],
     "prompt_number": 15
    },
    {
     "cell_type": "code",
     "collapsed": false,
     "input": [
      "from nilmtk import DataSet\n",
      "ds = DataSet('/data/mine/vadeec/merged/ukdale.h5')"
     ],
     "language": "python",
     "metadata": {},
     "outputs": [],
     "prompt_number": 11
    },
    {
     "cell_type": "code",
     "collapsed": false,
     "input": [
      "elec = ds.buildings[1].elec\n",
      "meter = elec['washer dryer']"
     ],
     "language": "python",
     "metadata": {},
     "outputs": [],
     "prompt_number": 12
    },
    {
     "cell_type": "code",
     "collapsed": false,
     "input": [
      "activations = meter.activation_series()"
     ],
     "language": "python",
     "metadata": {},
     "outputs": [],
     "prompt_number": 13
    },
    {
     "cell_type": "code",
     "collapsed": false,
     "input": [
      "activations[3].plot()\n",
      "plt.show()"
     ],
     "language": "python",
     "metadata": {},
     "outputs": [],
     "prompt_number": 18
    },
    {
     "cell_type": "code",
     "collapsed": false,
     "input": [],
     "language": "python",
     "metadata": {},
     "outputs": []
    }
   ],
   "metadata": {}
  }
 ]
}