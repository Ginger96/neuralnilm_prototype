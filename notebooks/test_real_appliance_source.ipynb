{
 "metadata": {
  "name": "",
  "signature": "sha256:3e0bc73a9a67caad112bcc0ac02c7b4eeaed4907f39ae346c745f202006e048c"
 },
 "nbformat": 3,
 "nbformat_minor": 0,
 "worksheets": [
  {
   "cells": [
    {
     "cell_type": "code",
     "collapsed": false,
     "input": [
      "from neuralnilm import RealApplianceSource\n",
      "import matplotlib.pyplot as plt"
     ],
     "language": "python",
     "metadata": {},
     "outputs": [],
     "prompt_number": 1
    },
    {
     "cell_type": "code",
     "collapsed": false,
     "input": [
      "source = RealApplianceSource(\n",
      "    filename='/data/mine/vadeec/merged/ukdale.h5', \n",
      "    appliances=[\n",
      "        ['fridge freezer', 'fridge', 'freezer'], \n",
      "         'kettle', \n",
      "         'dish washer',\n",
      "         ['washer dryer', 'washing machine'],\n",
      "         'microwave'\n",
      "        ],\n",
      "    max_appliance_powers=[300, 3000, 2500, 2400, 2000],\n",
      "    on_power_thresholds=[80, 200, 20, 600, 100],\n",
      "    min_on_durations=[60, 10, 300, 300, 10],\n",
      "    window=(\"2014-06-01\", \"2014-09-01\"),\n",
      "    seq_length=4000,\n",
      "    output_one_appliance=False,\n",
      "    boolean_targets=False,\n",
      "    min_off_duration=60,\n",
      "    subsample_target=5,\n",
      "    input_padding=200,\n",
      "    train_buildings=[1,2],\n",
      "    validation_buildings=[5]\n",
      "    #input_quantization_kwargs = dict(n_bins=10, range=(0,1))\n",
      "    #sample_period=15, seq_length=400\n",
      ")\n",
      "\n",
      "# TODO: figure out why the activations are so odd for washer dryer from house 1 (and other houses?)"
     ],
     "language": "python",
     "metadata": {},
     "outputs": [
      {
       "output_type": "stream",
       "stream": "stdout",
       "text": [
        "Loading training activations...\n",
        "  Loading activations for fridge freezer from building 1... "
       ]
      },
      {
       "output_type": "stream",
       "stream": "stdout",
       "text": [
        "Loaded 2620 activations.\n",
        "  Loading activations for kettle from building 1... "
       ]
      },
      {
       "output_type": "stream",
       "stream": "stdout",
       "text": [
        "Loaded 378 activations.\n",
        "  Loading activations for dish washer from building 1... "
       ]
      },
      {
       "output_type": "stream",
       "stream": "stdout",
       "text": [
        "Loaded 66 activations.\n",
        "  Loading activations for washer dryer from building 1... "
       ]
      },
      {
       "output_type": "stream",
       "stream": "stdout",
       "text": [
        "Loaded 93 activations.\n",
        "  Loading activations for microwave from building 1... "
       ]
      },
      {
       "output_type": "stream",
       "stream": "stdout",
       "text": [
        "Loaded 369 activations.\n",
        "  Loading activations for fridge from building 2... "
       ]
      },
      {
       "output_type": "stream",
       "stream": "stdout",
       "text": [
        "Loaded 0 activations.\n",
        "  Loading activations for kettle from building 2... "
       ]
      },
      {
       "output_type": "stream",
       "stream": "stdout",
       "text": [
        "Loaded 0 activations.\n",
        "  Loading activations for dish washer from building 2... "
       ]
      },
      {
       "output_type": "stream",
       "stream": "stdout",
       "text": [
        "Loaded 0 activations.\n",
        "  Loading activations for washing machine from building 2... "
       ]
      },
      {
       "output_type": "stream",
       "stream": "stdout",
       "text": [
        "Loaded 0 activations.\n",
        "  Loading activations for microwave from building 2... "
       ]
      },
      {
       "output_type": "stream",
       "stream": "stdout",
       "text": [
        "Loaded 0 activations.\n",
        "\n",
        "Loading validation activations...\n",
        "  Loading activations for fridge freezer from building 5... "
       ]
      },
      {
       "output_type": "stream",
       "stream": "stdout",
       "text": [
        "Loaded 1488 activations.\n",
        "  Loading activations for kettle from building 5... "
       ]
      },
      {
       "output_type": "stream",
       "stream": "stdout",
       "text": [
        "Loaded 174 activations.\n",
        "  Loading activations for dish washer from building 5... "
       ]
      },
      {
       "output_type": "stream",
       "stream": "stdout",
       "text": [
        "Loaded 24 activations.\n",
        "  Loading activations for washer dryer from building 5... "
       ]
      },
      {
       "output_type": "stream",
       "stream": "stdout",
       "text": [
        "Loaded 92 activations.\n",
        "  Loading activations for microwave from building 5... "
       ]
      },
      {
       "output_type": "stream",
       "stream": "stdout",
       "text": [
        "Loaded 31 activations.\n",
        "\n",
        "Done loading activations.\n"
       ]
      }
     ],
     "prompt_number": 2
    },
    {
     "cell_type": "code",
     "collapsed": false,
     "input": [
      "X, y = source._gen_data(validation=True) # 804, 7, 43"
     ],
     "language": "python",
     "metadata": {},
     "outputs": [],
     "prompt_number": 15
    },
    {
     "cell_type": "code",
     "collapsed": false,
     "input": [
      "plt.plot(X[0,:,:])\n",
      "plt.show()"
     ],
     "language": "python",
     "metadata": {},
     "outputs": [],
     "prompt_number": 16
    },
    {
     "cell_type": "code",
     "collapsed": false,
     "input": [
      "lines = plt.plot(y[0,:,:])\n",
      "plt.legend([label for label in source.train_activations.keys()])\n",
      "plt.show()"
     ],
     "language": "python",
     "metadata": {},
     "outputs": [],
     "prompt_number": 17
    },
    {
     "cell_type": "heading",
     "level": 1,
     "metadata": {},
     "source": [
      "Test SubsampleLayer"
     ]
    },
    {
     "cell_type": "code",
     "collapsed": false,
     "input": [
      "from neuralnilm.net import SubsampleLayer"
     ],
     "language": "python",
     "metadata": {},
     "outputs": [
      {
       "output_type": "stream",
       "stream": "stdout",
       "text": [
        "Couldn't import dot_parser, loading of dot files will not be possible.\n"
       ]
      }
     ],
     "prompt_number": 1
    },
    {
     "cell_type": "code",
     "collapsed": false,
     "input": [
      "sub = SubsampleLayer(None, 5)"
     ],
     "language": "python",
     "metadata": {},
     "outputs": [],
     "prompt_number": 3
    },
    {
     "cell_type": "code",
     "collapsed": false,
     "input": [
      "sub.input_shape = X.shape"
     ],
     "language": "python",
     "metadata": {},
     "outputs": [],
     "prompt_number": 7
    },
    {
     "cell_type": "code",
     "collapsed": false,
     "input": [
      "out = sub.get_output_for(X)"
     ],
     "language": "python",
     "metadata": {},
     "outputs": [],
     "prompt_number": 9
    },
    {
     "cell_type": "code",
     "collapsed": false,
     "input": [
      "out.shape"
     ],
     "language": "python",
     "metadata": {},
     "outputs": [
      {
       "metadata": {},
       "output_type": "pyout",
       "prompt_number": 10,
       "text": [
        "(5, 200, 1)"
       ]
      }
     ],
     "prompt_number": 10
    },
    {
     "cell_type": "code",
     "collapsed": false,
     "input": [
      "plt.plot(out[0,:,:])\n",
      "plt.show()"
     ],
     "language": "python",
     "metadata": {},
     "outputs": [],
     "prompt_number": 15
    },
    {
     "cell_type": "code",
     "collapsed": false,
     "input": [
      "from nilmtk import DataSet\n",
      "ds = DataSet('/data/mine/vadeec/merged/ukdale.h5')"
     ],
     "language": "python",
     "metadata": {},
     "outputs": [],
     "prompt_number": 11
    },
    {
     "cell_type": "code",
     "collapsed": false,
     "input": [
      "elec = ds.buildings[1].elec\n",
      "meter = elec['washer dryer']"
     ],
     "language": "python",
     "metadata": {},
     "outputs": [],
     "prompt_number": 12
    },
    {
     "cell_type": "code",
     "collapsed": false,
     "input": [
      "activations = meter.activation_series()"
     ],
     "language": "python",
     "metadata": {},
     "outputs": [],
     "prompt_number": 13
    },
    {
     "cell_type": "code",
     "collapsed": false,
     "input": [
      "activations[3].plot()\n",
      "plt.show()"
     ],
     "language": "python",
     "metadata": {},
     "outputs": [],
     "prompt_number": 18
    },
    {
     "cell_type": "code",
     "collapsed": false,
     "input": [],
     "language": "python",
     "metadata": {},
     "outputs": []
    }
   ],
   "metadata": {}
  }
 ]
}