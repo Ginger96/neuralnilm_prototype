{
 "metadata": {
  "name": "",
  "signature": "sha256:3062724b9b056471bbf70003b367b67d97b59967799072b7e78ea138a99ab732"
 },
 "nbformat": 3,
 "nbformat_minor": 0,
 "worksheets": [
  {
   "cells": [
    {
     "cell_type": "code",
     "collapsed": false,
     "input": [
      "from neuralnilm import RealApplianceSource"
     ],
     "language": "python",
     "metadata": {},
     "outputs": [
      {
       "output_type": "stream",
       "stream": "stdout",
       "text": [
        "Couldn't import dot_parser, loading of dot files will not be possible.\n"
       ]
      }
     ],
     "prompt_number": 1
    },
    {
     "cell_type": "code",
     "collapsed": false,
     "input": [
      "source = RealApplianceSource(\n",
      "    '/data/mine/vadeec/merged/ukdale.h5', \n",
      "    ['fridge freezer', 'hair straighteners', 'television'],\n",
      "    max_input_power=1000, max_appliance_powers=[300, 500, 200],\n",
      "    window=(\"2013-06-01\", \"2013-07-01\"),\n",
      "    output_one_appliance=False,\n",
      "    sample_period=15, seq_length=400\n",
      ")"
     ],
     "language": "python",
     "metadata": {},
     "outputs": [
      {
       "output_type": "stream",
       "stream": "stdout",
       "text": [
        "Loading activations for fridge freezer... "
       ]
      },
      {
       "output_type": "stream",
       "stream": "stdout",
       "text": [
        "Loaded 805 activations.\n",
        "Loading activations for hair straighteners... "
       ]
      },
      {
       "output_type": "stream",
       "stream": "stdout",
       "text": [
        "Loaded 7 activations.\n",
        "Loading activations for television... "
       ]
      },
      {
       "output_type": "stream",
       "stream": "stdout",
       "text": [
        "Loaded 46 activations.\n"
       ]
      }
     ],
     "prompt_number": 12
    },
    {
     "cell_type": "code",
     "collapsed": false,
     "input": [
      "X, y = source._gen_data()"
     ],
     "language": "python",
     "metadata": {},
     "outputs": [],
     "prompt_number": 13
    },
    {
     "cell_type": "code",
     "collapsed": false,
     "input": [
      "import matplotlib.pyplot as plt\n",
      "plt.plot(X[0,:,:])\n",
      "plt.show()\n"
     ],
     "language": "python",
     "metadata": {},
     "outputs": [],
     "prompt_number": 14
    },
    {
     "cell_type": "code",
     "collapsed": false,
     "input": [
      "plt.plot(y[0,:,:])\n",
      "plt.show()"
     ],
     "language": "python",
     "metadata": {},
     "outputs": [],
     "prompt_number": 15
    },
    {
     "cell_type": "code",
     "collapsed": false,
     "input": [],
     "language": "python",
     "metadata": {},
     "outputs": []
    }
   ],
   "metadata": {}
  }
 ]
}