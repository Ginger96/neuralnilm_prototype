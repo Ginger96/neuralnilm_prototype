{
 "cells": [
  {
   "cell_type": "code",
   "execution_count": 1,
   "metadata": {
    "collapsed": false
   },
   "outputs": [
    {
     "name": "stderr",
     "output_type": "stream",
     "text": [
      "/home/dk3810/workspace/python/Lasagne/lasagne/init.py:86: UserWarning: The uniform initializer no longer uses Glorot et al.'s approach to determine the bounds, but defaults to the range (-0.01, 0.01) instead. Please use the new GlorotUniform initializer to get the old behavior. GlorotUniform is now the default for all layers.\n",
      "  warnings.warn(\"The uniform initializer no longer uses Glorot et al.'s \"\n"
     ]
    }
   ],
   "source": [
    "from neuralnilm.source import RealApplianceSource, MultiSource, SameLocation\n",
    "import matplotlib.pyplot as plt\n",
    "import numpy as np\n",
    "import logging"
   ]
  },
  {
   "cell_type": "code",
   "execution_count": 2,
   "metadata": {
    "collapsed": false
   },
   "outputs": [],
   "source": [
    "MAX_TARGET_POWER = 300\n",
    "\n",
    "TARGET_APPLIANCE = ['fridge freezer', 'fridge', 'freezer']\n",
    "\n",
    "SEQ_LENGTH = 512\n",
    "TRAIN_BUILDINGS = [1, 2, 3, 4]\n",
    "VALIDATION_BUILDINGS = [5]\n",
    "N_SEQ_PER_BATCH = 8\n",
    "SKIP_PROBABILITY_FOR_TARGET = 0.5\n",
    "\n",
    "\"\"\"\n",
    "WINDOW_PER_BUILDING = {\n",
    "    1: (\"2013-04-12\", \"2013-04-18\"),\n",
    "    2: (\"2013-05-22\", \"2013-06-01\"),\n",
    "    3: (\"2013-02-27\", \"2013-03-10\"),\n",
    "    4: (\"2013-03-09\", \"2013-04-01\"),\n",
    "    5: (\"2014-06-29\", \"2014-07-10\")\n",
    "}\n",
    "\"\"\"\n",
    "\n",
    "WINDOW_PER_BUILDING = {\n",
    "    1: (\"2012-12-15\", \"2014-12-01\"),\n",
    "    2: (\"2013-05-22\", \"2013-10-01\"),\n",
    "    3: (\"2013-02-27\", \"2013-04-01\"),\n",
    "    4: (\"2013-03-09\", \"2013-09-20\"),\n",
    "    5: (\"2014-06-29\", \"2014-08-27\")\n",
    "}\n",
    "\n",
    "\n",
    "INPUT_STATS = {\n",
    "    'mean': np.array([ 297.87216187], dtype=np.float32),\n",
    "    'std': np.array([ 374.43884277], dtype=np.float32)\n",
    "}"
   ]
  },
  {
   "cell_type": "code",
   "execution_count": 3,
   "metadata": {
    "collapsed": true
   },
   "outputs": [],
   "source": [
    "logger = logging.getLogger('test')\n",
    "logger.setLevel(logging.DEBUG)"
   ]
  },
  {
   "cell_type": "code",
   "execution_count": 4,
   "metadata": {
    "collapsed": false
   },
   "outputs": [
    {
     "name": "stderr",
     "output_type": "stream",
     "text": [
      "INFO:test:Loading training activations...\n",
      "INFO:test:Setting window for building 1 to (start=2012-12-15, end=2014-12-01)\n",
      "INFO:test:  Loading activations for fridge freezer from building 1...\n",
      "INFO:test:    Loaded 18497 activations.\n",
      "INFO:test:  Loading activations for washer dryer from building 1...\n",
      "INFO:test:    Loaded 561 activations.\n",
      "INFO:test:  Loading activations for dish washer from building 1...\n",
      "INFO:test:    Loaded 226 activations.\n",
      "INFO:test:  Loading activations for kettle from building 1...\n",
      "INFO:test:    Loaded 3355 activations.\n",
      "INFO:test:  Loading activations for microwave from building 1...\n",
      "INFO:test:    Loaded 3929 activations.\n",
      "INFO:test:Setting window for building 2 to (start=2013-05-22, end=2013-10-01)\n",
      "INFO:test:  Loading activations for fridge freezer from building 2...\n",
      "INFO:test:    Loaded 4 activations.\n",
      "INFO:test:  Loading activations for washer dryer from building 2...\n",
      "INFO:test:    Loaded 50 activations.\n",
      "INFO:test:  Loading activations for dish washer from building 2...\n",
      "INFO:test:    Loaded 96 activations.\n",
      "INFO:test:  Loading activations for kettle from building 2...\n",
      "INFO:test:    Loaded 539 activations.\n",
      "INFO:test:  Loading activations for microwave from building 2...\n",
      "INFO:test:    Loaded 477 activations.\n",
      "INFO:test:Setting window for building 3 to (start=2013-02-27, end=2013-04-01)\n",
      "INFO:test:  No appliance matching ['fridge freezer', 'fridge', 'freezer'] in building 3.\n",
      "INFO:test:  No appliance matching ['washer dryer', 'washing machine'] in building 3.\n",
      "INFO:test:  No appliance matching ['dish washer'] in building 3.\n",
      "INFO:test:  No appliance matching ['microwave'] in building 3.\n",
      "INFO:test:  Loading activations for fridge freezer from building 3...\n",
      "INFO:test:    Loaded 36 activations.\n",
      "INFO:test:Setting window for building 4 to (start=2013-03-09, end=2013-09-20)\n",
      "INFO:test:  No appliance matching ['dish washer'] in building 4.\n",
      "INFO:test:  Loading activations for fridge freezer from building 4...\n",
      "INFO:test:    Loaded 4591 activations.\n",
      "INFO:test:  Loading activations for washer dryer from building 4...\n",
      "INFO:test:    Loaded 87 activations.\n",
      "INFO:test:  Loading activations for dish washer from building 4...\n",
      "INFO:test:    Loaded 13 activations.\n",
      "INFO:test:  Loading activations for kettle from building 4...\n",
      "INFO:test:    Loaded 1475 activations.\n",
      "INFO:test:Loading validation activations...\n",
      "INFO:test:Setting window for building 5 to (start=2014-06-29, end=2014-08-27)\n",
      "INFO:test:  Loading activations for fridge freezer from building 5...\n",
      "INFO:test:    Loaded 1398 activations.\n",
      "INFO:test:  Loading activations for washer dryer from building 5...\n",
      "INFO:test:    Loaded 6 activations.\n",
      "INFO:test:  Loading activations for dish washer from building 5...\n",
      "INFO:test:    Loaded 20 activations.\n",
      "INFO:test:  Loading activations for kettle from building 5...\n",
      "INFO:test:    Loaded 195 activations.\n",
      "INFO:test:  Loading activations for microwave from building 5...\n",
      "INFO:test:    Loaded 0 activations.\n",
      "INFO:test:Done loading activations.\n"
     ]
    }
   ],
   "source": [
    "real_appliance_source1 = RealApplianceSource(\n",
    "    logger=logger,\n",
    "    filename='/data/mine/vadeec/merged/ukdale.h5',\n",
    "    appliances=[\n",
    "        TARGET_APPLIANCE,\n",
    "        ['washer dryer', 'washing machine'],\n",
    "        'dish washer',\n",
    "        'kettle',\n",
    "        'microwave'\n",
    "    ],\n",
    "    max_appliance_powers=[MAX_TARGET_POWER, 2400, 2500, 2600, 1500],\n",
    "    on_power_thresholds=[5] * 5,\n",
    "    min_on_durations=[60, 1800, 1800, 12, 12],\n",
    "    min_off_durations=[12, 600, 1800, 12, 12],\n",
    "    divide_input_by_max_input_power=False,\n",
    "    window_per_building=WINDOW_PER_BUILDING,\n",
    "    seq_length=SEQ_LENGTH,\n",
    "    output_one_appliance=True,\n",
    "    train_buildings=TRAIN_BUILDINGS,\n",
    "    validation_buildings=VALIDATION_BUILDINGS,\n",
    "    n_seq_per_batch=N_SEQ_PER_BATCH,\n",
    "    skip_probability=0.75,\n",
    "    skip_probability_for_first_appliance=SKIP_PROBABILITY_FOR_TARGET,\n",
    "    target_is_start_and_end_and_mean=True,\n",
    "    standardise_input=True,\n",
    "    input_stats=INPUT_STATS\n",
    ")"
   ]
  },
  {
   "cell_type": "code",
   "execution_count": 5,
   "metadata": {
    "collapsed": false
   },
   "outputs": [
    {
     "name": "stderr",
     "output_type": "stream",
     "text": [
      "INFO:test:Setting window for building 1 to (start=2012-12-15, end=2014-12-01)\n",
      "INFO:test:Loaded 18307 fridge freezer activations from house 1.\n",
      "INFO:test:Setting window for building 2 to (start=2013-05-22, end=2013-10-01)\n",
      "INFO:test:Loaded 3436 fridge activations from house 2.\n",
      "INFO:test:Setting window for building 3 to (start=2013-02-27, end=2013-04-01)\n",
      "INFO:test:Building 3 has no ['fridge freezer', 'fridge', 'freezer']\n",
      "INFO:test:Removing building 3 from validation_buildings and train_buildings.\n",
      "INFO:test:Setting window for building 4 to (start=2013-03-09, end=2013-09-20)\n",
      "INFO:test:Loaded 4592 freezer activations from house 4.\n",
      "INFO:test:Setting window for building 5 to (start=2014-06-29, end=2014-08-27)\n",
      "INFO:test:Loaded 1376 fridge freezer activations from house 5.\n",
      "INFO:test:Loading mains data for building 1...\n",
      "INFO:test:  Setting window for building 1 to (start=2012-12-15, end=2014-12-01)\n",
      "INFO:test:  Loaded mains data for building 1.\n",
      "INFO:test:Mains starts after activation 1726 so will remove previous activations.\n",
      "INFO:test:Loading mains data for building 2...\n",
      "INFO:test:  Setting window for building 2 to (start=2013-05-22, end=2013-10-01)\n",
      "INFO:test:  Loaded mains data for building 2.\n",
      "INFO:test:Loading mains data for building 4...\n",
      "INFO:test:  Setting window for building 4 to (start=2013-03-09, end=2013-09-20)\n",
      "INFO:test:  Loaded mains data for building 4.\n",
      "INFO:test:Loading mains data for building 5...\n",
      "INFO:test:  Setting window for building 5 to (start=2014-06-29, end=2014-08-27)\n",
      "INFO:test:  Loaded mains data for building 5.\n"
     ]
    }
   ],
   "source": [
    "same_location_source1 = SameLocation(\n",
    "    logger=logger,\n",
    "    filename='/data/mine/vadeec/merged/ukdale.h5',\n",
    "    target_appliance=TARGET_APPLIANCE,\n",
    "    window_per_building=WINDOW_PER_BUILDING,\n",
    "    seq_length=SEQ_LENGTH,\n",
    "    train_buildings=TRAIN_BUILDINGS,\n",
    "    validation_buildings=VALIDATION_BUILDINGS,\n",
    "    n_seq_per_batch=N_SEQ_PER_BATCH,\n",
    "    skip_probability=SKIP_PROBABILITY_FOR_TARGET,\n",
    "    target_is_start_and_end_and_mean=True,\n",
    "    standardise_input=True,\n",
    "    offset_probability=1,\n",
    "    divide_target_by=MAX_TARGET_POWER,\n",
    "    input_stats=INPUT_STATS\n",
    ")"
   ]
  },
  {
   "cell_type": "code",
   "execution_count": 6,
   "metadata": {
    "collapsed": false
   },
   "outputs": [],
   "source": [
    "multi_source = MultiSource(\n",
    "    sources=[\n",
    "        {\n",
    "            'source': real_appliance_source1,\n",
    "            'train_probability': 0.5,\n",
    "            'validation_probability': 0\n",
    "        },\n",
    "        {\n",
    "            'source': same_location_source1,\n",
    "            'train_probability': 0.5,\n",
    "            'validation_probability': 1\n",
    "        }\n",
    "    ],\n",
    "    standardisation_source=same_location_source1\n",
    ")"
   ]
  },
  {
   "cell_type": "code",
   "execution_count": 12,
   "metadata": {
    "collapsed": false
   },
   "outputs": [
    {
     "name": "stdout",
     "output_type": "stream",
     "text": [
      "(8, 512, 1)\n",
      "(8, 3, 1)\n",
      "[ 0.54882812  0.92382812  0.29644096]\n",
      "source_i = 0\n"
     ]
    }
   ],
   "source": [
    "batch = multi_source.get_batch()\n",
    "#same_location_source1.skip_probability=0\n",
    "#batch = same_location_source1.get_batch(validation=True)\n",
    "#batch = real_appliance_source1.get_batch(validation=True)\n",
    "X, y = batch.data\n",
    "print(X.shape)\n",
    "print(y.shape)\n",
    "print(y[0, :, 0])\n",
    "print(\"source_i =\", batch.source_i)\n",
    "fig, axes = plt.subplots(2, sharex=True)\n",
    "axes[0].plot(X[0, :, 0])\n",
    "axes[1].plot(batch.target_power_timeseries[0, :, 0])\n",
    "plt.show()"
   ]
  },
  {
   "cell_type": "code",
   "execution_count": null,
   "metadata": {
    "collapsed": true
   },
   "outputs": [],
   "source": []
  },
  {
   "cell_type": "code",
   "execution_count": null,
   "metadata": {
    "collapsed": true
   },
   "outputs": [],
   "source": []
  }
 ],
 "metadata": {
  "kernelspec": {
   "display_name": "Python 2",
   "language": "python",
   "name": "python2"
  },
  "language_info": {
   "codemirror_mode": {
    "name": "ipython",
    "version": 2
   },
   "file_extension": ".py",
   "mimetype": "text/x-python",
   "name": "python",
   "nbconvert_exporter": "python",
   "pygments_lexer": "ipython2",
   "version": "2.7.9"
  }
 },
 "nbformat": 4,
 "nbformat_minor": 0
}
