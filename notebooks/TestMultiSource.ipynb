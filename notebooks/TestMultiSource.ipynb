{
 "cells": [
  {
   "cell_type": "code",
   "execution_count": 1,
   "metadata": {
    "collapsed": false
   },
   "outputs": [
    {
     "name": "stderr",
     "output_type": "stream",
     "text": [
      "/home/jack/workspace/python/nntools/lasagne/init.py:86: UserWarning: The uniform initializer no longer uses Glorot et al.'s approach to determine the bounds, but defaults to the range (-0.01, 0.01) instead. Please use the new GlorotUniform initializer to get the old behavior. GlorotUniform is now the default for all layers.\n",
      "  warnings.warn(\"The uniform initializer no longer uses Glorot et al.'s \"\n"
     ]
    }
   ],
   "source": [
    "from neuralnilm.source import RealApplianceSource, MultiSource\n",
    "import matplotlib.pyplot as plt\n",
    "import numpy as np"
   ]
  },
  {
   "cell_type": "code",
   "execution_count": 2,
   "metadata": {
    "collapsed": false
   },
   "outputs": [
    {
     "name": "stdout",
     "output_type": "stream",
     "text": [
      "Loading training activations...\n"
     ]
    },
    {
     "name": "stderr",
     "output_type": "stream",
     "text": [
      "INFO:neuralnilm.source:Loading training activations...\n"
     ]
    },
    {
     "name": "stdout",
     "output_type": "stream",
     "text": [
      "  Loading activations for fridge freezer from building 1...\n"
     ]
    },
    {
     "name": "stderr",
     "output_type": "stream",
     "text": [
      "INFO:neuralnilm.source:  Loading activations for fridge freezer from building 1...\n"
     ]
    },
    {
     "name": "stdout",
     "output_type": "stream",
     "text": [
      "Loaded 760 activations.\n"
     ]
    },
    {
     "name": "stderr",
     "output_type": "stream",
     "text": [
      "INFO:neuralnilm.source:Loaded 760 activations.\n"
     ]
    },
    {
     "name": "stdout",
     "output_type": "stream",
     "text": [
      "  Loading activations for washer dryer from building 1...\n"
     ]
    },
    {
     "name": "stderr",
     "output_type": "stream",
     "text": [
      "INFO:neuralnilm.source:  Loading activations for washer dryer from building 1...\n"
     ]
    },
    {
     "name": "stdout",
     "output_type": "stream",
     "text": [
      "Loaded 22 activations.\n"
     ]
    },
    {
     "name": "stderr",
     "output_type": "stream",
     "text": [
      "INFO:neuralnilm.source:Loaded 22 activations.\n"
     ]
    },
    {
     "name": "stdout",
     "output_type": "stream",
     "text": [
      "  Loading activations for hair straighteners from building 1...\n"
     ]
    },
    {
     "name": "stderr",
     "output_type": "stream",
     "text": [
      "INFO:neuralnilm.source:  Loading activations for hair straighteners from building 1...\n"
     ]
    },
    {
     "name": "stdout",
     "output_type": "stream",
     "text": [
      "Loaded 16 activations.\n"
     ]
    },
    {
     "name": "stderr",
     "output_type": "stream",
     "text": [
      "INFO:neuralnilm.source:Loaded 16 activations.\n"
     ]
    },
    {
     "name": "stdout",
     "output_type": "stream",
     "text": [
      "  Loading activations for television from building 1...\n"
     ]
    },
    {
     "name": "stderr",
     "output_type": "stream",
     "text": [
      "INFO:neuralnilm.source:  Loading activations for television from building 1...\n"
     ]
    },
    {
     "name": "stdout",
     "output_type": "stream",
     "text": [
      "Loaded 52 activations.\n"
     ]
    },
    {
     "name": "stderr",
     "output_type": "stream",
     "text": [
      "INFO:neuralnilm.source:Loaded 52 activations.\n"
     ]
    },
    {
     "name": "stdout",
     "output_type": "stream",
     "text": [
      "  Loading activations for dish washer from building 1...\n"
     ]
    },
    {
     "name": "stderr",
     "output_type": "stream",
     "text": [
      "INFO:neuralnilm.source:  Loading activations for dish washer from building 1...\n"
     ]
    },
    {
     "name": "stdout",
     "output_type": "stream",
     "text": [
      "Loaded 11 activations.\n"
     ]
    },
    {
     "name": "stderr",
     "output_type": "stream",
     "text": [
      "INFO:neuralnilm.source:Loaded 11 activations.\n"
     ]
    },
    {
     "name": "stdout",
     "output_type": "stream",
     "text": [
      "Done loading activations.\n"
     ]
    },
    {
     "name": "stderr",
     "output_type": "stream",
     "text": [
      "INFO:neuralnilm.source:Done loading activations.\n"
     ]
    }
   ],
   "source": [
    "real_appliance_source1 = RealApplianceSource(\n",
    "    filename='/data/mine/vadeec/merged/ukdale.h5',\n",
    "    appliances=[\n",
    "        ['fridge freezer', 'fridge', 'freezer'],\n",
    "        ['washer dryer', 'washing machine'],\n",
    "        'hair straighteners',\n",
    "        'television',\n",
    "        'dish washer'\n",
    "    ],\n",
    "    max_appliance_powers=[300, 2400, 500, 200, 2500],\n",
    "    on_power_thresholds=[5] * 5,\n",
    "    min_on_durations=[60, 1800, 60, 60, 1800],\n",
    "    min_off_durations=[12, 600, 12, 12, 1800],\n",
    "    window=(\"2013-03-18\", \"2013-04-18\"),\n",
    "    seq_length=512,\n",
    "    output_one_appliance=True,\n",
    "    train_buildings=[1],\n",
    "    validation_buildings=[1],\n",
    "    n_seq_per_batch=8,\n",
    "    skip_probability=0.75,\n",
    "    skip_probability_for_first_appliance=0.5,\n",
    "    target_is_start_and_end_and_mean=True\n",
    ")"
   ]
  },
  {
   "cell_type": "code",
   "execution_count": 3,
   "metadata": {
    "collapsed": false
   },
   "outputs": [
    {
     "name": "stdout",
     "output_type": "stream",
     "text": [
      "Loading training activations...\n"
     ]
    },
    {
     "name": "stderr",
     "output_type": "stream",
     "text": [
      "INFO:neuralnilm.source:Loading training activations...\n"
     ]
    },
    {
     "name": "stdout",
     "output_type": "stream",
     "text": [
      "  Loading activations for fridge freezer from building 1...\n"
     ]
    },
    {
     "name": "stderr",
     "output_type": "stream",
     "text": [
      "INFO:neuralnilm.source:  Loading activations for fridge freezer from building 1...\n"
     ]
    },
    {
     "name": "stdout",
     "output_type": "stream",
     "text": [
      "Loaded 763 activations.\n"
     ]
    },
    {
     "name": "stderr",
     "output_type": "stream",
     "text": [
      "INFO:neuralnilm.source:Loaded 763 activations.\n"
     ]
    },
    {
     "name": "stdout",
     "output_type": "stream",
     "text": [
      "  Loading activations for washer dryer from building 1...\n"
     ]
    },
    {
     "name": "stderr",
     "output_type": "stream",
     "text": [
      "INFO:neuralnilm.source:  Loading activations for washer dryer from building 1...\n"
     ]
    },
    {
     "name": "stdout",
     "output_type": "stream",
     "text": [
      "Loaded 17 activations.\n"
     ]
    },
    {
     "name": "stderr",
     "output_type": "stream",
     "text": [
      "INFO:neuralnilm.source:Loaded 17 activations.\n"
     ]
    },
    {
     "name": "stdout",
     "output_type": "stream",
     "text": [
      "  Loading activations for hair straighteners from building 1...\n"
     ]
    },
    {
     "name": "stderr",
     "output_type": "stream",
     "text": [
      "INFO:neuralnilm.source:  Loading activations for hair straighteners from building 1...\n"
     ]
    },
    {
     "name": "stdout",
     "output_type": "stream",
     "text": [
      "Loaded 22 activations.\n"
     ]
    },
    {
     "name": "stderr",
     "output_type": "stream",
     "text": [
      "INFO:neuralnilm.source:Loaded 22 activations.\n"
     ]
    },
    {
     "name": "stdout",
     "output_type": "stream",
     "text": [
      "  Loading activations for television from building 1...\n"
     ]
    },
    {
     "name": "stderr",
     "output_type": "stream",
     "text": [
      "INFO:neuralnilm.source:  Loading activations for television from building 1...\n"
     ]
    },
    {
     "name": "stdout",
     "output_type": "stream",
     "text": [
      "Loaded 53 activations.\n"
     ]
    },
    {
     "name": "stderr",
     "output_type": "stream",
     "text": [
      "INFO:neuralnilm.source:Loaded 53 activations.\n"
     ]
    },
    {
     "name": "stdout",
     "output_type": "stream",
     "text": [
      "  Loading activations for dish washer from building 1...\n"
     ]
    },
    {
     "name": "stderr",
     "output_type": "stream",
     "text": [
      "INFO:neuralnilm.source:  Loading activations for dish washer from building 1...\n"
     ]
    },
    {
     "name": "stdout",
     "output_type": "stream",
     "text": [
      "Loaded 8 activations.\n"
     ]
    },
    {
     "name": "stderr",
     "output_type": "stream",
     "text": [
      "INFO:neuralnilm.source:Loaded 8 activations.\n"
     ]
    },
    {
     "name": "stdout",
     "output_type": "stream",
     "text": [
      "Done loading activations.\n"
     ]
    },
    {
     "name": "stderr",
     "output_type": "stream",
     "text": [
      "INFO:neuralnilm.source:Done loading activations.\n"
     ]
    }
   ],
   "source": [
    "real_appliance_source2 = RealApplianceSource(\n",
    "    filename='/data/mine/vadeec/merged/ukdale.h5',\n",
    "    appliances=[\n",
    "        ['fridge freezer', 'fridge', 'freezer'],\n",
    "        ['washer dryer', 'washing machine'],\n",
    "        'hair straighteners',\n",
    "        'television',\n",
    "        'dish washer'\n",
    "    ],\n",
    "    max_appliance_powers=[300, 2400, 500, 200, 2500],\n",
    "    on_power_thresholds=[5] * 5,\n",
    "    min_on_durations=[60, 1800, 60, 60, 1800],\n",
    "    min_off_durations=[12, 600, 12, 12, 1800],\n",
    "    window=(\"2013-04-18\", \"2013-05-18\"),\n",
    "    seq_length=512,\n",
    "    output_one_appliance=True,\n",
    "    train_buildings=[1],\n",
    "    validation_buildings=[1],\n",
    "    n_seq_per_batch=8,\n",
    "    skip_probability=0.75,\n",
    "    skip_probability_for_first_appliance=0.5,\n",
    "    target_is_start_and_end_and_mean=True\n",
    ")"
   ]
  },
  {
   "cell_type": "code",
   "execution_count": 4,
   "metadata": {
    "collapsed": false
   },
   "outputs": [],
   "source": [
    "multi_source = MultiSource(\n",
    "    sources=[\n",
    "        {\n",
    "            'source': real_appliance_source1,\n",
    "            'train_probability': 0.5,\n",
    "            'validation_probability': 0.5\n",
    "        },\n",
    "        {\n",
    "            'source': real_appliance_source2,\n",
    "            'train_probability': 0.5,\n",
    "            'validation_probability': 0.5\n",
    "        }\n",
    "    ],\n",
    "    standardisation_source=real_appliance_source1,\n",
    "    seq_length=512,\n",
    "    n_seq_per_batch=8,\n",
    "    n_inputs=1,\n",
    "    n_outputs=1\n",
    ")"
   ]
  },
  {
   "cell_type": "code",
   "execution_count": 7,
   "metadata": {
    "collapsed": false
   },
   "outputs": [],
   "source": [
    "batch = multi_source.get_batch()"
   ]
  },
  {
   "cell_type": "code",
   "execution_count": null,
   "metadata": {
    "collapsed": true
   },
   "outputs": [],
   "source": []
  }
 ],
 "metadata": {
  "kernelspec": {
   "display_name": "Python 2",
   "language": "python",
   "name": "python2"
  },
  "language_info": {
   "codemirror_mode": {
    "name": "ipython",
    "version": 2
   },
   "file_extension": ".py",
   "mimetype": "text/x-python",
   "name": "python",
   "nbconvert_exporter": "python",
   "pygments_lexer": "ipython2",
   "version": "2.7.9"
  }
 },
 "nbformat": 4,
 "nbformat_minor": 0
}
