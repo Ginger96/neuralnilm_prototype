{
 "metadata": {
  "name": "",
  "signature": "sha256:2f1329449b4496900b9786c592b83c613b6a30c56af1b4a2fb56bd003ddfdfa3"
 },
 "nbformat": 3,
 "nbformat_minor": 0,
 "worksheets": [
  {
   "cells": [
    {
     "cell_type": "code",
     "collapsed": false,
     "input": [
      "from __future__ import print_function, division\n",
      "from neuralnilm import RealApplianceSource\n",
      "import matplotlib.pyplot as plt\n",
      "import numpy as np"
     ],
     "language": "python",
     "metadata": {},
     "outputs": [
      {
       "output_type": "stream",
       "stream": "stdout",
       "text": [
        "Couldn't import dot_parser, loading of dot files will not be possible.\n"
       ]
      }
     ],
     "prompt_number": 3
    },
    {
     "cell_type": "code",
     "collapsed": false,
     "input": [
      "source = RealApplianceSource(\n",
      "    filename='/data/mine/vadeec/merged/ukdale.h5',\n",
      "    appliances=[\n",
      "        ['fridge freezer', 'fridge', 'freezer'], \n",
      "        'hair straighteners', \n",
      "        'television',\n",
      "        'dish washer',\n",
      "        ['washer dryer', 'washing machine']\n",
      "    ],\n",
      "    max_appliance_powers=[300, 500, 200, 2500, 2400],\n",
      "    n_seq_per_batch=2,\n",
      "    max_input_power=5900,\n",
      "    on_power_thresholds=[20, 20, 20, 20, 10],\n",
      "    min_on_durations=[60, 60, 60, 1800, 1800],\n",
      "    window=(\"2013-06-01\", \"2013-07-01\"),\n",
      "    seq_length=1500,\n",
      "    output_one_appliance=False,\n",
      "    boolean_targets=False,\n",
      "    min_off_durations=[60] * 5,\n",
      "    subsample_target=5,\n",
      "    train_buildings=[1],\n",
      "    validation_buildings=[1],\n",
      "    skip_probability=0.7\n",
      ")"
     ],
     "language": "python",
     "metadata": {},
     "outputs": [
      {
       "output_type": "stream",
       "stream": "stdout",
       "text": [
        "Loading training activations...\n",
        "  Loading activations for fridge freezer from building 1... "
       ]
      },
      {
       "output_type": "stream",
       "stream": "stdout",
       "text": [
        "Loaded 803 activations.\n",
        "  Loading activations for hair straighteners from building 1... "
       ]
      },
      {
       "output_type": "stream",
       "stream": "stdout",
       "text": [
        "Loaded 7 activations.\n",
        "  Loading activations for television from building 1... "
       ]
      },
      {
       "output_type": "stream",
       "stream": "stdout",
       "text": [
        "Loaded 41 activations.\n",
        "  Loading activations for dish washer from building 1... "
       ]
      },
      {
       "output_type": "stream",
       "stream": "stdout",
       "text": [
        "Loaded 7 activations.\n",
        "  Loading activations for washer dryer from building 1... "
       ]
      },
      {
       "output_type": "stream",
       "stream": "stdout",
       "text": [
        "Loaded 22 activations.\n",
        "\n",
        "Done loading activations.\n"
       ]
      }
     ],
     "prompt_number": 91
    },
    {
     "cell_type": "code",
     "collapsed": false,
     "input": [
      "X, y = source._gen_data()"
     ],
     "language": "python",
     "metadata": {},
     "outputs": [],
     "prompt_number": 92
    },
    {
     "cell_type": "code",
     "collapsed": false,
     "input": [
      "def cost(x, t):\n",
      "    return (x - t) ** 2"
     ],
     "language": "python",
     "metadata": {},
     "outputs": [],
     "prompt_number": 93
    },
    {
     "cell_type": "code",
     "collapsed": false,
     "input": [
      "t = y\n",
      "noise = np.random.randn(*y.shape) * 0.1\n",
      "x = t + noise\n",
      "raw_cost = (x - t) ** 2"
     ],
     "language": "python",
     "metadata": {},
     "outputs": [],
     "prompt_number": 94
    },
    {
     "cell_type": "code",
     "collapsed": false,
     "input": [
      "sum_over_sequences = t.sum(axis=1)\n",
      "sum_over_sequences"
     ],
     "language": "python",
     "metadata": {},
     "outputs": [
      {
       "metadata": {},
       "output_type": "pyout",
       "prompt_number": 102,
       "text": [
        "array([[   6.18933296,    4.22200012,   27.93600082,    0.        ,\n",
        "          45.60556793],\n",
        "       [   0.        ,    0.        ,  135.63398743,   22.02120399,\n",
        "          42.0132103 ]], dtype=float32)"
       ]
      }
     ],
     "prompt_number": 102
    },
    {
     "cell_type": "code",
     "collapsed": false,
     "input": [
      "sum_over_batches = sum_over_sequences.sum(axis=1)"
     ],
     "language": "python",
     "metadata": {},
     "outputs": [],
     "prompt_number": 103
    },
    {
     "cell_type": "code",
     "collapsed": false,
     "input": [
      "sum_over_batches = sum_over_batches.reshape(-1,1)\n",
      "sum_over_batches"
     ],
     "language": "python",
     "metadata": {},
     "outputs": [
      {
       "metadata": {},
       "output_type": "pyout",
       "prompt_number": 104,
       "text": [
        "array([[  83.95290375],\n",
        "       [ 199.66841125]], dtype=float32)"
       ]
      }
     ],
     "prompt_number": 104
    },
    {
     "cell_type": "code",
     "collapsed": false,
     "input": [
      "normed = sum_over_sequences / sum_over_batches\n",
      "normed"
     ],
     "language": "python",
     "metadata": {},
     "outputs": [
      {
       "metadata": {},
       "output_type": "pyout",
       "prompt_number": 105,
       "text": [
        "array([[ 0.07372387,  0.0502901 ,  0.33275801,  0.        ,  0.54322797],\n",
        "       [ 0.        ,  0.        ,  0.6792962 ,  0.11028887,  0.2104149 ]], dtype=float32)"
       ]
      }
     ],
     "prompt_number": 105
    },
    {
     "cell_type": "code",
     "collapsed": false,
     "input": [
      "normed[1,:].sum()"
     ],
     "language": "python",
     "metadata": {},
     "outputs": [
      {
       "metadata": {},
       "output_type": "pyout",
       "prompt_number": 108,
       "text": [
        "0.99999994"
       ]
      }
     ],
     "prompt_number": 108
    },
    {
     "cell_type": "code",
     "collapsed": false,
     "input": [
      "raw_cost.mean(axis=1)"
     ],
     "language": "python",
     "metadata": {},
     "outputs": [
      {
       "metadata": {},
       "output_type": "pyout",
       "prompt_number": 111,
       "text": [
        "array([[ 0.00975108,  0.01062885,  0.01111484,  0.00839669,  0.0100884 ],\n",
        "       [ 0.01061563,  0.01073628,  0.01170655,  0.01119199,  0.01029221]])"
       ]
      }
     ],
     "prompt_number": 111
    },
    {
     "cell_type": "code",
     "collapsed": false,
     "input": [
      "cost = raw_cost.mean(axis=1) * (1 - normed)\n",
      "cost"
     ],
     "language": "python",
     "metadata": {},
     "outputs": [
      {
       "metadata": {},
       "output_type": "pyout",
       "prompt_number": 122,
       "text": [
        "array([[ 0.00903219,  0.01009432,  0.00741628,  0.00839669,  0.0046081 ],\n",
        "       [ 0.01061563,  0.01073628,  0.00375433,  0.00995764,  0.00812658]])"
       ]
      }
     ],
     "prompt_number": 122
    },
    {
     "cell_type": "code",
     "collapsed": false,
     "input": [
      "cost.mean()"
     ],
     "language": "python",
     "metadata": {},
     "outputs": [
      {
       "metadata": {},
       "output_type": "pyout",
       "prompt_number": 123,
       "text": [
        "0.0082738055891949103"
       ]
      }
     ],
     "prompt_number": 123
    },
    {
     "cell_type": "code",
     "collapsed": false,
     "input": [
      "1 - normed"
     ],
     "language": "python",
     "metadata": {},
     "outputs": [
      {
       "metadata": {},
       "output_type": "pyout",
       "prompt_number": 119,
       "text": [
        "array([[ 0.92627615,  0.94970989,  0.66724199,  1.        ,  0.45677203],\n",
        "       [ 1.        ,  1.        ,  0.3207038 ,  0.88971114,  0.78958511]], dtype=float32)"
       ]
      }
     ],
     "prompt_number": 119
    },
    {
     "cell_type": "code",
     "collapsed": false,
     "input": [
      "normed / normed.sum(axis=1)"
     ],
     "language": "python",
     "metadata": {},
     "outputs": [
      {
       "ename": "ValueError",
       "evalue": "operands could not be broadcast together with shapes (2,5) (2,) ",
       "output_type": "pyerr",
       "traceback": [
        "\u001b[1;31m---------------------------------------------------------------------------\u001b[0m\n\u001b[1;31mValueError\u001b[0m                                Traceback (most recent call last)",
        "\u001b[1;32m<ipython-input-116-2eaea8a3dc75>\u001b[0m in \u001b[0;36m<module>\u001b[1;34m()\u001b[0m\n\u001b[1;32m----> 1\u001b[1;33m \u001b[0mnormed\u001b[0m \u001b[1;33m/\u001b[0m \u001b[0mnormed\u001b[0m\u001b[1;33m.\u001b[0m\u001b[0msum\u001b[0m\u001b[1;33m(\u001b[0m\u001b[0maxis\u001b[0m\u001b[1;33m=\u001b[0m\u001b[1;36m1\u001b[0m\u001b[1;33m)\u001b[0m\u001b[1;33m\u001b[0m\u001b[0m\n\u001b[0m",
        "\u001b[1;31mValueError\u001b[0m: operands could not be broadcast together with shapes (2,5) (2,) "
       ]
      }
     ],
     "prompt_number": 116
    },
    {
     "cell_type": "code",
     "collapsed": false,
     "input": [
      "normed.sum(axis=1)"
     ],
     "language": "python",
     "metadata": {},
     "outputs": [
      {
       "metadata": {},
       "output_type": "pyout",
       "prompt_number": 117,
       "text": [
        "array([ 0.99999994,  0.99999994], dtype=float32)"
       ]
      }
     ],
     "prompt_number": 117
    },
    {
     "cell_type": "code",
     "collapsed": false,
     "input": [],
     "language": "python",
     "metadata": {},
     "outputs": []
    }
   ],
   "metadata": {}
  }
 ]
}