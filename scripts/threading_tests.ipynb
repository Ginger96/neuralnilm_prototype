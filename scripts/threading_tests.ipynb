{
 "metadata": {
  "name": "",
  "signature": "sha256:44672306f2fa819cfd90744371484fe7929d4add2d216bcca4b097509ef91b5e"
 },
 "nbformat": 3,
 "nbformat_minor": 0,
 "worksheets": [
  {
   "cells": [
    {
     "cell_type": "code",
     "collapsed": false,
     "input": [
      "from Queue import Queue\n",
      "import threading\n",
      "import time"
     ],
     "language": "python",
     "metadata": {},
     "outputs": [],
     "prompt_number": 1
    },
    {
     "cell_type": "code",
     "collapsed": false,
     "input": [
      "Queue?"
     ],
     "language": "python",
     "metadata": {},
     "outputs": [],
     "prompt_number": 2
    },
    {
     "cell_type": "code",
     "collapsed": false,
     "input": [
      "class Source(threading.Thread):\n",
      "    def __init__(self):\n",
      "        super(Source, self).__init__()\n",
      "        self.queue = Queue(2)\n",
      "        self._stop = threading.Event()\n",
      "        \n",
      "    def run(self):\n",
      "        \"\"\"Puts training data into a Queue\"\"\"\n",
      "        self._stop.unSet()\n",
      "        while not self._stop.isSet():\n",
      "            self.queue.put(self._gen_data())\n",
      "            \n",
      "    def stop(self):\n",
      "        self.queue.get()\n",
      "        self._stop.set()\n",
      "        \n",
      "    def validation_data(self):\n",
      "        return self._get_data(validation=True)\n",
      "\n",
      "    def _gen_data(self, validation=False):\n",
      "        raise NotImplementedError()\n",
      "\n",
      "    def input_shape(self):\n",
      "        raise NotImplementedError()\n",
      "        \n",
      "    def output_shape(self):\n",
      "        raise NotImplementedError()\n",
      "        \n",
      "class NILMSource(Source):\n",
      "    SEQ_LENGTH = 14400\n",
      "    \n",
      "    \n",
      "    def _gen_data(self, validation=False):\n",
      "        data = None, None # just for testing\n",
      "        return data\n",
      "    \n",
      "    \n",
      "\n",
      "class Net(object):\n",
      "    def __init__(self, source):\n",
      "        self.source = source\n",
      "        self.input_shape = source.input_shape()\n",
      "        self.output_shape = source.output_shape()\n",
      "        \n",
      "    def train(self, n_iterations=100):\n",
      "        self.source.run()\n",
      "        try:\n",
      "            for i in range(n_iterations):\n",
      "                print self.source.queue.get()\n",
      "        except KeyboardInterrupt as e:\n",
      "            print(e)\n",
      "        finally:\n",
      "            self.source.stop()\n",
      "            self.source.join()"
     ],
     "language": "python",
     "metadata": {},
     "outputs": [],
     "prompt_number": 3
    },
    {
     "cell_type": "code",
     "collapsed": false,
     "input": [
      "src = Source()\n",
      "src.start()"
     ],
     "language": "python",
     "metadata": {},
     "outputs": [],
     "prompt_number": 4
    },
    {
     "cell_type": "code",
     "collapsed": false,
     "input": [
      "sink()"
     ],
     "language": "python",
     "metadata": {},
     "outputs": [
      {
       "output_type": "stream",
       "stream": "stdout",
       "text": [
        "1422986310.59\n",
        "1422986310.59"
       ]
      },
      {
       "output_type": "stream",
       "stream": "stdout",
       "text": [
        "\n",
        "1422986311.54"
       ]
      },
      {
       "output_type": "stream",
       "stream": "stdout",
       "text": [
        "\n",
        "1422986312.54"
       ]
      },
      {
       "output_type": "stream",
       "stream": "stdout",
       "text": [
        "\n",
        "1422986313.54"
       ]
      },
      {
       "output_type": "stream",
       "stream": "stdout",
       "text": [
        "\n"
       ]
      }
     ],
     "prompt_number": 5
    },
    {
     "cell_type": "code",
     "collapsed": false,
     "input": [
      "src.stop()\n",
      "src.join()"
     ],
     "language": "python",
     "metadata": {},
     "outputs": [],
     "prompt_number": 6
    },
    {
     "cell_type": "code",
     "collapsed": false,
     "input": [
      "q.put?"
     ],
     "language": "python",
     "metadata": {},
     "outputs": [],
     "prompt_number": 3
    },
    {
     "cell_type": "code",
     "collapsed": false,
     "input": [
      "q."
     ],
     "language": "python",
     "metadata": {},
     "outputs": [],
     "prompt_number": 3
    },
    {
     "cell_type": "code",
     "collapsed": false,
     "input": [],
     "language": "python",
     "metadata": {},
     "outputs": []
    }
   ],
   "metadata": {}
  }
 ]
}