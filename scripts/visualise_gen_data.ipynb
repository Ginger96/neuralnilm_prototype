{
 "metadata": {
  "name": "",
  "signature": "sha256:b83d0f56ab225652be017cafd32a79ff1fee2ce7ba3100a7ef3d86b231d16b7b"
 },
 "nbformat": 3,
 "nbformat_minor": 0,
 "worksheets": [
  {
   "cells": [
    {
     "cell_type": "code",
     "collapsed": false,
     "input": [
      "from __future__ import print_function, division\n",
      "import matplotlib.pyplot as plt\n",
      "import numpy as np\n",
      "from experiment035 import gen_data, gen_unquantized_data\n",
      "from nilmtk import DataSet, MeterGroup"
     ],
     "language": "python",
     "metadata": {},
     "outputs": [],
     "prompt_number": 24
    },
    {
     "cell_type": "code",
     "collapsed": false,
     "input": [
      "dataset = DataSet('/data/mine/vadeec/merged/ukdale.h5')\n",
      "elec = dataset.buildings[1].elec\n",
      "APPLIANCES = ['boiler', 'television']\n",
      "selected_meters = [elec[appliance] for appliance in APPLIANCES]\n",
      "selected = MeterGroup(selected_meters)"
     ],
     "language": "python",
     "metadata": {},
     "outputs": [],
     "prompt_number": 25
    },
    {
     "cell_type": "code",
     "collapsed": false,
     "input": [
      "# Generate a \"validation\" sequence whose cost we will compute\n",
      "X_val, y_val = gen_unquantized_data(metergroup=selected, validation=False)"
     ],
     "language": "python",
     "metadata": {},
     "outputs": [
      {
       "output_type": "stream",
       "stream": "stdout",
       "text": [
        "Skipping 2014-01-22 00:00:00\n"
       ]
      }
     ],
     "prompt_number": 26
    },
    {
     "cell_type": "code",
     "collapsed": false,
     "input": [
      "plt.plot(y_val[4,:,0])\n",
      "plt.show()"
     ],
     "language": "python",
     "metadata": {},
     "outputs": [],
     "prompt_number": 27
    },
    {
     "cell_type": "code",
     "collapsed": false,
     "input": [
      "y_val[0,:,0]"
     ],
     "language": "python",
     "metadata": {},
     "outputs": [
      {
       "metadata": {},
       "output_type": "pyout",
       "prompt_number": 12,
       "text": [
        "array([ 0.005,  0.   ,  0.   , ...,  0.   ,  0.   , -0.005])"
       ]
      }
     ],
     "prompt_number": 12
    },
    {
     "cell_type": "code",
     "collapsed": false,
     "input": [
      "plt.plot(X_val[4,:,1])\n",
      "plt.show()"
     ],
     "language": "python",
     "metadata": {},
     "outputs": [],
     "prompt_number": 28
    },
    {
     "cell_type": "code",
     "collapsed": false,
     "input": [
      "q = quantized(X)"
     ],
     "language": "python",
     "metadata": {},
     "outputs": [],
     "prompt_number": 3
    },
    {
     "cell_type": "code",
     "collapsed": false,
     "input": [
      "X[0,3,:]"
     ],
     "language": "python",
     "metadata": {},
     "outputs": [
      {
       "metadata": {},
       "output_type": "pyout",
       "prompt_number": 7,
       "text": [
        "array([-0.5])"
       ]
      }
     ],
     "prompt_number": 7
    },
    {
     "cell_type": "code",
     "collapsed": false,
     "input": [
      "import pandas as pd\n",
      "from datetime import timedelta\n",
      "FIRST_DAY = pd.Timestamp(\"2013-04-12\")\n",
      "start = FIRST_DAY + timedelta(days=605)\n",
      "dataset.set_window(start, start+timedelta(days=1))\n",
      "selected.plot()\n",
      "plt.show()"
     ],
     "language": "python",
     "metadata": {},
     "outputs": [],
     "prompt_number": 31
    },
    {
     "cell_type": "code",
     "collapsed": false,
     "input": [
      "q[0,3,:]"
     ],
     "language": "python",
     "metadata": {},
     "outputs": [
      {
       "metadata": {},
       "output_type": "pyout",
       "prompt_number": 8,
       "text": [
        "array([-1., -1.,  1.,  1.,  1., -1., -1., -1., -1., -1.])"
       ]
      }
     ],
     "prompt_number": 8
    },
    {
     "cell_type": "code",
     "collapsed": false,
     "input": [
      "where = np.where(q==1)[0][0]\n",
      "if where > 5:\n",
      "    q[5:where] = 1\n",
      "elif where < 5:\n",
      "    q[where:5] == 1"
     ],
     "language": "python",
     "metadata": {},
     "outputs": [],
     "prompt_number": 11
    },
    {
     "cell_type": "code",
     "collapsed": false,
     "input": [
      "X"
     ],
     "language": "python",
     "metadata": {},
     "outputs": [
      {
       "metadata": {},
       "output_type": "pyout",
       "prompt_number": 13,
       "text": [
        "array([[[ 0.  ],\n",
        "        [ 0.75],\n",
        "        [ 0.  ],\n",
        "        ..., \n",
        "        [ 0.  ],\n",
        "        [ 0.  ],\n",
        "        [ 0.  ]],\n",
        "\n",
        "       [[ 0.  ],\n",
        "        [ 0.  ],\n",
        "        [ 0.  ],\n",
        "        ..., \n",
        "        [ 0.25],\n",
        "        [ 0.  ],\n",
        "        [ 0.  ]],\n",
        "\n",
        "       [[ 0.25],\n",
        "        [ 0.  ],\n",
        "        [ 0.  ],\n",
        "        ..., \n",
        "        [ 0.  ],\n",
        "        [ 0.  ],\n",
        "        [-0.25]],\n",
        "\n",
        "       ..., \n",
        "       [[ 0.  ],\n",
        "        [-0.75],\n",
        "        [ 0.  ],\n",
        "        ..., \n",
        "        [ 0.  ],\n",
        "        [ 0.  ],\n",
        "        [ 0.  ]],\n",
        "\n",
        "       [[ 0.25],\n",
        "        [ 0.  ],\n",
        "        [ 0.  ],\n",
        "        ..., \n",
        "        [ 0.  ],\n",
        "        [ 0.  ],\n",
        "        [ 0.  ]],\n",
        "\n",
        "       [[ 0.  ],\n",
        "        [ 0.  ],\n",
        "        [ 0.  ],\n",
        "        ..., \n",
        "        [ 0.  ],\n",
        "        [ 0.  ],\n",
        "        [-0.25]]])"
       ]
      }
     ],
     "prompt_number": 13
    },
    {
     "cell_type": "code",
     "collapsed": false,
     "input": [
      "plt.plot(y[0])\n",
      "plt.show()"
     ],
     "language": "python",
     "metadata": {},
     "outputs": [],
     "prompt_number": 3
    },
    {
     "cell_type": "code",
     "collapsed": false,
     "input": [
      "X[0]"
     ],
     "language": "python",
     "metadata": {},
     "outputs": [
      {
       "metadata": {},
       "output_type": "pyout",
       "prompt_number": 37,
       "text": [
        "array([[-1., -1., -1., ..., -1., -1., -1.],\n",
        "       [-1., -1., -1., ..., -1., -1., -1.],\n",
        "       [-1., -1., -1., ..., -1.,  1., -1.],\n",
        "       ..., \n",
        "       [-1., -1., -1., ..., -1., -1., -1.],\n",
        "       [-1., -1., -1., ..., -1., -1., -1.],\n",
        "       [-1., -1., -1., ..., -1., -1., -1.]])"
       ]
      }
     ],
     "prompt_number": 37
    },
    {
     "cell_type": "code",
     "collapsed": false,
     "input": [
      "plt.plot(np.cumsum(y, axis=1)[0,:,:])\n",
      "plt.show()"
     ],
     "language": "python",
     "metadata": {},
     "outputs": [],
     "prompt_number": 17
    },
    {
     "cell_type": "code",
     "collapsed": false,
     "input": [
      "np.mean(((np.cumsum(y, axis=1) - np.cumsum(y+1, axis=1)) / 1000)**2)"
     ],
     "language": "python",
     "metadata": {},
     "outputs": [
      {
       "metadata": {},
       "output_type": "pyout",
       "prompt_number": 25,
       "text": [
        "0.053533500000000005"
       ]
      }
     ],
     "prompt_number": 25
    },
    {
     "cell_type": "code",
     "collapsed": false,
     "input": [
      "np.cumsum(y+0.6, axis=1)"
     ],
     "language": "python",
     "metadata": {},
     "outputs": [
      {
       "metadata": {},
       "output_type": "pyout",
       "prompt_number": 23,
       "text": [
        "array([[[   0.6       ],\n",
        "        [   1.2       ],\n",
        "        [   1.8       ],\n",
        "        ..., \n",
        "        [ 238.8       ],\n",
        "        [ 239.73333333],\n",
        "        [ 240.33333333]],\n",
        "\n",
        "       [[   0.6       ],\n",
        "        [   1.53333333],\n",
        "        [   2.13333333],\n",
        "        ..., \n",
        "        [ 238.8       ],\n",
        "        [ 239.4       ],\n",
        "        [ 240.        ]],\n",
        "\n",
        "       [[   0.6       ],\n",
        "        [   1.2       ],\n",
        "        [   2.13333333],\n",
        "        ..., \n",
        "        [ 238.8       ],\n",
        "        [ 239.4       ],\n",
        "        [ 240.        ]],\n",
        "\n",
        "       ..., \n",
        "       [[   0.6       ],\n",
        "        [   1.2       ],\n",
        "        [   1.8       ],\n",
        "        ..., \n",
        "        [ 238.8       ],\n",
        "        [ 239.4       ],\n",
        "        [ 240.        ]],\n",
        "\n",
        "       [[   0.93333333],\n",
        "        [   1.53333333],\n",
        "        [   2.13333333],\n",
        "        ..., \n",
        "        [ 238.8       ],\n",
        "        [ 239.4       ],\n",
        "        [ 240.        ]],\n",
        "\n",
        "       [[   0.6       ],\n",
        "        [   1.2       ],\n",
        "        [   1.8       ],\n",
        "        ..., \n",
        "        [ 238.8       ],\n",
        "        [ 239.4       ],\n",
        "        [ 240.        ]]])"
       ]
      }
     ],
     "prompt_number": 23
    },
    {
     "cell_type": "code",
     "collapsed": false,
     "input": [
      "np.linspace(-1, 1, 11)"
     ],
     "language": "python",
     "metadata": {},
     "outputs": [
      {
       "metadata": {},
       "output_type": "pyout",
       "prompt_number": 10,
       "text": [
        "array([-1. , -0.8, -0.6, -0.4, -0.2,  0. ,  0.2,  0.4,  0.6,  0.8,  1. ])"
       ]
      }
     ],
     "prompt_number": 10
    },
    {
     "cell_type": "code",
     "collapsed": false,
     "input": [
      "np.histogram?"
     ],
     "language": "python",
     "metadata": {},
     "outputs": [],
     "prompt_number": 11
    },
    {
     "cell_type": "code",
     "collapsed": false,
     "input": [],
     "language": "python",
     "metadata": {},
     "outputs": []
    }
   ],
   "metadata": {}
  }
 ]
}